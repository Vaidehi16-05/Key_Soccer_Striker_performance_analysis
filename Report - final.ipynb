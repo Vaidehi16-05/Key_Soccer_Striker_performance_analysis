{
 "cells": [
  {
   "cell_type": "markdown",
   "id": "044961f9-ae0c-400e-b14c-115962134ecd",
   "metadata": {},
   "source": [
    "# The Ronaldo Effect"
   ]
  },
  {
   "cell_type": "markdown",
   "id": "8bfbab69-757c-4ace-ba96-df5504602f72",
   "metadata": {
    "tags": []
   },
   "source": [
    "<center><img src=\"ronaldo-cristiano-ronaldo.gif\" width=\"750\" height=\"650\" /></center><br />"
   ]
  },
  {
   "cell_type": "markdown",
   "id": "3825f8fe-d4bc-4247-a4af-712c286490cc",
   "metadata": {},
   "source": [
    "## Introduction\n",
    "---"
   ]
  },
  {
   "cell_type": "markdown",
   "id": "c15e415a",
   "metadata": {},
   "source": [
    "<b>Cristiano Ronaldo dos Santos Aveiro</b>\n",
    "\n",
    "- One of the best strikers in the world of football, Cristiano Ronaldo, began playing for the Portuguese team Sporting CP at age 17. He got a contract with Manchester United football club a year later. He has also played for a spanish club Real Madrid and an italian club Juventus. He is a Portuguese professional footballer who plays as a forward for Premier League club Manchester United and captains the Portugal national team.\n",
    "\n",
    "\n",
    "- He currently holds the record for the most number of goals scored in the world.\n",
    " \n",
    "- Current team: Portugal national football team (#7 / Forward) Trending\n",
    "                                               \n",
    "- Born: February 5, 1985 (age 37 years), Hospital Dr. Nélio Mendonça, Funchal, Portugal\n",
    "- Height: 1.87 m\n",
    "- Partner: Georgina Rodríguez (2017–)\n",
    "- Salary: 26.52 million GBP (2022)\n",
    "- Children: Cristiano Ronaldo Jr., Alana Martina dos Santos Aveiro, Eva Maria Dos Santos, Mateo Ronaldo\n",
    "\n",
    "<b>Manchester United</b>\n",
    "\n",
    "- One of the greatest football clubs in the history of the sport that competes in the Premier League. The club currently holds the record for winning 13 Premier League titles.\n",
    "\n",
    "<b>The Premier League</b>:\n",
    "- The Premier League is the top tier of England's football pyramid, with 20 teams battling it out for the honour of being crowned English champions.\n",
    "\n",
    "- It is also the most-watched league on the planet with one billion homes watching the action in 188 countries. A home to some of the most famous clubs, players, managers and stadiums in world football, one of them being Manchester United.\n",
    "\n",
    "<b> Football</b>\n",
    "\n",
    "- Football is a two-team sport with a maximum of 11 players on each squad. Each game consists of two 45-minute halves separated by a 15 minutes break. A football match, however, does not finish in 90 minutes. Due to substitution, injuries, and disciplinary actions, it occasionally lasts longer.\n",
    "\n",
    "- One of the most thrilling positions in football is forward. The goal of the forward is to score and to put pressure on their opponents to make errors. In addition, great forward players need good dribbling, shooting and heading skills."
   ]
  },
  {
   "cell_type": "markdown",
   "id": "3a95b361-8caa-4447-8715-8394c75cdb1a",
   "metadata": {
    "tags": []
   },
   "source": [
    "## Objectives\n",
    "---"
   ]
  },
  {
   "cell_type": "markdown",
   "id": "50e25c8a",
   "metadata": {},
   "source": [
    "<div style=\"width:100%;\"> <!-- Main Div -->\n",
    "<div style=\"float:left; width:36%; margin-right:50px;\">\n",
    "    <img src=\"soccer-mag.jpeg\" alt=\"Soccer Magzine\" >\n",
    "</div>\n",
    "<div style=\"margin-left:5px;\">\n",
    "<h3>As a group of data analysts, we have been hired by the 'World Soccer' sports magazine.\n",
    "Amid the thrilling matches of the FIFA World Cup, the management wants us to release a detailed report on Cristiano Ronaldo using data driven insights to attract and engage the audience.</h3><br>\n",
    "\n",
    "We have tried to put up the whole story by connecting different parts of his career and drilling down into his statistics for the different teams he has played for. Our main objectives are:\n",
    "\n",
    "    1. How has Manchester United's performance been over the last 20 years and how has Ronaldo been a huge contribution.\n",
    "    \n",
    "    2. Determine how playing matches on the home ground affected the winni-ng probability for Manchester Untited during the period where Ronaldo  played for them  vs the period he did not.\n",
    "    \n",
    "    We are interested in analysing how Ronaldo's performance boosted Manchester United's winning probability when was playing at the home ground. We will  be comparing the percentages between (2003-2009) and remaining seasons data for the club as a metric to add value.\n",
    "    \n",
    "    3. What does the trajectory of Ronaldo's career look like?\n",
    "   \n",
    "    4. Drilling down to one his best performances in a season i.e 2017/18  for Real Madrid, we try to analyse the pattern of how he scores goals.\n",
    " \n",
    "    \n",
    "    \n",
    "<br>\n",
    "These questions help us to understand Ronaldo's career as a whole and how he helped Manchester United club to dominate the football world. We will be using winning probability at the home ground as a metric to assess his impact on Manchester United. This report will immensely help Manchester United's new business committee to make strategic decisions while acquiring players in the future. For sure, there will be no other player like him, but there is always a question of who has the potential to replace him after his retirement.\n",
    "\n",
    "</div>\n",
    "</div>"
   ]
  },
  {
   "cell_type": "markdown",
   "id": "47927e3b",
   "metadata": {},
   "source": [
    "## Datasets and Importing Libraries\n",
    "---"
   ]
  },
  {
   "cell_type": "code",
   "execution_count": 1,
   "id": "6c96110c-8bf9-4589-8d65-765be209d16a",
   "metadata": {},
   "outputs": [
    {
     "data": {
      "text/html": [
       "\n",
       "    <div class=\"bk-root\">\n",
       "        <a href=\"https://bokeh.org\" target=\"_blank\" class=\"bk-logo bk-logo-small bk-logo-notebook\"></a>\n",
       "        <span id=\"1002\">Loading BokehJS ...</span>\n",
       "    </div>"
      ]
     },
     "metadata": {},
     "output_type": "display_data"
    },
    {
     "data": {
      "application/javascript": [
       "\n",
       "(function(root) {\n",
       "  function now() {\n",
       "    return new Date();\n",
       "  }\n",
       "\n",
       "  const force = true;\n",
       "\n",
       "  if (typeof root._bokeh_onload_callbacks === \"undefined\" || force === true) {\n",
       "    root._bokeh_onload_callbacks = [];\n",
       "    root._bokeh_is_loading = undefined;\n",
       "  }\n",
       "\n",
       "  const JS_MIME_TYPE = 'application/javascript';\n",
       "  const HTML_MIME_TYPE = 'text/html';\n",
       "  const EXEC_MIME_TYPE = 'application/vnd.bokehjs_exec.v0+json';\n",
       "  const CLASS_NAME = 'output_bokeh rendered_html';\n",
       "\n",
       "  /**\n",
       "   * Render data to the DOM node\n",
       "   */\n",
       "  function render(props, node) {\n",
       "    const script = document.createElement(\"script\");\n",
       "    node.appendChild(script);\n",
       "  }\n",
       "\n",
       "  /**\n",
       "   * Handle when an output is cleared or removed\n",
       "   */\n",
       "  function handleClearOutput(event, handle) {\n",
       "    const cell = handle.cell;\n",
       "\n",
       "    const id = cell.output_area._bokeh_element_id;\n",
       "    const server_id = cell.output_area._bokeh_server_id;\n",
       "    // Clean up Bokeh references\n",
       "    if (id != null && id in Bokeh.index) {\n",
       "      Bokeh.index[id].model.document.clear();\n",
       "      delete Bokeh.index[id];\n",
       "    }\n",
       "\n",
       "    if (server_id !== undefined) {\n",
       "      // Clean up Bokeh references\n",
       "      const cmd_clean = \"from bokeh.io.state import curstate; print(curstate().uuid_to_server['\" + server_id + \"'].get_sessions()[0].document.roots[0]._id)\";\n",
       "      cell.notebook.kernel.execute(cmd_clean, {\n",
       "        iopub: {\n",
       "          output: function(msg) {\n",
       "            const id = msg.content.text.trim();\n",
       "            if (id in Bokeh.index) {\n",
       "              Bokeh.index[id].model.document.clear();\n",
       "              delete Bokeh.index[id];\n",
       "            }\n",
       "          }\n",
       "        }\n",
       "      });\n",
       "      // Destroy server and session\n",
       "      const cmd_destroy = \"import bokeh.io.notebook as ion; ion.destroy_server('\" + server_id + \"')\";\n",
       "      cell.notebook.kernel.execute(cmd_destroy);\n",
       "    }\n",
       "  }\n",
       "\n",
       "  /**\n",
       "   * Handle when a new output is added\n",
       "   */\n",
       "  function handleAddOutput(event, handle) {\n",
       "    const output_area = handle.output_area;\n",
       "    const output = handle.output;\n",
       "\n",
       "    // limit handleAddOutput to display_data with EXEC_MIME_TYPE content only\n",
       "    if ((output.output_type != \"display_data\") || (!Object.prototype.hasOwnProperty.call(output.data, EXEC_MIME_TYPE))) {\n",
       "      return\n",
       "    }\n",
       "\n",
       "    const toinsert = output_area.element.find(\".\" + CLASS_NAME.split(' ')[0]);\n",
       "\n",
       "    if (output.metadata[EXEC_MIME_TYPE][\"id\"] !== undefined) {\n",
       "      toinsert[toinsert.length - 1].firstChild.textContent = output.data[JS_MIME_TYPE];\n",
       "      // store reference to embed id on output_area\n",
       "      output_area._bokeh_element_id = output.metadata[EXEC_MIME_TYPE][\"id\"];\n",
       "    }\n",
       "    if (output.metadata[EXEC_MIME_TYPE][\"server_id\"] !== undefined) {\n",
       "      const bk_div = document.createElement(\"div\");\n",
       "      bk_div.innerHTML = output.data[HTML_MIME_TYPE];\n",
       "      const script_attrs = bk_div.children[0].attributes;\n",
       "      for (let i = 0; i < script_attrs.length; i++) {\n",
       "        toinsert[toinsert.length - 1].firstChild.setAttribute(script_attrs[i].name, script_attrs[i].value);\n",
       "        toinsert[toinsert.length - 1].firstChild.textContent = bk_div.children[0].textContent\n",
       "      }\n",
       "      // store reference to server id on output_area\n",
       "      output_area._bokeh_server_id = output.metadata[EXEC_MIME_TYPE][\"server_id\"];\n",
       "    }\n",
       "  }\n",
       "\n",
       "  function register_renderer(events, OutputArea) {\n",
       "\n",
       "    function append_mime(data, metadata, element) {\n",
       "      // create a DOM node to render to\n",
       "      const toinsert = this.create_output_subarea(\n",
       "        metadata,\n",
       "        CLASS_NAME,\n",
       "        EXEC_MIME_TYPE\n",
       "      );\n",
       "      this.keyboard_manager.register_events(toinsert);\n",
       "      // Render to node\n",
       "      const props = {data: data, metadata: metadata[EXEC_MIME_TYPE]};\n",
       "      render(props, toinsert[toinsert.length - 1]);\n",
       "      element.append(toinsert);\n",
       "      return toinsert\n",
       "    }\n",
       "\n",
       "    /* Handle when an output is cleared or removed */\n",
       "    events.on('clear_output.CodeCell', handleClearOutput);\n",
       "    events.on('delete.Cell', handleClearOutput);\n",
       "\n",
       "    /* Handle when a new output is added */\n",
       "    events.on('output_added.OutputArea', handleAddOutput);\n",
       "\n",
       "    /**\n",
       "     * Register the mime type and append_mime function with output_area\n",
       "     */\n",
       "    OutputArea.prototype.register_mime_type(EXEC_MIME_TYPE, append_mime, {\n",
       "      /* Is output safe? */\n",
       "      safe: true,\n",
       "      /* Index of renderer in `output_area.display_order` */\n",
       "      index: 0\n",
       "    });\n",
       "  }\n",
       "\n",
       "  // register the mime type if in Jupyter Notebook environment and previously unregistered\n",
       "  if (root.Jupyter !== undefined) {\n",
       "    const events = require('base/js/events');\n",
       "    const OutputArea = require('notebook/js/outputarea').OutputArea;\n",
       "\n",
       "    if (OutputArea.prototype.mime_types().indexOf(EXEC_MIME_TYPE) == -1) {\n",
       "      register_renderer(events, OutputArea);\n",
       "    }\n",
       "  }\n",
       "\n",
       "  \n",
       "  if (typeof (root._bokeh_timeout) === \"undefined\" || force === true) {\n",
       "    root._bokeh_timeout = Date.now() + 5000;\n",
       "    root._bokeh_failed_load = false;\n",
       "  }\n",
       "\n",
       "  const NB_LOAD_WARNING = {'data': {'text/html':\n",
       "     \"<div style='background-color: #fdd'>\\n\"+\n",
       "     \"<p>\\n\"+\n",
       "     \"BokehJS does not appear to have successfully loaded. If loading BokehJS from CDN, this \\n\"+\n",
       "     \"may be due to a slow or bad network connection. Possible fixes:\\n\"+\n",
       "     \"</p>\\n\"+\n",
       "     \"<ul>\\n\"+\n",
       "     \"<li>re-rerun `output_notebook()` to attempt to load from CDN again, or</li>\\n\"+\n",
       "     \"<li>use INLINE resources instead, as so:</li>\\n\"+\n",
       "     \"</ul>\\n\"+\n",
       "     \"<code>\\n\"+\n",
       "     \"from bokeh.resources import INLINE\\n\"+\n",
       "     \"output_notebook(resources=INLINE)\\n\"+\n",
       "     \"</code>\\n\"+\n",
       "     \"</div>\"}};\n",
       "\n",
       "  function display_loaded() {\n",
       "    const el = document.getElementById(\"1002\");\n",
       "    if (el != null) {\n",
       "      el.textContent = \"BokehJS is loading...\";\n",
       "    }\n",
       "    if (root.Bokeh !== undefined) {\n",
       "      if (el != null) {\n",
       "        el.textContent = \"BokehJS \" + root.Bokeh.version + \" successfully loaded.\";\n",
       "      }\n",
       "    } else if (Date.now() < root._bokeh_timeout) {\n",
       "      setTimeout(display_loaded, 100)\n",
       "    }\n",
       "  }\n",
       "\n",
       "\n",
       "  function run_callbacks() {\n",
       "    try {\n",
       "      root._bokeh_onload_callbacks.forEach(function(callback) {\n",
       "        if (callback != null)\n",
       "          callback();\n",
       "      });\n",
       "    } finally {\n",
       "      delete root._bokeh_onload_callbacks\n",
       "    }\n",
       "    console.debug(\"Bokeh: all callbacks have finished\");\n",
       "  }\n",
       "\n",
       "  function load_libs(css_urls, js_urls, callback) {\n",
       "    if (css_urls == null) css_urls = [];\n",
       "    if (js_urls == null) js_urls = [];\n",
       "\n",
       "    root._bokeh_onload_callbacks.push(callback);\n",
       "    if (root._bokeh_is_loading > 0) {\n",
       "      console.debug(\"Bokeh: BokehJS is being loaded, scheduling callback at\", now());\n",
       "      return null;\n",
       "    }\n",
       "    if (js_urls == null || js_urls.length === 0) {\n",
       "      run_callbacks();\n",
       "      return null;\n",
       "    }\n",
       "    console.debug(\"Bokeh: BokehJS not loaded, scheduling load and callback at\", now());\n",
       "    root._bokeh_is_loading = css_urls.length + js_urls.length;\n",
       "\n",
       "    function on_load() {\n",
       "      root._bokeh_is_loading--;\n",
       "      if (root._bokeh_is_loading === 0) {\n",
       "        console.debug(\"Bokeh: all BokehJS libraries/stylesheets loaded\");\n",
       "        run_callbacks()\n",
       "      }\n",
       "    }\n",
       "\n",
       "    function on_error(url) {\n",
       "      console.error(\"failed to load \" + url);\n",
       "    }\n",
       "\n",
       "    for (let i = 0; i < css_urls.length; i++) {\n",
       "      const url = css_urls[i];\n",
       "      const element = document.createElement(\"link\");\n",
       "      element.onload = on_load;\n",
       "      element.onerror = on_error.bind(null, url);\n",
       "      element.rel = \"stylesheet\";\n",
       "      element.type = \"text/css\";\n",
       "      element.href = url;\n",
       "      console.debug(\"Bokeh: injecting link tag for BokehJS stylesheet: \", url);\n",
       "      document.body.appendChild(element);\n",
       "    }\n",
       "\n",
       "    for (let i = 0; i < js_urls.length; i++) {\n",
       "      const url = js_urls[i];\n",
       "      const element = document.createElement('script');\n",
       "      element.onload = on_load;\n",
       "      element.onerror = on_error.bind(null, url);\n",
       "      element.async = false;\n",
       "      element.src = url;\n",
       "      console.debug(\"Bokeh: injecting script tag for BokehJS library: \", url);\n",
       "      document.head.appendChild(element);\n",
       "    }\n",
       "  };\n",
       "\n",
       "  function inject_raw_css(css) {\n",
       "    const element = document.createElement(\"style\");\n",
       "    element.appendChild(document.createTextNode(css));\n",
       "    document.body.appendChild(element);\n",
       "  }\n",
       "\n",
       "  \n",
       "  const js_urls = [\"https://cdn.bokeh.org/bokeh/release/bokeh-2.4.2.min.js\", \"https://cdn.bokeh.org/bokeh/release/bokeh-gl-2.4.2.min.js\", \"https://cdn.bokeh.org/bokeh/release/bokeh-widgets-2.4.2.min.js\", \"https://cdn.bokeh.org/bokeh/release/bokeh-tables-2.4.2.min.js\", \"https://cdn.bokeh.org/bokeh/release/bokeh-mathjax-2.4.2.min.js\"];\n",
       "  const css_urls = [];\n",
       "  \n",
       "\n",
       "  const inline_js = [\n",
       "    function(Bokeh) {\n",
       "      Bokeh.set_log_level(\"info\");\n",
       "    },\n",
       "    function(Bokeh) {\n",
       "    \n",
       "    \n",
       "    }\n",
       "  ];\n",
       "\n",
       "  function run_inline_js() {\n",
       "    \n",
       "    if (root.Bokeh !== undefined || force === true) {\n",
       "      \n",
       "    for (let i = 0; i < inline_js.length; i++) {\n",
       "      inline_js[i].call(root, root.Bokeh);\n",
       "    }\n",
       "    if (force === true) {\n",
       "        display_loaded();\n",
       "      }} else if (Date.now() < root._bokeh_timeout) {\n",
       "      setTimeout(run_inline_js, 100);\n",
       "    } else if (!root._bokeh_failed_load) {\n",
       "      console.log(\"Bokeh: BokehJS failed to load within specified timeout.\");\n",
       "      root._bokeh_failed_load = true;\n",
       "    } else if (force !== true) {\n",
       "      const cell = $(document.getElementById(\"1002\")).parents('.cell').data().cell;\n",
       "      cell.output_area.append_execute_result(NB_LOAD_WARNING)\n",
       "    }\n",
       "\n",
       "  }\n",
       "\n",
       "  if (root._bokeh_is_loading === 0) {\n",
       "    console.debug(\"Bokeh: BokehJS loaded, going straight to plotting\");\n",
       "    run_inline_js();\n",
       "  } else {\n",
       "    load_libs(css_urls, js_urls, function() {\n",
       "      console.debug(\"Bokeh: BokehJS plotting callback run at\", now());\n",
       "      run_inline_js();\n",
       "    });\n",
       "  }\n",
       "}(window));"
      ],
      "application/vnd.bokehjs_load.v0+json": "\n(function(root) {\n  function now() {\n    return new Date();\n  }\n\n  const force = true;\n\n  if (typeof root._bokeh_onload_callbacks === \"undefined\" || force === true) {\n    root._bokeh_onload_callbacks = [];\n    root._bokeh_is_loading = undefined;\n  }\n\n  \n\n  \n  if (typeof (root._bokeh_timeout) === \"undefined\" || force === true) {\n    root._bokeh_timeout = Date.now() + 5000;\n    root._bokeh_failed_load = false;\n  }\n\n  const NB_LOAD_WARNING = {'data': {'text/html':\n     \"<div style='background-color: #fdd'>\\n\"+\n     \"<p>\\n\"+\n     \"BokehJS does not appear to have successfully loaded. If loading BokehJS from CDN, this \\n\"+\n     \"may be due to a slow or bad network connection. Possible fixes:\\n\"+\n     \"</p>\\n\"+\n     \"<ul>\\n\"+\n     \"<li>re-rerun `output_notebook()` to attempt to load from CDN again, or</li>\\n\"+\n     \"<li>use INLINE resources instead, as so:</li>\\n\"+\n     \"</ul>\\n\"+\n     \"<code>\\n\"+\n     \"from bokeh.resources import INLINE\\n\"+\n     \"output_notebook(resources=INLINE)\\n\"+\n     \"</code>\\n\"+\n     \"</div>\"}};\n\n  function display_loaded() {\n    const el = document.getElementById(\"1002\");\n    if (el != null) {\n      el.textContent = \"BokehJS is loading...\";\n    }\n    if (root.Bokeh !== undefined) {\n      if (el != null) {\n        el.textContent = \"BokehJS \" + root.Bokeh.version + \" successfully loaded.\";\n      }\n    } else if (Date.now() < root._bokeh_timeout) {\n      setTimeout(display_loaded, 100)\n    }\n  }\n\n\n  function run_callbacks() {\n    try {\n      root._bokeh_onload_callbacks.forEach(function(callback) {\n        if (callback != null)\n          callback();\n      });\n    } finally {\n      delete root._bokeh_onload_callbacks\n    }\n    console.debug(\"Bokeh: all callbacks have finished\");\n  }\n\n  function load_libs(css_urls, js_urls, callback) {\n    if (css_urls == null) css_urls = [];\n    if (js_urls == null) js_urls = [];\n\n    root._bokeh_onload_callbacks.push(callback);\n    if (root._bokeh_is_loading > 0) {\n      console.debug(\"Bokeh: BokehJS is being loaded, scheduling callback at\", now());\n      return null;\n    }\n    if (js_urls == null || js_urls.length === 0) {\n      run_callbacks();\n      return null;\n    }\n    console.debug(\"Bokeh: BokehJS not loaded, scheduling load and callback at\", now());\n    root._bokeh_is_loading = css_urls.length + js_urls.length;\n\n    function on_load() {\n      root._bokeh_is_loading--;\n      if (root._bokeh_is_loading === 0) {\n        console.debug(\"Bokeh: all BokehJS libraries/stylesheets loaded\");\n        run_callbacks()\n      }\n    }\n\n    function on_error(url) {\n      console.error(\"failed to load \" + url);\n    }\n\n    for (let i = 0; i < css_urls.length; i++) {\n      const url = css_urls[i];\n      const element = document.createElement(\"link\");\n      element.onload = on_load;\n      element.onerror = on_error.bind(null, url);\n      element.rel = \"stylesheet\";\n      element.type = \"text/css\";\n      element.href = url;\n      console.debug(\"Bokeh: injecting link tag for BokehJS stylesheet: \", url);\n      document.body.appendChild(element);\n    }\n\n    for (let i = 0; i < js_urls.length; i++) {\n      const url = js_urls[i];\n      const element = document.createElement('script');\n      element.onload = on_load;\n      element.onerror = on_error.bind(null, url);\n      element.async = false;\n      element.src = url;\n      console.debug(\"Bokeh: injecting script tag for BokehJS library: \", url);\n      document.head.appendChild(element);\n    }\n  };\n\n  function inject_raw_css(css) {\n    const element = document.createElement(\"style\");\n    element.appendChild(document.createTextNode(css));\n    document.body.appendChild(element);\n  }\n\n  \n  const js_urls = [\"https://cdn.bokeh.org/bokeh/release/bokeh-2.4.2.min.js\", \"https://cdn.bokeh.org/bokeh/release/bokeh-gl-2.4.2.min.js\", \"https://cdn.bokeh.org/bokeh/release/bokeh-widgets-2.4.2.min.js\", \"https://cdn.bokeh.org/bokeh/release/bokeh-tables-2.4.2.min.js\", \"https://cdn.bokeh.org/bokeh/release/bokeh-mathjax-2.4.2.min.js\"];\n  const css_urls = [];\n  \n\n  const inline_js = [\n    function(Bokeh) {\n      Bokeh.set_log_level(\"info\");\n    },\n    function(Bokeh) {\n    \n    \n    }\n  ];\n\n  function run_inline_js() {\n    \n    if (root.Bokeh !== undefined || force === true) {\n      \n    for (let i = 0; i < inline_js.length; i++) {\n      inline_js[i].call(root, root.Bokeh);\n    }\n    if (force === true) {\n        display_loaded();\n      }} else if (Date.now() < root._bokeh_timeout) {\n      setTimeout(run_inline_js, 100);\n    } else if (!root._bokeh_failed_load) {\n      console.log(\"Bokeh: BokehJS failed to load within specified timeout.\");\n      root._bokeh_failed_load = true;\n    } else if (force !== true) {\n      const cell = $(document.getElementById(\"1002\")).parents('.cell').data().cell;\n      cell.output_area.append_execute_result(NB_LOAD_WARNING)\n    }\n\n  }\n\n  if (root._bokeh_is_loading === 0) {\n    console.debug(\"Bokeh: BokehJS loaded, going straight to plotting\");\n    run_inline_js();\n  } else {\n    load_libs(css_urls, js_urls, function() {\n      console.debug(\"Bokeh: BokehJS plotting callback run at\", now());\n      run_inline_js();\n    });\n  }\n}(window));"
     },
     "metadata": {},
     "output_type": "display_data"
    }
   ],
   "source": [
    "#Library for data analysis and processing\n",
    "\n",
    "import numpy as np\n",
    "import pandas as pd\n",
    "import datetime as dt\n",
    "import seaborn as sns\n",
    "import regex as re\n",
    "import matplotlib.pyplot as plt\n",
    "from matplotlib.cbook import get_sample_data\n",
    "from matplotlib.offsetbox import (OffsetImage, AnnotationBbox)\n",
    "\n",
    "\n",
    "import os\n",
    "\n",
    "#Plotly Library to make graphs\n",
    "import plotly.io as pio\n",
    "import plotly.graph_objs as go\n",
    "from plotly.subplots import make_subplots\n",
    "from plotly.offline import download_plotlyjs, init_notebook_mode, plot, iplot\n",
    "import plotly.express as px\n",
    "\n",
    "\n",
    "\n",
    "#Library to be used for reading json file\n",
    "\n",
    "import json\n",
    "\n",
    "#Bokeh Library to make graphs\n",
    "import bokeh\n",
    "from bokeh.io import output_notebook\n",
    "from bokeh.plotting import figure, show\n",
    "from bokeh.models import ColumnDataSource\n",
    "from bokeh.models.widgets import DataTable, DateFormatter, TableColumn\n",
    "\n",
    "#Library to display images\n",
    "from IPython.display import Image\n",
    "\n",
    "#Use the output_notebook() function to display Bokeh plots in Jupyter notebook\n",
    "output_notebook()\n",
    "\n",
    "#Library to ignore warnings\n",
    "import warnings\n",
    "warnings.filterwarnings('ignore')"
   ]
  },
  {
   "cell_type": "markdown",
   "id": "68b3843d-3bbc-4d39-9361-00a5508da7f8",
   "metadata": {},
   "source": [
    "### Datasets"
   ]
  },
  {
   "cell_type": "markdown",
   "id": "c551d865-4db9-4aab-a4cf-5724b11c0c30",
   "metadata": {},
   "source": [
    "<h4> Detailed description of the data set(s) and how they were acquired:</h4>\n",
    "\n",
    "\n",
    "<h5>1. Premier league matches Dataset </h5>\n",
    "\n",
    "https://www.kaggle.com/datasets/evangower/premier-league-matches-19922022 \n",
    "\n",
    "\n",
    "This dataset acquired from Kaggle includes every game ever played in the English Premier League, starting in 1992 and continuing through the last week of the 2021–2022 season. Each season lasts for 1 year, and a total of 20 teams compete in the competition.\n",
    "It gives us the details about each match:\n",
    "- Where it took place\n",
    "- How many goals were scored\n",
    "- Who won the match etc.\n",
    "\n",
    "<h5>2. Manchester United Club's achievements Dataset</h5>\n",
    "\n",
    "https://en.wikipedia.org/wiki/List_of_Manchester_United_F.C._seasons\n",
    "\n",
    "This webpage lists the details of the Manchester United club's achievements in major competitions for all years from its inception. We will use information in the 'Results of league and cup competitions by season' table to identify in which seasons the club has won the premier league title.\n",
    "\n",
    "<h5>3. Match Events Dataset - Player, Time, Outcome, Position details</h5>\n",
    "\n",
    "https://www.nature.com/articles/s41597-019-0247-7\n",
    "\n",
    "Public dataset that contains spatio-temporal match events that had occurred during football match.Each of the match event consists of information about its position, time, outcome, player and characteristics. We downloaded a JSON file which was read converted to a pandas dataframe for analysis.\n",
    "\n",
    "\n",
    "<h5>4. Ronaldo's Club goals dataset</h5>\n",
    "\n",
    "https://www.kaggle.com/datasets/azminetoushikwasi/cr7-cristiano-ronaldo-all-club-goals-stats\n",
    "\n",
    "This dataset acquired from Kaggle consists of the complete list of all club goals of Ronaldo. CSV file was used for processing and analysis.\n",
    "\n",
    "<h5>5. Dataset with other Player details</h5>\n",
    "\n",
    "https://www.kaggle.com/datasets/tanujleomessi/ligue1topscorer\n",
    "\n",
    "This dataset acquired from Kaggle has player's details who have the potential to replace Ronaldo.\n",
    "\n",
    "<h5>6. Dataset with other players biography information</h5>\n",
    "\n",
    "https://www.kaggle.com/datasets/cashncarry/fifa-23-complete-player-dataset\n",
    "\n",
    "This dataset acquired from Kaggle has the player's biography information like age, weight, height, sprinting speed, etc.\n"
   ]
  },
  {
   "cell_type": "markdown",
   "id": "8defcce9-495a-45e0-ac8f-926b27414b01",
   "metadata": {},
   "source": [
    "### Project should be graded more heavily on -  <label style=\"color:red;\"> Data Analysis </label>\n",
    "\n",
    "As mentioned above we have used 6 datasets in different file formats- csv, json. We have also collected data from publicly available website - Wikipedia. We followed a series of steps to process the data and get a Dataframe ready after pre-processing.\n",
    "\n",
    "<b> Manchester United in Last 20 years</b> - We are analyzing how they maintained consistency by winning 3 times in a row. We have analyzed \"Season\" and \"Standing\" columns for this purpose.\n",
    "\n",
    "<b>Home ground Analysis at Manchester United</b> - Here we have analyzed the winning probability of Manchester United on home ground when Ronaldo was playing at the club v/s when Ronaldo was not playing with the club.\n",
    "\n",
    "<b> Ronaldo Goals Scoring patterns </b> - For La liga dataset we merged data from 2 different dataframes and analyzed data to find patterns from which position did Ronaldo attempted a goal and when was it successful. The analysis included\n",
    "- Finding tag information (when was it a own goal / recieved an assist)\n",
    "- Analyzing event and match information from 2 datasets.\n",
    "- Get approriate x and y axis co-ordinates for plotting the positions.\n",
    "\n"
   ]
  },
  {
   "cell_type": "markdown",
   "id": "8386da8b-5fa5-4f26-ab31-42700c48160b",
   "metadata": {},
   "source": [
    "### Objective I - Manchester United in last 20 years"
   ]
  },
  {
   "cell_type": "code",
   "execution_count": 48,
   "id": "52bf22aa-d4f5-4698-830e-6f3da64f64b5",
   "metadata": {},
   "outputs": [
    {
     "data": {
      "text/html": [
       "<div>\n",
       "<style scoped>\n",
       "    .dataframe tbody tr th:only-of-type {\n",
       "        vertical-align: middle;\n",
       "    }\n",
       "\n",
       "    .dataframe tbody tr th {\n",
       "        vertical-align: top;\n",
       "    }\n",
       "\n",
       "    .dataframe thead th {\n",
       "        text-align: right;\n",
       "    }\n",
       "</style>\n",
       "<table border=\"1\" class=\"dataframe\">\n",
       "  <thead>\n",
       "    <tr style=\"text-align: right;\">\n",
       "      <th></th>\n",
       "      <th>Season</th>\n",
       "      <th>League</th>\n",
       "      <th>League.1</th>\n",
       "      <th>League.2</th>\n",
       "      <th>League.3</th>\n",
       "      <th>League.4</th>\n",
       "      <th>League.5</th>\n",
       "      <th>League.6</th>\n",
       "      <th>League.7</th>\n",
       "      <th>League.8</th>\n",
       "      <th>FA Cup</th>\n",
       "      <th>EFL Cup</th>\n",
       "      <th>CommunityShield</th>\n",
       "      <th>UEFAFIFA</th>\n",
       "      <th>Top goalscorer(s)[a]</th>\n",
       "      <th>Top goalscorer(s)[a].1</th>\n",
       "    </tr>\n",
       "  </thead>\n",
       "  <tbody>\n",
       "    <tr>\n",
       "      <th>0</th>\n",
       "      <td>Season</td>\n",
       "      <td>Division</td>\n",
       "      <td>Pld</td>\n",
       "      <td>W</td>\n",
       "      <td>D</td>\n",
       "      <td>L</td>\n",
       "      <td>GF</td>\n",
       "      <td>GA</td>\n",
       "      <td>Pts</td>\n",
       "      <td>Pos</td>\n",
       "      <td>FA Cup</td>\n",
       "      <td>EFL Cup</td>\n",
       "      <td>CommunityShield</td>\n",
       "      <td>UEFAFIFA</td>\n",
       "      <td>Name(s)</td>\n",
       "      <td>Goals</td>\n",
       "    </tr>\n",
       "    <tr>\n",
       "      <th>1</th>\n",
       "      <td>1886–87[b]</td>\n",
       "      <td>—</td>\n",
       "      <td>—</td>\n",
       "      <td>—</td>\n",
       "      <td>—</td>\n",
       "      <td>—</td>\n",
       "      <td>—</td>\n",
       "      <td>—</td>\n",
       "      <td>—</td>\n",
       "      <td>—</td>\n",
       "      <td>R1</td>\n",
       "      <td>NaN</td>\n",
       "      <td>NaN</td>\n",
       "      <td>NaN</td>\n",
       "      <td>Jack Doughty</td>\n",
       "      <td>4</td>\n",
       "    </tr>\n",
       "    <tr>\n",
       "      <th>2</th>\n",
       "      <td>1888–89[c]</td>\n",
       "      <td>Combination</td>\n",
       "      <td>12</td>\n",
       "      <td>8</td>\n",
       "      <td>2</td>\n",
       "      <td>2</td>\n",
       "      <td>27</td>\n",
       "      <td>13</td>\n",
       "      <td>18</td>\n",
       "      <td>—</td>\n",
       "      <td>—</td>\n",
       "      <td>NaN</td>\n",
       "      <td>NaN</td>\n",
       "      <td>NaN</td>\n",
       "      <td>Jack DoughtyRoger Doughty</td>\n",
       "      <td>6</td>\n",
       "    </tr>\n",
       "    <tr>\n",
       "      <th>3</th>\n",
       "      <td>1889–90</td>\n",
       "      <td>Alliance</td>\n",
       "      <td>22</td>\n",
       "      <td>9</td>\n",
       "      <td>2</td>\n",
       "      <td>11</td>\n",
       "      <td>40</td>\n",
       "      <td>45</td>\n",
       "      <td>20</td>\n",
       "      <td>8th</td>\n",
       "      <td>R1</td>\n",
       "      <td>NaN</td>\n",
       "      <td>NaN</td>\n",
       "      <td>NaN</td>\n",
       "      <td>Willie Stewart</td>\n",
       "      <td>10</td>\n",
       "    </tr>\n",
       "    <tr>\n",
       "      <th>4</th>\n",
       "      <td>1890–91</td>\n",
       "      <td>Alliance</td>\n",
       "      <td>22</td>\n",
       "      <td>7</td>\n",
       "      <td>3</td>\n",
       "      <td>12</td>\n",
       "      <td>37</td>\n",
       "      <td>55</td>\n",
       "      <td>17</td>\n",
       "      <td>9th</td>\n",
       "      <td>QR2</td>\n",
       "      <td>NaN</td>\n",
       "      <td>NaN</td>\n",
       "      <td>NaN</td>\n",
       "      <td>Bob Ramsay</td>\n",
       "      <td>7</td>\n",
       "    </tr>\n",
       "  </tbody>\n",
       "</table>\n",
       "</div>"
      ],
      "text/plain": [
       "       Season       League League.1 League.2 League.3 League.4 League.5  \\\n",
       "0      Season     Division      Pld        W        D        L       GF   \n",
       "1  1886–87[b]            —        —        —        —        —        —   \n",
       "2  1888–89[c]  Combination       12        8        2        2       27   \n",
       "3     1889–90     Alliance       22        9        2       11       40   \n",
       "4     1890–91     Alliance       22        7        3       12       37   \n",
       "\n",
       "  League.6 League.7 League.8  FA Cup  EFL Cup  CommunityShield  UEFAFIFA  \\\n",
       "0       GA      Pts      Pos  FA Cup  EFL Cup  CommunityShield  UEFAFIFA   \n",
       "1        —        —        —      R1      NaN              NaN       NaN   \n",
       "2       13       18        —       —      NaN              NaN       NaN   \n",
       "3       45       20      8th      R1      NaN              NaN       NaN   \n",
       "4       55       17      9th     QR2      NaN              NaN       NaN   \n",
       "\n",
       "        Top goalscorer(s)[a] Top goalscorer(s)[a].1  \n",
       "0                    Name(s)                  Goals  \n",
       "1               Jack Doughty                      4  \n",
       "2  Jack DoughtyRoger Doughty                      6  \n",
       "3             Willie Stewart                     10  \n",
       "4                 Bob Ramsay                      7  "
      ]
     },
     "execution_count": 48,
     "metadata": {},
     "output_type": "execute_result"
    }
   ],
   "source": [
    "# Importing the Manchester United season's data from wikipedia\n",
    "\n",
    "man_united_seasons = pd.read_html('https://en.wikipedia.org/wiki/List_of_Manchester_United_F.C._seasons#Seasons', header=0,match='Season')[0]\n",
    "\n",
    "# Display the dataframe\n",
    "\n",
    "man_united_seasons.head()"
   ]
  },
  {
   "cell_type": "markdown",
   "id": "32fc2313",
   "metadata": {},
   "source": [
    "### Data Cleaning"
   ]
  },
  {
   "cell_type": "markdown",
   "id": "f844278c",
   "metadata": {},
   "source": [
    "From this dataframe we need only two columns \"Season\" and \"Pos\" \n",
    "\n",
    "- Season: part of the year during which football matches were held.\n",
    "- Pos: ranking in all of the competitions/leagues Manchester United has participated in.\n",
    "\n",
    "Let us rename Pos column to Standings as the values denote where the club is placed in rankings in that particular season."
   ]
  },
  {
   "cell_type": "markdown",
   "id": "0bf12371",
   "metadata": {},
   "source": [
    "#### Drop, Rename, Duplicates and Null Values\n"
   ]
  },
  {
   "cell_type": "code",
   "execution_count": 3,
   "id": "3b81f7ab-42aa-4150-ab06-f8a8bab96580",
   "metadata": {},
   "outputs": [
    {
     "name": "stdout",
     "output_type": "stream",
     "text": [
      "Number of duplicates in the dataset are: 0\n",
      "Number of null values in the dataset are: 0\n"
     ]
    },
    {
     "data": {
      "text/html": [
       "<div>\n",
       "<style scoped>\n",
       "    .dataframe tbody tr th:only-of-type {\n",
       "        vertical-align: middle;\n",
       "    }\n",
       "\n",
       "    .dataframe tbody tr th {\n",
       "        vertical-align: top;\n",
       "    }\n",
       "\n",
       "    .dataframe thead th {\n",
       "        text-align: right;\n",
       "    }\n",
       "</style>\n",
       "<table border=\"1\" class=\"dataframe\">\n",
       "  <thead>\n",
       "    <tr style=\"text-align: right;\">\n",
       "      <th></th>\n",
       "      <th>Season</th>\n",
       "      <th>Standing</th>\n",
       "    </tr>\n",
       "  </thead>\n",
       "  <tbody>\n",
       "    <tr>\n",
       "      <th>1</th>\n",
       "      <td>1886–87[b]</td>\n",
       "      <td>—</td>\n",
       "    </tr>\n",
       "    <tr>\n",
       "      <th>2</th>\n",
       "      <td>1888–89[c]</td>\n",
       "      <td>—</td>\n",
       "    </tr>\n",
       "    <tr>\n",
       "      <th>3</th>\n",
       "      <td>1889–90</td>\n",
       "      <td>8th</td>\n",
       "    </tr>\n",
       "    <tr>\n",
       "      <th>4</th>\n",
       "      <td>1890–91</td>\n",
       "      <td>9th</td>\n",
       "    </tr>\n",
       "    <tr>\n",
       "      <th>5</th>\n",
       "      <td>1891–92</td>\n",
       "      <td>2nd[d]</td>\n",
       "    </tr>\n",
       "  </tbody>\n",
       "</table>\n",
       "</div>"
      ],
      "text/plain": [
       "       Season Standing\n",
       "1  1886–87[b]        —\n",
       "2  1888–89[c]        —\n",
       "3     1889–90      8th\n",
       "4     1890–91      9th\n",
       "5     1891–92   2nd[d]"
      ]
     },
     "execution_count": 3,
     "metadata": {},
     "output_type": "execute_result"
    }
   ],
   "source": [
    "# Making the 1st row as the header as current header is not required\n",
    "\n",
    "man_united_seasons.columns = man_united_seasons.iloc[0]\n",
    "\n",
    "# Drop all the columns except Season and Pos and first row\n",
    "\n",
    "man_united_seasons= man_united_seasons[['Season','Pos']]\n",
    "man_united_seasons = man_united_seasons.iloc[1: , :]\n",
    "\n",
    "# Renaming the Pos column to Standing\n",
    "\n",
    "man_united_seasons.columns = ['Season','Standing']\n",
    "\n",
    "# Check for duplicates in the dataset\n",
    "\n",
    "duplicates = man_united_seasons.duplicated().sum()\n",
    "\n",
    "print(f'Number of duplicates in the dataset are: {duplicates}')\n",
    "\n",
    "# Identifying the null values\n",
    "\n",
    "null_values = man_united_seasons.isnull().sum().sum()\n",
    "\n",
    "print(f'Number of null values in the dataset are: {null_values}')\n",
    "\n",
    "\n",
    "# Display the dataframe\n",
    "\n",
    "man_united_seasons.head()"
   ]
  },
  {
   "cell_type": "markdown",
   "id": "235cb3f5",
   "metadata": {},
   "source": [
    "Here, we checked for duplicated and values in the cleaned dataframe . When we take the sum of the booleans using duplicated and isnull functions, it was found that there are no duplicates/nulls. Let us proceed with analysis:\n"
   ]
  },
  {
   "cell_type": "markdown",
   "id": "c7459fc9",
   "metadata": {},
   "source": [
    "#### Formatting Data using Regex"
   ]
  },
  {
   "cell_type": "code",
   "execution_count": 4,
   "id": "91a87e63-cdef-4a98-8248-bcce6cd9b382",
   "metadata": {},
   "outputs": [],
   "source": [
    "# Update Season column with four digits representing the year\n",
    "\n",
    "pattern2 = '(\\d{4})'\n",
    "man_united_seasons['Season'] = man_united_seasons['Season'].str.extract(pattern2)\n",
    "man_united_seasons[\"Season\"]= man_united_seasons[\"Season\"].str.split(\"-\", expand = True)\n",
    "\n",
    "# Update Standings column with values of two digits\n",
    "# Note: We will consider 2000-2001 season as the year 2001. \n",
    "\n",
    "pattern1 = '(\\d{1,2})'\n",
    "man_united_seasons['Standing'] = man_united_seasons['Standing'].str.extract(pattern1)\n",
    "\n",
    "# Drop nulls if present\n",
    "\n",
    "man_united_seasons = man_united_seasons.dropna()\n",
    "\n",
    "# Convert the column values to integer\n",
    "\n",
    "man_united_seasons['Season'] = man_united_seasons['Season'].astype(int)\n",
    "man_united_seasons['Standing'] = man_united_seasons['Standing'].astype(int)\n"
   ]
  },
  {
   "cell_type": "markdown",
   "id": "81f1cbdc",
   "metadata": {},
   "source": [
    "Let's find out Manchester United's football club standings over recent years:"
   ]
  },
  {
   "cell_type": "code",
   "execution_count": 5,
   "id": "8af4317c",
   "metadata": {},
   "outputs": [
    {
     "data": {
      "text/html": [
       "<div>\n",
       "<style scoped>\n",
       "    .dataframe tbody tr th:only-of-type {\n",
       "        vertical-align: middle;\n",
       "    }\n",
       "\n",
       "    .dataframe tbody tr th {\n",
       "        vertical-align: top;\n",
       "    }\n",
       "\n",
       "    .dataframe thead th {\n",
       "        text-align: right;\n",
       "    }\n",
       "</style>\n",
       "<table border=\"1\" class=\"dataframe\">\n",
       "  <thead>\n",
       "    <tr style=\"text-align: right;\">\n",
       "      <th></th>\n",
       "      <th>Season</th>\n",
       "      <th>Standing</th>\n",
       "    </tr>\n",
       "  </thead>\n",
       "  <tbody>\n",
       "    <tr>\n",
       "      <th>0</th>\n",
       "      <td>2001</td>\n",
       "      <td>3</td>\n",
       "    </tr>\n",
       "    <tr>\n",
       "      <th>1</th>\n",
       "      <td>2002</td>\n",
       "      <td>1</td>\n",
       "    </tr>\n",
       "    <tr>\n",
       "      <th>2</th>\n",
       "      <td>2003</td>\n",
       "      <td>3</td>\n",
       "    </tr>\n",
       "    <tr>\n",
       "      <th>3</th>\n",
       "      <td>2004</td>\n",
       "      <td>3</td>\n",
       "    </tr>\n",
       "    <tr>\n",
       "      <th>4</th>\n",
       "      <td>2005</td>\n",
       "      <td>2</td>\n",
       "    </tr>\n",
       "  </tbody>\n",
       "</table>\n",
       "</div>"
      ],
      "text/plain": [
       "   Season  Standing\n",
       "0    2001         3\n",
       "1    2002         1\n",
       "2    2003         3\n",
       "3    2004         3\n",
       "4    2005         2"
      ]
     },
     "execution_count": 5,
     "metadata": {},
     "output_type": "execute_result"
    }
   ],
   "source": [
    "# Taking only the data of Manchester United from year 2000-2022 for analysis\n",
    "\n",
    "man_united_seasons = man_united_seasons.loc[man_united_seasons['Season']>2000]\n",
    "\n",
    "# Reset Index\n",
    "\n",
    "man_united_seasons.reset_index(drop=True, inplace=True)\n",
    "\n",
    "# Display the dataframe\n",
    "\n",
    "man_united_seasons.head()"
   ]
  },
  {
   "cell_type": "markdown",
   "id": "211b6766",
   "metadata": {},
   "source": [
    "#### Data Visualization"
   ]
  },
  {
   "cell_type": "code",
   "execution_count": 6,
   "id": "7979bd1f",
   "metadata": {},
   "outputs": [],
   "source": [
    "def imscatter(x, y, image, ax=None, zoom=1):\n",
    "    if ax is None:\n",
    "        ax = plt.gca()\n",
    "    try:\n",
    "        image = plt.imread(image)\n",
    "    except TypeError:\n",
    "        # Likely already an array...\n",
    "        pass\n",
    "    im = OffsetImage(image, zoom=zoom)\n",
    "    x, y = np.atleast_1d(x, y)\n",
    "    artists = []\n",
    "    for x0, y0 in zip(x, y):\n",
    "        ab = AnnotationBbox(im, (x0, y0), xycoords='data', frameon=False)\n",
    "        artists.append(ax.add_artist(ab))\n",
    "    ax.update_datalim(np.column_stack([x, y]))\n",
    "    ax.autoscale()\n",
    "    return artists"
   ]
  },
  {
   "cell_type": "code",
   "execution_count": 47,
   "id": "7602e2bf",
   "metadata": {},
   "outputs": [
    {
     "ename": "FileNotFoundError",
     "evalue": "[Errno 2] No such file or directory: '/Users/admin/opt/anaconda3/lib/python3.9/site-packages/matplotlib/mpl-data/sample_data/Crown.png'",
     "output_type": "error",
     "traceback": [
      "\u001b[0;31m---------------------------------------------------------------------------\u001b[0m",
      "\u001b[0;31mFileNotFoundError\u001b[0m                         Traceback (most recent call last)",
      "Input \u001b[0;32mIn [47]\u001b[0m, in \u001b[0;36m<cell line: 6>\u001b[0;34m()\u001b[0m\n\u001b[1;32m      3\u001b[0m y \u001b[38;5;241m=\u001b[39m man_united_seasons[\u001b[38;5;124m'\u001b[39m\u001b[38;5;124mStanding\u001b[39m\u001b[38;5;124m'\u001b[39m]\n\u001b[1;32m      5\u001b[0m \u001b[38;5;66;03m#Extracting the crown image and plotting it on the targeted years\u001b[39;00m\n\u001b[0;32m----> 6\u001b[0m image_path \u001b[38;5;241m=\u001b[39m \u001b[43mget_sample_data\u001b[49m\u001b[43m(\u001b[49m\u001b[38;5;124;43m'\u001b[39;49m\u001b[38;5;124;43mCrown.png\u001b[39;49m\u001b[38;5;124;43m'\u001b[39;49m\u001b[43m)\u001b[49m\n\u001b[1;32m      7\u001b[0m fig, ax \u001b[38;5;241m=\u001b[39m plt\u001b[38;5;241m.\u001b[39msubplots(figsize\u001b[38;5;241m=\u001b[39m(\u001b[38;5;241m15\u001b[39m, \u001b[38;5;241m4\u001b[39m))\n\u001b[1;32m      8\u001b[0m imscatter(x[\u001b[38;5;241m5\u001b[39m:\u001b[38;5;241m8\u001b[39m], y[\u001b[38;5;241m5\u001b[39m:\u001b[38;5;241m8\u001b[39m], image_path, zoom\u001b[38;5;241m=\u001b[39m\u001b[38;5;241m0.1\u001b[39m, ax\u001b[38;5;241m=\u001b[39max)\n",
      "File \u001b[0;32m~/opt/anaconda3/lib/python3.9/site-packages/matplotlib/cbook/__init__.py:507\u001b[0m, in \u001b[0;36mget_sample_data\u001b[0;34m(fname, asfileobj, np_load)\u001b[0m\n\u001b[1;32m    505\u001b[0m         \u001b[38;5;28;01mreturn\u001b[39;00m path\u001b[38;5;241m.\u001b[39mopen(\u001b[38;5;124m'\u001b[39m\u001b[38;5;124mr\u001b[39m\u001b[38;5;124m'\u001b[39m)\n\u001b[1;32m    506\u001b[0m     \u001b[38;5;28;01melse\u001b[39;00m:\n\u001b[0;32m--> 507\u001b[0m         \u001b[38;5;28;01mreturn\u001b[39;00m \u001b[43mpath\u001b[49m\u001b[38;5;241;43m.\u001b[39;49m\u001b[43mopen\u001b[49m\u001b[43m(\u001b[49m\u001b[38;5;124;43m'\u001b[39;49m\u001b[38;5;124;43mrb\u001b[39;49m\u001b[38;5;124;43m'\u001b[39;49m\u001b[43m)\u001b[49m\n\u001b[1;32m    508\u001b[0m \u001b[38;5;28;01melse\u001b[39;00m:\n\u001b[1;32m    509\u001b[0m     \u001b[38;5;28;01mreturn\u001b[39;00m \u001b[38;5;28mstr\u001b[39m(path)\n",
      "File \u001b[0;32m~/opt/anaconda3/lib/python3.9/pathlib.py:1252\u001b[0m, in \u001b[0;36mPath.open\u001b[0;34m(self, mode, buffering, encoding, errors, newline)\u001b[0m\n\u001b[1;32m   1246\u001b[0m \u001b[38;5;28;01mdef\u001b[39;00m \u001b[38;5;21mopen\u001b[39m(\u001b[38;5;28mself\u001b[39m, mode\u001b[38;5;241m=\u001b[39m\u001b[38;5;124m'\u001b[39m\u001b[38;5;124mr\u001b[39m\u001b[38;5;124m'\u001b[39m, buffering\u001b[38;5;241m=\u001b[39m\u001b[38;5;241m-\u001b[39m\u001b[38;5;241m1\u001b[39m, encoding\u001b[38;5;241m=\u001b[39m\u001b[38;5;28;01mNone\u001b[39;00m,\n\u001b[1;32m   1247\u001b[0m          errors\u001b[38;5;241m=\u001b[39m\u001b[38;5;28;01mNone\u001b[39;00m, newline\u001b[38;5;241m=\u001b[39m\u001b[38;5;28;01mNone\u001b[39;00m):\n\u001b[1;32m   1248\u001b[0m     \u001b[38;5;124;03m\"\"\"\u001b[39;00m\n\u001b[1;32m   1249\u001b[0m \u001b[38;5;124;03m    Open the file pointed by this path and return a file object, as\u001b[39;00m\n\u001b[1;32m   1250\u001b[0m \u001b[38;5;124;03m    the built-in open() function does.\u001b[39;00m\n\u001b[1;32m   1251\u001b[0m \u001b[38;5;124;03m    \"\"\"\u001b[39;00m\n\u001b[0;32m-> 1252\u001b[0m     \u001b[38;5;28;01mreturn\u001b[39;00m \u001b[43mio\u001b[49m\u001b[38;5;241;43m.\u001b[39;49m\u001b[43mopen\u001b[49m\u001b[43m(\u001b[49m\u001b[38;5;28;43mself\u001b[39;49m\u001b[43m,\u001b[49m\u001b[43m \u001b[49m\u001b[43mmode\u001b[49m\u001b[43m,\u001b[49m\u001b[43m \u001b[49m\u001b[43mbuffering\u001b[49m\u001b[43m,\u001b[49m\u001b[43m \u001b[49m\u001b[43mencoding\u001b[49m\u001b[43m,\u001b[49m\u001b[43m \u001b[49m\u001b[43merrors\u001b[49m\u001b[43m,\u001b[49m\u001b[43m \u001b[49m\u001b[43mnewline\u001b[49m\u001b[43m,\u001b[49m\n\u001b[1;32m   1253\u001b[0m \u001b[43m                   \u001b[49m\u001b[43mopener\u001b[49m\u001b[38;5;241;43m=\u001b[39;49m\u001b[38;5;28;43mself\u001b[39;49m\u001b[38;5;241;43m.\u001b[39;49m\u001b[43m_opener\u001b[49m\u001b[43m)\u001b[49m\n",
      "File \u001b[0;32m~/opt/anaconda3/lib/python3.9/pathlib.py:1120\u001b[0m, in \u001b[0;36mPath._opener\u001b[0;34m(self, name, flags, mode)\u001b[0m\n\u001b[1;32m   1118\u001b[0m \u001b[38;5;28;01mdef\u001b[39;00m \u001b[38;5;21m_opener\u001b[39m(\u001b[38;5;28mself\u001b[39m, name, flags, mode\u001b[38;5;241m=\u001b[39m\u001b[38;5;241m0o666\u001b[39m):\n\u001b[1;32m   1119\u001b[0m     \u001b[38;5;66;03m# A stub for the opener argument to built-in open()\u001b[39;00m\n\u001b[0;32m-> 1120\u001b[0m     \u001b[38;5;28;01mreturn\u001b[39;00m \u001b[38;5;28;43mself\u001b[39;49m\u001b[38;5;241;43m.\u001b[39;49m\u001b[43m_accessor\u001b[49m\u001b[38;5;241;43m.\u001b[39;49m\u001b[43mopen\u001b[49m\u001b[43m(\u001b[49m\u001b[38;5;28;43mself\u001b[39;49m\u001b[43m,\u001b[49m\u001b[43m \u001b[49m\u001b[43mflags\u001b[49m\u001b[43m,\u001b[49m\u001b[43m \u001b[49m\u001b[43mmode\u001b[49m\u001b[43m)\u001b[49m\n",
      "\u001b[0;31mFileNotFoundError\u001b[0m: [Errno 2] No such file or directory: '/Users/admin/opt/anaconda3/lib/python3.9/site-packages/matplotlib/mpl-data/sample_data/Crown.png'"
     ]
    }
   ],
   "source": [
    "#Defining the X and Y axis\n",
    "x = man_united_seasons['Season'].values.astype(int)\n",
    "y = man_united_seasons['Standing']\n",
    "\n",
    "#Extracting the crown image and plotting it on the targeted years\n",
    "path = ''\n",
    "image_path = get_sample_data(path + 'Crown.png')\n",
    "fig, ax = plt.subplots(figsize=(15, 4))\n",
    "imscatter(x[5:8], y[5:8], image_path, zoom=0.1, ax=ax)\n",
    "\n",
    "#Making the y axis inverted\n",
    "plt.ylim(8,0)\n",
    "plt.xticks(x,rotation = 45)\n",
    "ax.plot(x, y)\n",
    "plt.show()"
   ]
  },
  {
   "cell_type": "markdown",
   "id": "c403ddef-b3a3-497a-adc5-fba97fba94e1",
   "metadata": {},
   "source": [
    "\n",
    "- Manchester United football club was crowned champions for three seasons consecutively, where Cristiano Ronaldo scored:\n",
    "- 91 goals for the club and was United's top scorer in these three seasons from 2006 to 2009.\n",
    "- A total of 42 goals in all competitions during the 2007–08 season, his most prolific campaign at Manchester United.\n",
    "\n",
    "Ronaldo had good communication and dynamics with his teammates at Manchester United. In 2009, he left this club and joined the Real Madrid football club. Ronaldo's transfer had a huge impact on Manchester United's dynamics and style of playing as they could not substitute any other player with his caliber of skills. His ability to convert free kicks and penalties into goals was extraordinary. He was in his prime years and attracted football lovers' attention on a global level. His leaving the club has impacted Manchester United's standings in the English premier league to decline. From the above line graph, we can see that during the years between 2006 & 2009, Manchester United won the English Premier League title three times in a row.\n",
    " \n",
    "- Later, the club could not maintain that consistency as the trend fluctuated in their standings in the league.\n",
    "\n",
    "- During the 2012-13 season, they fell to 7th position in the club's standing. In the past 20 years, this particular season was their worst performance."
   ]
  },
  {
   "cell_type": "markdown",
   "id": "dfcb02d3-01f5-46bd-8e30-09711d987593",
   "metadata": {},
   "source": [
    "### Objective II - Home ground winning probability"
   ]
  },
  {
   "cell_type": "markdown",
   "id": "f35dbe4d",
   "metadata": {},
   "source": [
    "The term \"home-field advantage\" describes the alleged inherent advantage that the side competing at home will have during\n",
    "    the match. That team gains from not having to travel and can play in comfortable settings. On the road, though, it's a\n",
    "    different scenario for the football teams as it could be a huge factor for fatigue.\n"
   ]
  },
  {
   "cell_type": "code",
   "execution_count": 8,
   "id": "3d539739-9163-42ee-9181-312ab4ca099b",
   "metadata": {},
   "outputs": [
    {
     "data": {
      "text/html": [
       "<div>\n",
       "<style scoped>\n",
       "    .dataframe tbody tr th:only-of-type {\n",
       "        vertical-align: middle;\n",
       "    }\n",
       "\n",
       "    .dataframe tbody tr th {\n",
       "        vertical-align: top;\n",
       "    }\n",
       "\n",
       "    .dataframe thead th {\n",
       "        text-align: right;\n",
       "    }\n",
       "</style>\n",
       "<table border=\"1\" class=\"dataframe\">\n",
       "  <thead>\n",
       "    <tr style=\"text-align: right;\">\n",
       "      <th></th>\n",
       "      <th>Season_End_Year</th>\n",
       "      <th>Wk</th>\n",
       "      <th>Date</th>\n",
       "      <th>Home</th>\n",
       "      <th>HomeGoals</th>\n",
       "      <th>AwayGoals</th>\n",
       "      <th>Away</th>\n",
       "      <th>FTR</th>\n",
       "    </tr>\n",
       "  </thead>\n",
       "  <tbody>\n",
       "    <tr>\n",
       "      <th>0</th>\n",
       "      <td>1993</td>\n",
       "      <td>1</td>\n",
       "      <td>1992-08-15</td>\n",
       "      <td>Coventry City</td>\n",
       "      <td>2</td>\n",
       "      <td>1</td>\n",
       "      <td>Middlesbrough</td>\n",
       "      <td>H</td>\n",
       "    </tr>\n",
       "    <tr>\n",
       "      <th>1</th>\n",
       "      <td>1993</td>\n",
       "      <td>1</td>\n",
       "      <td>1992-08-15</td>\n",
       "      <td>Leeds United</td>\n",
       "      <td>2</td>\n",
       "      <td>1</td>\n",
       "      <td>Wimbledon</td>\n",
       "      <td>H</td>\n",
       "    </tr>\n",
       "    <tr>\n",
       "      <th>2</th>\n",
       "      <td>1993</td>\n",
       "      <td>1</td>\n",
       "      <td>1992-08-15</td>\n",
       "      <td>Sheffield Utd</td>\n",
       "      <td>2</td>\n",
       "      <td>1</td>\n",
       "      <td>Manchester Utd</td>\n",
       "      <td>H</td>\n",
       "    </tr>\n",
       "    <tr>\n",
       "      <th>3</th>\n",
       "      <td>1993</td>\n",
       "      <td>1</td>\n",
       "      <td>1992-08-15</td>\n",
       "      <td>Crystal Palace</td>\n",
       "      <td>3</td>\n",
       "      <td>3</td>\n",
       "      <td>Blackburn</td>\n",
       "      <td>D</td>\n",
       "    </tr>\n",
       "    <tr>\n",
       "      <th>4</th>\n",
       "      <td>1993</td>\n",
       "      <td>1</td>\n",
       "      <td>1992-08-15</td>\n",
       "      <td>Arsenal</td>\n",
       "      <td>2</td>\n",
       "      <td>4</td>\n",
       "      <td>Norwich City</td>\n",
       "      <td>A</td>\n",
       "    </tr>\n",
       "  </tbody>\n",
       "</table>\n",
       "</div>"
      ],
      "text/plain": [
       "   Season_End_Year  Wk        Date            Home  HomeGoals  AwayGoals  \\\n",
       "0             1993   1  1992-08-15   Coventry City          2          1   \n",
       "1             1993   1  1992-08-15    Leeds United          2          1   \n",
       "2             1993   1  1992-08-15   Sheffield Utd          2          1   \n",
       "3             1993   1  1992-08-15  Crystal Palace          3          3   \n",
       "4             1993   1  1992-08-15         Arsenal          2          4   \n",
       "\n",
       "             Away FTR  \n",
       "0   Middlesbrough   H  \n",
       "1       Wimbledon   H  \n",
       "2  Manchester Utd   H  \n",
       "3       Blackburn   D  \n",
       "4    Norwich City   A  "
      ]
     },
     "execution_count": 8,
     "metadata": {},
     "output_type": "execute_result"
    }
   ],
   "source": [
    "# Load dataset for analysis\n",
    "\n",
    "premier_league_df = pd.read_csv('Premier_League_data.csv')\n",
    "\n",
    "# Display output printing first 5 rows\n",
    "\n",
    "premier_league_df.head()"
   ]
  },
  {
   "cell_type": "markdown",
   "id": "e8e40d86-9013-4e26-82c1-f9e1cc2c5ae1",
   "metadata": {},
   "source": [
    "### Data Cleaning"
   ]
  },
  {
   "cell_type": "markdown",
   "id": "3bfcd4a3-eb21-48cc-995d-0dc8a82106bb",
   "metadata": {},
   "source": [
    "In the dataset we have \"Wk\" column which denotes Week, as using Week won't play a significant role in determining the home ground winner, We will not be using this column in analysis going forward, therfore we are dropping the column."
   ]
  },
  {
   "cell_type": "markdown",
   "id": "26b56bad-4530-48fc-9f52-eca571db067b",
   "metadata": {},
   "source": [
    "#### Drop, Duplicates and Null"
   ]
  },
  {
   "cell_type": "code",
   "execution_count": 9,
   "id": "39d95e34-701e-450a-89f8-c112a58e5454",
   "metadata": {},
   "outputs": [
    {
     "name": "stdout",
     "output_type": "stream",
     "text": [
      "Number of duplicates in the dataset are: 0\n",
      "Number of null values in the dataset are: 0\n"
     ]
    }
   ],
   "source": [
    "# Dropping the columns from the dataset\n",
    "\n",
    "premier_league_df = premier_league_df.drop('Wk', axis=1)\n",
    "\n",
    "# Check for duplicates in the dataset\n",
    "\n",
    "duplicates = premier_league_df.duplicated().sum()\n",
    "\n",
    "print(f'Number of duplicates in the dataset are: {duplicates}')\n",
    "\n",
    "#identifying the null values\n",
    "\n",
    "null_values = premier_league_df.isnull().sum().sum()\n",
    "\n",
    "print(f'Number of null values in the dataset are: {null_values}')"
   ]
  },
  {
   "cell_type": "markdown",
   "id": "64c21b58-29ad-49b8-b4c4-c457712646bf",
   "metadata": {},
   "source": [
    "Here, we checked for duplicated values in our dataset. When we take the sum of the booleans using duplicated and isnull functions, it was found that there are no duplicates/nulls in the dataset."
   ]
  },
  {
   "cell_type": "markdown",
   "id": "e0413818-4006-410d-837f-74bbf07311ee",
   "metadata": {},
   "source": [
    "##### Note: \n",
    "- Overall data available in the dataset is from year 1992 to 2022.\n",
    "- Cristiano Ronaldo's first stay at Manchester United: 2003-2009"
   ]
  },
  {
   "cell_type": "markdown",
   "id": "a2e86ad0-116d-4fd5-8f0a-2102cfe2941d",
   "metadata": {},
   "source": [
    "We are interested in analysing how Ronaldo's performance booseted Manchester United winning probability when playing at home ground.\n",
    "We will be comparing the percentages between (2003-2009) and remaining seasons data for the club."
   ]
  },
  {
   "cell_type": "markdown",
   "id": "fdffb167-9230-4a45-bbfe-7aad30f3d236",
   "metadata": {},
   "source": [
    "### Home ground Analysis at Manchester United"
   ]
  },
  {
   "cell_type": "markdown",
   "id": "57c5f4b8-aa3b-4905-9b06-b8c3a80fedd7",
   "metadata": {},
   "source": [
    "To determine whether a team has any benefit of playing at their home ground, let us calculate the percentage of home ground wins, losts, and draws:"
   ]
  },
  {
   "cell_type": "markdown",
   "id": "9a9e7a22-bd76-4663-8db4-8240ecf432c0",
   "metadata": {},
   "source": [
    "#### Analysis for Manchester United Without Ronaldo Playing"
   ]
  },
  {
   "cell_type": "code",
   "execution_count": 10,
   "id": "db36a6e8-3627-431c-bbd0-376c945ae7ef",
   "metadata": {},
   "outputs": [
    {
     "name": "stdout",
     "output_type": "stream",
     "text": [
      "Manchester United win percentage at home games: 67.95%\n",
      "Manchester United lost percentage at home games: 12.19% \n",
      "Manchester United draw percentage at home games: 19.86%\n"
     ]
    }
   ],
   "source": [
    "percentage = 100\n",
    "\n",
    "# Filtering Manchester United home games data with no Ronaldo during his first stay\n",
    "\n",
    "mutd_home_games = premier_league_df[premier_league_df.Home == 'Manchester Utd']\n",
    "\n",
    "mutd_no_ronaldo = mutd_home_games[(mutd_home_games['Season_End_Year'] < 2003) | (mutd_home_games['Season_End_Year'] > 2009)]\n",
    "\n",
    "# percentage win in home games\n",
    "pct_home_wins = ( len(mutd_no_ronaldo[mutd_no_ronaldo['FTR'] == 'H']) / len(mutd_no_ronaldo) ) * percentage\n",
    "pct_home_wins\n",
    "\n",
    "# percentage lost in home games\n",
    "pct_home_loss = ( len(mutd_no_ronaldo[mutd_no_ronaldo['FTR'] == 'A']) / len(mutd_no_ronaldo) ) * percentage\n",
    "pct_home_loss\n",
    "\n",
    "# percentage draw in home games\n",
    "pct_home_draw = ( len(mutd_no_ronaldo[mutd_no_ronaldo['FTR'] == 'D']) / len(mutd_no_ronaldo) ) * percentage\n",
    "pct_home_draw\n",
    "\n",
    "\n",
    "# list for pie chart plot\n",
    "\n",
    "values_unique = ['Win','Lost','Draw']\n",
    "values_no_ronaldo = [pct_home_wins,pct_home_loss,pct_home_draw]\n",
    "\n",
    "\n",
    "result = ['Win','Lost','Draw']\n",
    "percentages_no_ronaldo = [pct_home_wins,pct_home_loss,pct_home_draw]\n",
    "\n",
    "# Display the output\n",
    "print(f'Manchester United win percentage at home games: {pct_home_wins:0.2f}%')\n",
    "print(f'Manchester United lost percentage at home games: {pct_home_loss:0.2f}% ')\n",
    "print(f'Manchester United draw percentage at home games: {pct_home_draw:0.2f}%')\n",
    "\n"
   ]
  },
  {
   "cell_type": "markdown",
   "id": "947a4a33-1f04-4c20-b24f-8b25abe56e38",
   "metadata": {},
   "source": [
    "#### Analysis for Manchester United with Ronaldo Playing"
   ]
  },
  {
   "cell_type": "code",
   "execution_count": 52,
   "id": "012d5b57-7449-48cd-bd97-ffc38e134226",
   "metadata": {},
   "outputs": [
    {
     "name": "stdout",
     "output_type": "stream",
     "text": [
      "Manchester United win percentage at home games: 75.94%\n",
      "Manchester United loss percentage at home games: 7.52% \n",
      "Manchester United draw percentage at home games: 16.54%\n"
     ]
    }
   ],
   "source": [
    "\n",
    "# Filtering Manchester United home games data with Ronaldo during his first stay\n",
    "mutd_with_ronaldo = mutd_home_games[(mutd_home_games['Season_End_Year'] >= 2003) & (mutd_home_games['Season_End_Year'] <= 2009)]\n",
    "\n",
    "# percentage win in home games\n",
    "pct_home_wins = ( len(mutd_with_ronaldo[mutd_with_ronaldo['FTR'] == 'H']) / len(mutd_with_ronaldo) ) * percentage\n",
    "pct_home_wins\n",
    "\n",
    "# percentage lost in home games\n",
    "pct_home_loss = ( len(mutd_with_ronaldo[mutd_with_ronaldo['FTR'] == 'A']) / len(mutd_with_ronaldo) ) * percentage\n",
    "pct_home_loss\n",
    "\n",
    "# percentage draw in home games\n",
    "pct_home_draw = ( len(mutd_with_ronaldo[mutd_with_ronaldo['FTR'] == 'D']) / len(mutd_with_ronaldo) ) * percentage\n",
    "pct_home_draw\n",
    "\n",
    "percentages_with_ronaldo = [pct_home_wins,pct_home_loss,pct_home_draw]\n",
    "\n",
    "\n",
    "# Display the output\n",
    "print(f'Manchester United win percentage at home games: {pct_home_wins:0.2f}%')\n",
    "print(f'Manchester United loss percentage at home games: {pct_home_loss:0.2f}% ')\n",
    "print(f'Manchester United draw percentage at home games: {pct_home_draw:0.2f}%')\n",
    "\n"
   ]
  },
  {
   "cell_type": "markdown",
   "id": "cdc0a231-f2fb-4d30-861e-7d137a276e92",
   "metadata": {},
   "source": [
    "#### Data Visualization"
   ]
  },
  {
   "cell_type": "code",
   "execution_count": 53,
   "id": "513881e7-44d7-42be-8339-9959ffc61c07",
   "metadata": {},
   "outputs": [],
   "source": [
    "#Generic function to beautify output of print statement\n",
    "class color:\n",
    "   PURPLE = '\\033[95m'\n",
    "   CYAN = '\\033[96m'\n",
    "   DARKCYAN = '\\033[36m'\n",
    "   BLUE = '\\033[94m'\n",
    "   GREEN = '\\033[92m'\n",
    "   YELLOW = '\\033[93m'\n",
    "   RED = '\\033[91m'\n",
    "   BOLD = '\\033[1m'\n",
    "   UNDERLINE = '\\033[4m'"
   ]
  },
  {
   "cell_type": "code",
   "execution_count": 54,
   "id": "8593c3e5-7cfc-43f7-9d7d-2ba95c1c6166",
   "metadata": {},
   "outputs": [
    {
     "name": "stdout",
     "output_type": "stream",
     "text": [
      "\u001b[1m% of Home Ground Wins with Ronaldo Playing for Manchester United (2003 - 2009)\n"
     ]
    },
    {
     "data": {
      "application/vnd.plotly.v1+json": {
       "config": {
        "plotlyServerURL": "https://plot.ly"
       },
       "data": [
        {
         "hole": 0.6,
         "labels": [
          "Winning %",
          "Losing %",
          "Tie %"
         ],
         "marker": {
          "colors": [
           "#008000",
           "#FF0000",
           "#FFFF00"
          ]
         },
         "showlegend": true,
         "title": {
          "text": "2003-2009"
         },
         "type": "pie",
         "values": [
          75.93984962406014,
          7.518796992481203,
          16.541353383458645
         ]
        }
       ],
       "layout": {
        "autosize": true,
        "template": {
         "data": {
          "bar": [
           {
            "error_x": {
             "color": "#2a3f5f"
            },
            "error_y": {
             "color": "#2a3f5f"
            },
            "marker": {
             "line": {
              "color": "#E5ECF6",
              "width": 0.5
             },
             "pattern": {
              "fillmode": "overlay",
              "size": 10,
              "solidity": 0.2
             }
            },
            "type": "bar"
           }
          ],
          "barpolar": [
           {
            "marker": {
             "line": {
              "color": "#E5ECF6",
              "width": 0.5
             },
             "pattern": {
              "fillmode": "overlay",
              "size": 10,
              "solidity": 0.2
             }
            },
            "type": "barpolar"
           }
          ],
          "carpet": [
           {
            "aaxis": {
             "endlinecolor": "#2a3f5f",
             "gridcolor": "white",
             "linecolor": "white",
             "minorgridcolor": "white",
             "startlinecolor": "#2a3f5f"
            },
            "baxis": {
             "endlinecolor": "#2a3f5f",
             "gridcolor": "white",
             "linecolor": "white",
             "minorgridcolor": "white",
             "startlinecolor": "#2a3f5f"
            },
            "type": "carpet"
           }
          ],
          "choropleth": [
           {
            "colorbar": {
             "outlinewidth": 0,
             "ticks": ""
            },
            "type": "choropleth"
           }
          ],
          "contour": [
           {
            "colorbar": {
             "outlinewidth": 0,
             "ticks": ""
            },
            "colorscale": [
             [
              0,
              "#0d0887"
             ],
             [
              0.1111111111111111,
              "#46039f"
             ],
             [
              0.2222222222222222,
              "#7201a8"
             ],
             [
              0.3333333333333333,
              "#9c179e"
             ],
             [
              0.4444444444444444,
              "#bd3786"
             ],
             [
              0.5555555555555556,
              "#d8576b"
             ],
             [
              0.6666666666666666,
              "#ed7953"
             ],
             [
              0.7777777777777778,
              "#fb9f3a"
             ],
             [
              0.8888888888888888,
              "#fdca26"
             ],
             [
              1,
              "#f0f921"
             ]
            ],
            "type": "contour"
           }
          ],
          "contourcarpet": [
           {
            "colorbar": {
             "outlinewidth": 0,
             "ticks": ""
            },
            "type": "contourcarpet"
           }
          ],
          "heatmap": [
           {
            "colorbar": {
             "outlinewidth": 0,
             "ticks": ""
            },
            "colorscale": [
             [
              0,
              "#0d0887"
             ],
             [
              0.1111111111111111,
              "#46039f"
             ],
             [
              0.2222222222222222,
              "#7201a8"
             ],
             [
              0.3333333333333333,
              "#9c179e"
             ],
             [
              0.4444444444444444,
              "#bd3786"
             ],
             [
              0.5555555555555556,
              "#d8576b"
             ],
             [
              0.6666666666666666,
              "#ed7953"
             ],
             [
              0.7777777777777778,
              "#fb9f3a"
             ],
             [
              0.8888888888888888,
              "#fdca26"
             ],
             [
              1,
              "#f0f921"
             ]
            ],
            "type": "heatmap"
           }
          ],
          "heatmapgl": [
           {
            "colorbar": {
             "outlinewidth": 0,
             "ticks": ""
            },
            "colorscale": [
             [
              0,
              "#0d0887"
             ],
             [
              0.1111111111111111,
              "#46039f"
             ],
             [
              0.2222222222222222,
              "#7201a8"
             ],
             [
              0.3333333333333333,
              "#9c179e"
             ],
             [
              0.4444444444444444,
              "#bd3786"
             ],
             [
              0.5555555555555556,
              "#d8576b"
             ],
             [
              0.6666666666666666,
              "#ed7953"
             ],
             [
              0.7777777777777778,
              "#fb9f3a"
             ],
             [
              0.8888888888888888,
              "#fdca26"
             ],
             [
              1,
              "#f0f921"
             ]
            ],
            "type": "heatmapgl"
           }
          ],
          "histogram": [
           {
            "marker": {
             "pattern": {
              "fillmode": "overlay",
              "size": 10,
              "solidity": 0.2
             }
            },
            "type": "histogram"
           }
          ],
          "histogram2d": [
           {
            "colorbar": {
             "outlinewidth": 0,
             "ticks": ""
            },
            "colorscale": [
             [
              0,
              "#0d0887"
             ],
             [
              0.1111111111111111,
              "#46039f"
             ],
             [
              0.2222222222222222,
              "#7201a8"
             ],
             [
              0.3333333333333333,
              "#9c179e"
             ],
             [
              0.4444444444444444,
              "#bd3786"
             ],
             [
              0.5555555555555556,
              "#d8576b"
             ],
             [
              0.6666666666666666,
              "#ed7953"
             ],
             [
              0.7777777777777778,
              "#fb9f3a"
             ],
             [
              0.8888888888888888,
              "#fdca26"
             ],
             [
              1,
              "#f0f921"
             ]
            ],
            "type": "histogram2d"
           }
          ],
          "histogram2dcontour": [
           {
            "colorbar": {
             "outlinewidth": 0,
             "ticks": ""
            },
            "colorscale": [
             [
              0,
              "#0d0887"
             ],
             [
              0.1111111111111111,
              "#46039f"
             ],
             [
              0.2222222222222222,
              "#7201a8"
             ],
             [
              0.3333333333333333,
              "#9c179e"
             ],
             [
              0.4444444444444444,
              "#bd3786"
             ],
             [
              0.5555555555555556,
              "#d8576b"
             ],
             [
              0.6666666666666666,
              "#ed7953"
             ],
             [
              0.7777777777777778,
              "#fb9f3a"
             ],
             [
              0.8888888888888888,
              "#fdca26"
             ],
             [
              1,
              "#f0f921"
             ]
            ],
            "type": "histogram2dcontour"
           }
          ],
          "mesh3d": [
           {
            "colorbar": {
             "outlinewidth": 0,
             "ticks": ""
            },
            "type": "mesh3d"
           }
          ],
          "parcoords": [
           {
            "line": {
             "colorbar": {
              "outlinewidth": 0,
              "ticks": ""
             }
            },
            "type": "parcoords"
           }
          ],
          "pie": [
           {
            "automargin": true,
            "type": "pie"
           }
          ],
          "scatter": [
           {
            "marker": {
             "colorbar": {
              "outlinewidth": 0,
              "ticks": ""
             }
            },
            "type": "scatter"
           }
          ],
          "scatter3d": [
           {
            "line": {
             "colorbar": {
              "outlinewidth": 0,
              "ticks": ""
             }
            },
            "marker": {
             "colorbar": {
              "outlinewidth": 0,
              "ticks": ""
             }
            },
            "type": "scatter3d"
           }
          ],
          "scattercarpet": [
           {
            "marker": {
             "colorbar": {
              "outlinewidth": 0,
              "ticks": ""
             }
            },
            "type": "scattercarpet"
           }
          ],
          "scattergeo": [
           {
            "marker": {
             "colorbar": {
              "outlinewidth": 0,
              "ticks": ""
             }
            },
            "type": "scattergeo"
           }
          ],
          "scattergl": [
           {
            "marker": {
             "colorbar": {
              "outlinewidth": 0,
              "ticks": ""
             }
            },
            "type": "scattergl"
           }
          ],
          "scattermapbox": [
           {
            "marker": {
             "colorbar": {
              "outlinewidth": 0,
              "ticks": ""
             }
            },
            "type": "scattermapbox"
           }
          ],
          "scatterpolar": [
           {
            "marker": {
             "colorbar": {
              "outlinewidth": 0,
              "ticks": ""
             }
            },
            "type": "scatterpolar"
           }
          ],
          "scatterpolargl": [
           {
            "marker": {
             "colorbar": {
              "outlinewidth": 0,
              "ticks": ""
             }
            },
            "type": "scatterpolargl"
           }
          ],
          "scatterternary": [
           {
            "marker": {
             "colorbar": {
              "outlinewidth": 0,
              "ticks": ""
             }
            },
            "type": "scatterternary"
           }
          ],
          "surface": [
           {
            "colorbar": {
             "outlinewidth": 0,
             "ticks": ""
            },
            "colorscale": [
             [
              0,
              "#0d0887"
             ],
             [
              0.1111111111111111,
              "#46039f"
             ],
             [
              0.2222222222222222,
              "#7201a8"
             ],
             [
              0.3333333333333333,
              "#9c179e"
             ],
             [
              0.4444444444444444,
              "#bd3786"
             ],
             [
              0.5555555555555556,
              "#d8576b"
             ],
             [
              0.6666666666666666,
              "#ed7953"
             ],
             [
              0.7777777777777778,
              "#fb9f3a"
             ],
             [
              0.8888888888888888,
              "#fdca26"
             ],
             [
              1,
              "#f0f921"
             ]
            ],
            "type": "surface"
           }
          ],
          "table": [
           {
            "cells": {
             "fill": {
              "color": "#EBF0F8"
             },
             "line": {
              "color": "white"
             }
            },
            "header": {
             "fill": {
              "color": "#C8D4E3"
             },
             "line": {
              "color": "white"
             }
            },
            "type": "table"
           }
          ]
         },
         "layout": {
          "annotationdefaults": {
           "arrowcolor": "#2a3f5f",
           "arrowhead": 0,
           "arrowwidth": 1
          },
          "autotypenumbers": "strict",
          "coloraxis": {
           "colorbar": {
            "outlinewidth": 0,
            "ticks": ""
           }
          },
          "colorscale": {
           "diverging": [
            [
             0,
             "#8e0152"
            ],
            [
             0.1,
             "#c51b7d"
            ],
            [
             0.2,
             "#de77ae"
            ],
            [
             0.3,
             "#f1b6da"
            ],
            [
             0.4,
             "#fde0ef"
            ],
            [
             0.5,
             "#f7f7f7"
            ],
            [
             0.6,
             "#e6f5d0"
            ],
            [
             0.7,
             "#b8e186"
            ],
            [
             0.8,
             "#7fbc41"
            ],
            [
             0.9,
             "#4d9221"
            ],
            [
             1,
             "#276419"
            ]
           ],
           "sequential": [
            [
             0,
             "#0d0887"
            ],
            [
             0.1111111111111111,
             "#46039f"
            ],
            [
             0.2222222222222222,
             "#7201a8"
            ],
            [
             0.3333333333333333,
             "#9c179e"
            ],
            [
             0.4444444444444444,
             "#bd3786"
            ],
            [
             0.5555555555555556,
             "#d8576b"
            ],
            [
             0.6666666666666666,
             "#ed7953"
            ],
            [
             0.7777777777777778,
             "#fb9f3a"
            ],
            [
             0.8888888888888888,
             "#fdca26"
            ],
            [
             1,
             "#f0f921"
            ]
           ],
           "sequentialminus": [
            [
             0,
             "#0d0887"
            ],
            [
             0.1111111111111111,
             "#46039f"
            ],
            [
             0.2222222222222222,
             "#7201a8"
            ],
            [
             0.3333333333333333,
             "#9c179e"
            ],
            [
             0.4444444444444444,
             "#bd3786"
            ],
            [
             0.5555555555555556,
             "#d8576b"
            ],
            [
             0.6666666666666666,
             "#ed7953"
            ],
            [
             0.7777777777777778,
             "#fb9f3a"
            ],
            [
             0.8888888888888888,
             "#fdca26"
            ],
            [
             1,
             "#f0f921"
            ]
           ]
          },
          "colorway": [
           "#636efa",
           "#EF553B",
           "#00cc96",
           "#ab63fa",
           "#FFA15A",
           "#19d3f3",
           "#FF6692",
           "#B6E880",
           "#FF97FF",
           "#FECB52"
          ],
          "font": {
           "color": "#2a3f5f"
          },
          "geo": {
           "bgcolor": "white",
           "lakecolor": "white",
           "landcolor": "#E5ECF6",
           "showlakes": true,
           "showland": true,
           "subunitcolor": "white"
          },
          "hoverlabel": {
           "align": "left"
          },
          "hovermode": "closest",
          "mapbox": {
           "style": "light"
          },
          "paper_bgcolor": "white",
          "plot_bgcolor": "#E5ECF6",
          "polar": {
           "angularaxis": {
            "gridcolor": "white",
            "linecolor": "white",
            "ticks": ""
           },
           "bgcolor": "#E5ECF6",
           "radialaxis": {
            "gridcolor": "white",
            "linecolor": "white",
            "ticks": ""
           }
          },
          "scene": {
           "xaxis": {
            "backgroundcolor": "#E5ECF6",
            "gridcolor": "white",
            "gridwidth": 2,
            "linecolor": "white",
            "showbackground": true,
            "ticks": "",
            "zerolinecolor": "white"
           },
           "yaxis": {
            "backgroundcolor": "#E5ECF6",
            "gridcolor": "white",
            "gridwidth": 2,
            "linecolor": "white",
            "showbackground": true,
            "ticks": "",
            "zerolinecolor": "white"
           },
           "zaxis": {
            "backgroundcolor": "#E5ECF6",
            "gridcolor": "white",
            "gridwidth": 2,
            "linecolor": "white",
            "showbackground": true,
            "ticks": "",
            "zerolinecolor": "white"
           }
          },
          "shapedefaults": {
           "line": {
            "color": "#2a3f5f"
           }
          },
          "ternary": {
           "aaxis": {
            "gridcolor": "white",
            "linecolor": "white",
            "ticks": ""
           },
           "baxis": {
            "gridcolor": "white",
            "linecolor": "white",
            "ticks": ""
           },
           "bgcolor": "#E5ECF6",
           "caxis": {
            "gridcolor": "white",
            "linecolor": "white",
            "ticks": ""
           }
          },
          "title": {
           "x": 0.05
          },
          "xaxis": {
           "automargin": true,
           "gridcolor": "white",
           "linecolor": "white",
           "ticks": "",
           "title": {
            "standoff": 15
           },
           "zerolinecolor": "white",
           "zerolinewidth": 2
          },
          "yaxis": {
           "automargin": true,
           "gridcolor": "white",
           "linecolor": "white",
           "ticks": "",
           "title": {
            "standoff": 15
           },
           "zerolinecolor": "white",
           "zerolinewidth": 2
          }
         }
        }
       }
      },
      "image/png": "[encoded data removed]",
      "text/html": [
       "<div>                            <div id=\"9221fc39-5380-44d3-9b90-796d5ed472a3\" class=\"plotly-graph-div\" style=\"height:525px; width:100%;\"></div>            <script type=\"text/javascript\">                require([\"plotly\"], function(Plotly) {                    window.PLOTLYENV=window.PLOTLYENV || {};                                    if (document.getElementById(\"9221fc39-5380-44d3-9b90-796d5ed472a3\")) {                    Plotly.newPlot(                        \"9221fc39-5380-44d3-9b90-796d5ed472a3\",                        [{\"hole\":0.6,\"labels\":[\"Winning %\",\"Losing %\",\"Tie %\"],\"marker\":{\"colors\":[\"#008000\",\"#FF0000\",\"#FFFF00\"]},\"showlegend\":true,\"title\":{\"text\":\"2003-2009\"},\"values\":[75.93984962406014,7.518796992481203,16.541353383458645],\"type\":\"pie\"}],                        {\"template\":{\"data\":{\"bar\":[{\"error_x\":{\"color\":\"#2a3f5f\"},\"error_y\":{\"color\":\"#2a3f5f\"},\"marker\":{\"line\":{\"color\":\"#E5ECF6\",\"width\":0.5},\"pattern\":{\"fillmode\":\"overlay\",\"size\":10,\"solidity\":0.2}},\"type\":\"bar\"}],\"barpolar\":[{\"marker\":{\"line\":{\"color\":\"#E5ECF6\",\"width\":0.5},\"pattern\":{\"fillmode\":\"overlay\",\"size\":10,\"solidity\":0.2}},\"type\":\"barpolar\"}],\"carpet\":[{\"aaxis\":{\"endlinecolor\":\"#2a3f5f\",\"gridcolor\":\"white\",\"linecolor\":\"white\",\"minorgridcolor\":\"white\",\"startlinecolor\":\"#2a3f5f\"},\"baxis\":{\"endlinecolor\":\"#2a3f5f\",\"gridcolor\":\"white\",\"linecolor\":\"white\",\"minorgridcolor\":\"white\",\"startlinecolor\":\"#2a3f5f\"},\"type\":\"carpet\"}],\"choropleth\":[{\"colorbar\":{\"outlinewidth\":0,\"ticks\":\"\"},\"type\":\"choropleth\"}],\"contour\":[{\"colorbar\":{\"outlinewidth\":0,\"ticks\":\"\"},\"colorscale\":[[0.0,\"#0d0887\"],[0.1111111111111111,\"#46039f\"],[0.2222222222222222,\"#7201a8\"],[0.3333333333333333,\"#9c179e\"],[0.4444444444444444,\"#bd3786\"],[0.5555555555555556,\"#d8576b\"],[0.6666666666666666,\"#ed7953\"],[0.7777777777777778,\"#fb9f3a\"],[0.8888888888888888,\"#fdca26\"],[1.0,\"#f0f921\"]],\"type\":\"contour\"}],\"contourcarpet\":[{\"colorbar\":{\"outlinewidth\":0,\"ticks\":\"\"},\"type\":\"contourcarpet\"}],\"heatmap\":[{\"colorbar\":{\"outlinewidth\":0,\"ticks\":\"\"},\"colorscale\":[[0.0,\"#0d0887\"],[0.1111111111111111,\"#46039f\"],[0.2222222222222222,\"#7201a8\"],[0.3333333333333333,\"#9c179e\"],[0.4444444444444444,\"#bd3786\"],[0.5555555555555556,\"#d8576b\"],[0.6666666666666666,\"#ed7953\"],[0.7777777777777778,\"#fb9f3a\"],[0.8888888888888888,\"#fdca26\"],[1.0,\"#f0f921\"]],\"type\":\"heatmap\"}],\"heatmapgl\":[{\"colorbar\":{\"outlinewidth\":0,\"ticks\":\"\"},\"colorscale\":[[0.0,\"#0d0887\"],[0.1111111111111111,\"#46039f\"],[0.2222222222222222,\"#7201a8\"],[0.3333333333333333,\"#9c179e\"],[0.4444444444444444,\"#bd3786\"],[0.5555555555555556,\"#d8576b\"],[0.6666666666666666,\"#ed7953\"],[0.7777777777777778,\"#fb9f3a\"],[0.8888888888888888,\"#fdca26\"],[1.0,\"#f0f921\"]],\"type\":\"heatmapgl\"}],\"histogram\":[{\"marker\":{\"pattern\":{\"fillmode\":\"overlay\",\"size\":10,\"solidity\":0.2}},\"type\":\"histogram\"}],\"histogram2d\":[{\"colorbar\":{\"outlinewidth\":0,\"ticks\":\"\"},\"colorscale\":[[0.0,\"#0d0887\"],[0.1111111111111111,\"#46039f\"],[0.2222222222222222,\"#7201a8\"],[0.3333333333333333,\"#9c179e\"],[0.4444444444444444,\"#bd3786\"],[0.5555555555555556,\"#d8576b\"],[0.6666666666666666,\"#ed7953\"],[0.7777777777777778,\"#fb9f3a\"],[0.8888888888888888,\"#fdca26\"],[1.0,\"#f0f921\"]],\"type\":\"histogram2d\"}],\"histogram2dcontour\":[{\"colorbar\":{\"outlinewidth\":0,\"ticks\":\"\"},\"colorscale\":[[0.0,\"#0d0887\"],[0.1111111111111111,\"#46039f\"],[0.2222222222222222,\"#7201a8\"],[0.3333333333333333,\"#9c179e\"],[0.4444444444444444,\"#bd3786\"],[0.5555555555555556,\"#d8576b\"],[0.6666666666666666,\"#ed7953\"],[0.7777777777777778,\"#fb9f3a\"],[0.8888888888888888,\"#fdca26\"],[1.0,\"#f0f921\"]],\"type\":\"histogram2dcontour\"}],\"mesh3d\":[{\"colorbar\":{\"outlinewidth\":0,\"ticks\":\"\"},\"type\":\"mesh3d\"}],\"parcoords\":[{\"line\":{\"colorbar\":{\"outlinewidth\":0,\"ticks\":\"\"}},\"type\":\"parcoords\"}],\"pie\":[{\"automargin\":true,\"type\":\"pie\"}],\"scatter\":[{\"marker\":{\"colorbar\":{\"outlinewidth\":0,\"ticks\":\"\"}},\"type\":\"scatter\"}],\"scatter3d\":[{\"line\":{\"colorbar\":{\"outlinewidth\":0,\"ticks\":\"\"}},\"marker\":{\"colorbar\":{\"outlinewidth\":0,\"ticks\":\"\"}},\"type\":\"scatter3d\"}],\"scattercarpet\":[{\"marker\":{\"colorbar\":{\"outlinewidth\":0,\"ticks\":\"\"}},\"type\":\"scattercarpet\"}],\"scattergeo\":[{\"marker\":{\"colorbar\":{\"outlinewidth\":0,\"ticks\":\"\"}},\"type\":\"scattergeo\"}],\"scattergl\":[{\"marker\":{\"colorbar\":{\"outlinewidth\":0,\"ticks\":\"\"}},\"type\":\"scattergl\"}],\"scattermapbox\":[{\"marker\":{\"colorbar\":{\"outlinewidth\":0,\"ticks\":\"\"}},\"type\":\"scattermapbox\"}],\"scatterpolar\":[{\"marker\":{\"colorbar\":{\"outlinewidth\":0,\"ticks\":\"\"}},\"type\":\"scatterpolar\"}],\"scatterpolargl\":[{\"marker\":{\"colorbar\":{\"outlinewidth\":0,\"ticks\":\"\"}},\"type\":\"scatterpolargl\"}],\"scatterternary\":[{\"marker\":{\"colorbar\":{\"outlinewidth\":0,\"ticks\":\"\"}},\"type\":\"scatterternary\"}],\"surface\":[{\"colorbar\":{\"outlinewidth\":0,\"ticks\":\"\"},\"colorscale\":[[0.0,\"#0d0887\"],[0.1111111111111111,\"#46039f\"],[0.2222222222222222,\"#7201a8\"],[0.3333333333333333,\"#9c179e\"],[0.4444444444444444,\"#bd3786\"],[0.5555555555555556,\"#d8576b\"],[0.6666666666666666,\"#ed7953\"],[0.7777777777777778,\"#fb9f3a\"],[0.8888888888888888,\"#fdca26\"],[1.0,\"#f0f921\"]],\"type\":\"surface\"}],\"table\":[{\"cells\":{\"fill\":{\"color\":\"#EBF0F8\"},\"line\":{\"color\":\"white\"}},\"header\":{\"fill\":{\"color\":\"#C8D4E3\"},\"line\":{\"color\":\"white\"}},\"type\":\"table\"}]},\"layout\":{\"annotationdefaults\":{\"arrowcolor\":\"#2a3f5f\",\"arrowhead\":0,\"arrowwidth\":1},\"autotypenumbers\":\"strict\",\"coloraxis\":{\"colorbar\":{\"outlinewidth\":0,\"ticks\":\"\"}},\"colorscale\":{\"diverging\":[[0,\"#8e0152\"],[0.1,\"#c51b7d\"],[0.2,\"#de77ae\"],[0.3,\"#f1b6da\"],[0.4,\"#fde0ef\"],[0.5,\"#f7f7f7\"],[0.6,\"#e6f5d0\"],[0.7,\"#b8e186\"],[0.8,\"#7fbc41\"],[0.9,\"#4d9221\"],[1,\"#276419\"]],\"sequential\":[[0.0,\"#0d0887\"],[0.1111111111111111,\"#46039f\"],[0.2222222222222222,\"#7201a8\"],[0.3333333333333333,\"#9c179e\"],[0.4444444444444444,\"#bd3786\"],[0.5555555555555556,\"#d8576b\"],[0.6666666666666666,\"#ed7953\"],[0.7777777777777778,\"#fb9f3a\"],[0.8888888888888888,\"#fdca26\"],[1.0,\"#f0f921\"]],\"sequentialminus\":[[0.0,\"#0d0887\"],[0.1111111111111111,\"#46039f\"],[0.2222222222222222,\"#7201a8\"],[0.3333333333333333,\"#9c179e\"],[0.4444444444444444,\"#bd3786\"],[0.5555555555555556,\"#d8576b\"],[0.6666666666666666,\"#ed7953\"],[0.7777777777777778,\"#fb9f3a\"],[0.8888888888888888,\"#fdca26\"],[1.0,\"#f0f921\"]]},\"colorway\":[\"#636efa\",\"#EF553B\",\"#00cc96\",\"#ab63fa\",\"#FFA15A\",\"#19d3f3\",\"#FF6692\",\"#B6E880\",\"#FF97FF\",\"#FECB52\"],\"font\":{\"color\":\"#2a3f5f\"},\"geo\":{\"bgcolor\":\"white\",\"lakecolor\":\"white\",\"landcolor\":\"#E5ECF6\",\"showlakes\":true,\"showland\":true,\"subunitcolor\":\"white\"},\"hoverlabel\":{\"align\":\"left\"},\"hovermode\":\"closest\",\"mapbox\":{\"style\":\"light\"},\"paper_bgcolor\":\"white\",\"plot_bgcolor\":\"#E5ECF6\",\"polar\":{\"angularaxis\":{\"gridcolor\":\"white\",\"linecolor\":\"white\",\"ticks\":\"\"},\"bgcolor\":\"#E5ECF6\",\"radialaxis\":{\"gridcolor\":\"white\",\"linecolor\":\"white\",\"ticks\":\"\"}},\"scene\":{\"xaxis\":{\"backgroundcolor\":\"#E5ECF6\",\"gridcolor\":\"white\",\"gridwidth\":2,\"linecolor\":\"white\",\"showbackground\":true,\"ticks\":\"\",\"zerolinecolor\":\"white\"},\"yaxis\":{\"backgroundcolor\":\"#E5ECF6\",\"gridcolor\":\"white\",\"gridwidth\":2,\"linecolor\":\"white\",\"showbackground\":true,\"ticks\":\"\",\"zerolinecolor\":\"white\"},\"zaxis\":{\"backgroundcolor\":\"#E5ECF6\",\"gridcolor\":\"white\",\"gridwidth\":2,\"linecolor\":\"white\",\"showbackground\":true,\"ticks\":\"\",\"zerolinecolor\":\"white\"}},\"shapedefaults\":{\"line\":{\"color\":\"#2a3f5f\"}},\"ternary\":{\"aaxis\":{\"gridcolor\":\"white\",\"linecolor\":\"white\",\"ticks\":\"\"},\"baxis\":{\"gridcolor\":\"white\",\"linecolor\":\"white\",\"ticks\":\"\"},\"bgcolor\":\"#E5ECF6\",\"caxis\":{\"gridcolor\":\"white\",\"linecolor\":\"white\",\"ticks\":\"\"}},\"title\":{\"x\":0.05},\"xaxis\":{\"automargin\":true,\"gridcolor\":\"white\",\"linecolor\":\"white\",\"ticks\":\"\",\"title\":{\"standoff\":15},\"zerolinecolor\":\"white\",\"zerolinewidth\":2},\"yaxis\":{\"automargin\":true,\"gridcolor\":\"white\",\"linecolor\":\"white\",\"ticks\":\"\",\"title\":{\"standoff\":15},\"zerolinecolor\":\"white\",\"zerolinewidth\":2}}}},                        {\"responsive\": true}                    ).then(function(){\n",
       "                            \n",
       "var gd = document.getElementById('9221fc39-5380-44d3-9b90-796d5ed472a3');\n",
       "var x = new MutationObserver(function (mutations, observer) {{\n",
       "        var display = window.getComputedStyle(gd).display;\n",
       "        if (!display || display === 'none') {{\n",
       "            console.log([gd, 'removed!']);\n",
       "            Plotly.purge(gd);\n",
       "            observer.disconnect();\n",
       "        }}\n",
       "}});\n",
       "\n",
       "// Listen for the removal of the full notebook cells\n",
       "var notebookContainer = gd.closest('#notebook-container');\n",
       "if (notebookContainer) {{\n",
       "    x.observe(notebookContainer, {childList: true});\n",
       "}}\n",
       "\n",
       "// Listen for the clearing of the current output cell\n",
       "var outputEl = gd.closest('.output');\n",
       "if (outputEl) {{\n",
       "    x.observe(outputEl, {childList: true});\n",
       "}}\n",
       "\n",
       "                        })                };                });            </script>        </div>"
      ]
     },
     "metadata": {},
     "output_type": "display_data"
    },
    {
     "name": "stdout",
     "output_type": "stream",
     "text": [
      "\u001b[1m% of Home Ground Wins without Ronaldo Playing for Manchester United (Before 2003 and after 2009)\n"
     ]
    },
    {
     "data": {
      "application/vnd.plotly.v1+json": {
       "config": {
        "plotlyServerURL": "https://plot.ly"
       },
       "data": [
        {
         "hole": 0.6,
         "labels": [
          "Winning %",
          "Losing %",
          "Tie %"
         ],
         "marker": {
          "colors": [
           "#008000",
           "#FF0000",
           "#FFFF00"
          ]
         },
         "showlegend": true,
         "title": {
          "text": "1992-2003, 2009<"
         },
         "type": "pie",
         "values": [
          67.94582392776523,
          12.18961625282167,
          19.864559819413092
         ]
        }
       ],
       "layout": {
        "autosize": true,
        "template": {
         "data": {
          "bar": [
           {
            "error_x": {
             "color": "#2a3f5f"
            },
            "error_y": {
             "color": "#2a3f5f"
            },
            "marker": {
             "line": {
              "color": "#E5ECF6",
              "width": 0.5
             },
             "pattern": {
              "fillmode": "overlay",
              "size": 10,
              "solidity": 0.2
             }
            },
            "type": "bar"
           }
          ],
          "barpolar": [
           {
            "marker": {
             "line": {
              "color": "#E5ECF6",
              "width": 0.5
             },
             "pattern": {
              "fillmode": "overlay",
              "size": 10,
              "solidity": 0.2
             }
            },
            "type": "barpolar"
           }
          ],
          "carpet": [
           {
            "aaxis": {
             "endlinecolor": "#2a3f5f",
             "gridcolor": "white",
             "linecolor": "white",
             "minorgridcolor": "white",
             "startlinecolor": "#2a3f5f"
            },
            "baxis": {
             "endlinecolor": "#2a3f5f",
             "gridcolor": "white",
             "linecolor": "white",
             "minorgridcolor": "white",
             "startlinecolor": "#2a3f5f"
            },
            "type": "carpet"
           }
          ],
          "choropleth": [
           {
            "colorbar": {
             "outlinewidth": 0,
             "ticks": ""
            },
            "type": "choropleth"
           }
          ],
          "contour": [
           {
            "colorbar": {
             "outlinewidth": 0,
             "ticks": ""
            },
            "colorscale": [
             [
              0,
              "#0d0887"
             ],
             [
              0.1111111111111111,
              "#46039f"
             ],
             [
              0.2222222222222222,
              "#7201a8"
             ],
             [
              0.3333333333333333,
              "#9c179e"
             ],
             [
              0.4444444444444444,
              "#bd3786"
             ],
             [
              0.5555555555555556,
              "#d8576b"
             ],
             [
              0.6666666666666666,
              "#ed7953"
             ],
             [
              0.7777777777777778,
              "#fb9f3a"
             ],
             [
              0.8888888888888888,
              "#fdca26"
             ],
             [
              1,
              "#f0f921"
             ]
            ],
            "type": "contour"
           }
          ],
          "contourcarpet": [
           {
            "colorbar": {
             "outlinewidth": 0,
             "ticks": ""
            },
            "type": "contourcarpet"
           }
          ],
          "heatmap": [
           {
            "colorbar": {
             "outlinewidth": 0,
             "ticks": ""
            },
            "colorscale": [
             [
              0,
              "#0d0887"
             ],
             [
              0.1111111111111111,
              "#46039f"
             ],
             [
              0.2222222222222222,
              "#7201a8"
             ],
             [
              0.3333333333333333,
              "#9c179e"
             ],
             [
              0.4444444444444444,
              "#bd3786"
             ],
             [
              0.5555555555555556,
              "#d8576b"
             ],
             [
              0.6666666666666666,
              "#ed7953"
             ],
             [
              0.7777777777777778,
              "#fb9f3a"
             ],
             [
              0.8888888888888888,
              "#fdca26"
             ],
             [
              1,
              "#f0f921"
             ]
            ],
            "type": "heatmap"
           }
          ],
          "heatmapgl": [
           {
            "colorbar": {
             "outlinewidth": 0,
             "ticks": ""
            },
            "colorscale": [
             [
              0,
              "#0d0887"
             ],
             [
              0.1111111111111111,
              "#46039f"
             ],
             [
              0.2222222222222222,
              "#7201a8"
             ],
             [
              0.3333333333333333,
              "#9c179e"
             ],
             [
              0.4444444444444444,
              "#bd3786"
             ],
             [
              0.5555555555555556,
              "#d8576b"
             ],
             [
              0.6666666666666666,
              "#ed7953"
             ],
             [
              0.7777777777777778,
              "#fb9f3a"
             ],
             [
              0.8888888888888888,
              "#fdca26"
             ],
             [
              1,
              "#f0f921"
             ]
            ],
            "type": "heatmapgl"
           }
          ],
          "histogram": [
           {
            "marker": {
             "pattern": {
              "fillmode": "overlay",
              "size": 10,
              "solidity": 0.2
             }
            },
            "type": "histogram"
           }
          ],
          "histogram2d": [
           {
            "colorbar": {
             "outlinewidth": 0,
             "ticks": ""
            },
            "colorscale": [
             [
              0,
              "#0d0887"
             ],
             [
              0.1111111111111111,
              "#46039f"
             ],
             [
              0.2222222222222222,
              "#7201a8"
             ],
             [
              0.3333333333333333,
              "#9c179e"
             ],
             [
              0.4444444444444444,
              "#bd3786"
             ],
             [
              0.5555555555555556,
              "#d8576b"
             ],
             [
              0.6666666666666666,
              "#ed7953"
             ],
             [
              0.7777777777777778,
              "#fb9f3a"
             ],
             [
              0.8888888888888888,
              "#fdca26"
             ],
             [
              1,
              "#f0f921"
             ]
            ],
            "type": "histogram2d"
           }
          ],
          "histogram2dcontour": [
           {
            "colorbar": {
             "outlinewidth": 0,
             "ticks": ""
            },
            "colorscale": [
             [
              0,
              "#0d0887"
             ],
             [
              0.1111111111111111,
              "#46039f"
             ],
             [
              0.2222222222222222,
              "#7201a8"
             ],
             [
              0.3333333333333333,
              "#9c179e"
             ],
             [
              0.4444444444444444,
              "#bd3786"
             ],
             [
              0.5555555555555556,
              "#d8576b"
             ],
             [
              0.6666666666666666,
              "#ed7953"
             ],
             [
              0.7777777777777778,
              "#fb9f3a"
             ],
             [
              0.8888888888888888,
              "#fdca26"
             ],
             [
              1,
              "#f0f921"
             ]
            ],
            "type": "histogram2dcontour"
           }
          ],
          "mesh3d": [
           {
            "colorbar": {
             "outlinewidth": 0,
             "ticks": ""
            },
            "type": "mesh3d"
           }
          ],
          "parcoords": [
           {
            "line": {
             "colorbar": {
              "outlinewidth": 0,
              "ticks": ""
             }
            },
            "type": "parcoords"
           }
          ],
          "pie": [
           {
            "automargin": true,
            "type": "pie"
           }
          ],
          "scatter": [
           {
            "marker": {
             "colorbar": {
              "outlinewidth": 0,
              "ticks": ""
             }
            },
            "type": "scatter"
           }
          ],
          "scatter3d": [
           {
            "line": {
             "colorbar": {
              "outlinewidth": 0,
              "ticks": ""
             }
            },
            "marker": {
             "colorbar": {
              "outlinewidth": 0,
              "ticks": ""
             }
            },
            "type": "scatter3d"
           }
          ],
          "scattercarpet": [
           {
            "marker": {
             "colorbar": {
              "outlinewidth": 0,
              "ticks": ""
             }
            },
            "type": "scattercarpet"
           }
          ],
          "scattergeo": [
           {
            "marker": {
             "colorbar": {
              "outlinewidth": 0,
              "ticks": ""
             }
            },
            "type": "scattergeo"
           }
          ],
          "scattergl": [
           {
            "marker": {
             "colorbar": {
              "outlinewidth": 0,
              "ticks": ""
             }
            },
            "type": "scattergl"
           }
          ],
          "scattermapbox": [
           {
            "marker": {
             "colorbar": {
              "outlinewidth": 0,
              "ticks": ""
             }
            },
            "type": "scattermapbox"
           }
          ],
          "scatterpolar": [
           {
            "marker": {
             "colorbar": {
              "outlinewidth": 0,
              "ticks": ""
             }
            },
            "type": "scatterpolar"
           }
          ],
          "scatterpolargl": [
           {
            "marker": {
             "colorbar": {
              "outlinewidth": 0,
              "ticks": ""
             }
            },
            "type": "scatterpolargl"
           }
          ],
          "scatterternary": [
           {
            "marker": {
             "colorbar": {
              "outlinewidth": 0,
              "ticks": ""
             }
            },
            "type": "scatterternary"
           }
          ],
          "surface": [
           {
            "colorbar": {
             "outlinewidth": 0,
             "ticks": ""
            },
            "colorscale": [
             [
              0,
              "#0d0887"
             ],
             [
              0.1111111111111111,
              "#46039f"
             ],
             [
              0.2222222222222222,
              "#7201a8"
             ],
             [
              0.3333333333333333,
              "#9c179e"
             ],
             [
              0.4444444444444444,
              "#bd3786"
             ],
             [
              0.5555555555555556,
              "#d8576b"
             ],
             [
              0.6666666666666666,
              "#ed7953"
             ],
             [
              0.7777777777777778,
              "#fb9f3a"
             ],
             [
              0.8888888888888888,
              "#fdca26"
             ],
             [
              1,
              "#f0f921"
             ]
            ],
            "type": "surface"
           }
          ],
          "table": [
           {
            "cells": {
             "fill": {
              "color": "#EBF0F8"
             },
             "line": {
              "color": "white"
             }
            },
            "header": {
             "fill": {
              "color": "#C8D4E3"
             },
             "line": {
              "color": "white"
             }
            },
            "type": "table"
           }
          ]
         },
         "layout": {
          "annotationdefaults": {
           "arrowcolor": "#2a3f5f",
           "arrowhead": 0,
           "arrowwidth": 1
          },
          "autotypenumbers": "strict",
          "coloraxis": {
           "colorbar": {
            "outlinewidth": 0,
            "ticks": ""
           }
          },
          "colorscale": {
           "diverging": [
            [
             0,
             "#8e0152"
            ],
            [
             0.1,
             "#c51b7d"
            ],
            [
             0.2,
             "#de77ae"
            ],
            [
             0.3,
             "#f1b6da"
            ],
            [
             0.4,
             "#fde0ef"
            ],
            [
             0.5,
             "#f7f7f7"
            ],
            [
             0.6,
             "#e6f5d0"
            ],
            [
             0.7,
             "#b8e186"
            ],
            [
             0.8,
             "#7fbc41"
            ],
            [
             0.9,
             "#4d9221"
            ],
            [
             1,
             "#276419"
            ]
           ],
           "sequential": [
            [
             0,
             "#0d0887"
            ],
            [
             0.1111111111111111,
             "#46039f"
            ],
            [
             0.2222222222222222,
             "#7201a8"
            ],
            [
             0.3333333333333333,
             "#9c179e"
            ],
            [
             0.4444444444444444,
             "#bd3786"
            ],
            [
             0.5555555555555556,
             "#d8576b"
            ],
            [
             0.6666666666666666,
             "#ed7953"
            ],
            [
             0.7777777777777778,
             "#fb9f3a"
            ],
            [
             0.8888888888888888,
             "#fdca26"
            ],
            [
             1,
             "#f0f921"
            ]
           ],
           "sequentialminus": [
            [
             0,
             "#0d0887"
            ],
            [
             0.1111111111111111,
             "#46039f"
            ],
            [
             0.2222222222222222,
             "#7201a8"
            ],
            [
             0.3333333333333333,
             "#9c179e"
            ],
            [
             0.4444444444444444,
             "#bd3786"
            ],
            [
             0.5555555555555556,
             "#d8576b"
            ],
            [
             0.6666666666666666,
             "#ed7953"
            ],
            [
             0.7777777777777778,
             "#fb9f3a"
            ],
            [
             0.8888888888888888,
             "#fdca26"
            ],
            [
             1,
             "#f0f921"
            ]
           ]
          },
          "colorway": [
           "#636efa",
           "#EF553B",
           "#00cc96",
           "#ab63fa",
           "#FFA15A",
           "#19d3f3",
           "#FF6692",
           "#B6E880",
           "#FF97FF",
           "#FECB52"
          ],
          "font": {
           "color": "#2a3f5f"
          },
          "geo": {
           "bgcolor": "white",
           "lakecolor": "white",
           "landcolor": "#E5ECF6",
           "showlakes": true,
           "showland": true,
           "subunitcolor": "white"
          },
          "hoverlabel": {
           "align": "left"
          },
          "hovermode": "closest",
          "mapbox": {
           "style": "light"
          },
          "paper_bgcolor": "white",
          "plot_bgcolor": "#E5ECF6",
          "polar": {
           "angularaxis": {
            "gridcolor": "white",
            "linecolor": "white",
            "ticks": ""
           },
           "bgcolor": "#E5ECF6",
           "radialaxis": {
            "gridcolor": "white",
            "linecolor": "white",
            "ticks": ""
           }
          },
          "scene": {
           "xaxis": {
            "backgroundcolor": "#E5ECF6",
            "gridcolor": "white",
            "gridwidth": 2,
            "linecolor": "white",
            "showbackground": true,
            "ticks": "",
            "zerolinecolor": "white"
           },
           "yaxis": {
            "backgroundcolor": "#E5ECF6",
            "gridcolor": "white",
            "gridwidth": 2,
            "linecolor": "white",
            "showbackground": true,
            "ticks": "",
            "zerolinecolor": "white"
           },
           "zaxis": {
            "backgroundcolor": "#E5ECF6",
            "gridcolor": "white",
            "gridwidth": 2,
            "linecolor": "white",
            "showbackground": true,
            "ticks": "",
            "zerolinecolor": "white"
           }
          },
          "shapedefaults": {
           "line": {
            "color": "#2a3f5f"
           }
          },
          "ternary": {
           "aaxis": {
            "gridcolor": "white",
            "linecolor": "white",
            "ticks": ""
           },
           "baxis": {
            "gridcolor": "white",
            "linecolor": "white",
            "ticks": ""
           },
           "bgcolor": "#E5ECF6",
           "caxis": {
            "gridcolor": "white",
            "linecolor": "white",
            "ticks": ""
           }
          },
          "title": {
           "x": 0.05
          },
          "xaxis": {
           "automargin": true,
           "gridcolor": "white",
           "linecolor": "white",
           "ticks": "",
           "title": {
            "standoff": 15
           },
           "zerolinecolor": "white",
           "zerolinewidth": 2
          },
          "yaxis": {
           "automargin": true,
           "gridcolor": "white",
           "linecolor": "white",
           "ticks": "",
           "title": {
            "standoff": 15
           },
           "zerolinecolor": "white",
           "zerolinewidth": 2
          }
         }
        }
       }
      },
      "image/png": "[encoded data removed]",
      "text/html": [
       "<div>                            <div id=\"384da89a-b95d-4589-8f6e-32eedc04e07d\" class=\"plotly-graph-div\" style=\"height:525px; width:100%;\"></div>            <script type=\"text/javascript\">                require([\"plotly\"], function(Plotly) {                    window.PLOTLYENV=window.PLOTLYENV || {};                                    if (document.getElementById(\"384da89a-b95d-4589-8f6e-32eedc04e07d\")) {                    Plotly.newPlot(                        \"384da89a-b95d-4589-8f6e-32eedc04e07d\",                        [{\"hole\":0.6,\"labels\":[\"Winning %\",\"Losing %\",\"Tie %\"],\"marker\":{\"colors\":[\"#008000\",\"#FF0000\",\"#FFFF00\"]},\"showlegend\":true,\"title\":{\"text\":\"1992-2003, 2009<\"},\"values\":[67.94582392776523,12.18961625282167,19.864559819413092],\"type\":\"pie\"}],                        {\"template\":{\"data\":{\"bar\":[{\"error_x\":{\"color\":\"#2a3f5f\"},\"error_y\":{\"color\":\"#2a3f5f\"},\"marker\":{\"line\":{\"color\":\"#E5ECF6\",\"width\":0.5},\"pattern\":{\"fillmode\":\"overlay\",\"size\":10,\"solidity\":0.2}},\"type\":\"bar\"}],\"barpolar\":[{\"marker\":{\"line\":{\"color\":\"#E5ECF6\",\"width\":0.5},\"pattern\":{\"fillmode\":\"overlay\",\"size\":10,\"solidity\":0.2}},\"type\":\"barpolar\"}],\"carpet\":[{\"aaxis\":{\"endlinecolor\":\"#2a3f5f\",\"gridcolor\":\"white\",\"linecolor\":\"white\",\"minorgridcolor\":\"white\",\"startlinecolor\":\"#2a3f5f\"},\"baxis\":{\"endlinecolor\":\"#2a3f5f\",\"gridcolor\":\"white\",\"linecolor\":\"white\",\"minorgridcolor\":\"white\",\"startlinecolor\":\"#2a3f5f\"},\"type\":\"carpet\"}],\"choropleth\":[{\"colorbar\":{\"outlinewidth\":0,\"ticks\":\"\"},\"type\":\"choropleth\"}],\"contour\":[{\"colorbar\":{\"outlinewidth\":0,\"ticks\":\"\"},\"colorscale\":[[0.0,\"#0d0887\"],[0.1111111111111111,\"#46039f\"],[0.2222222222222222,\"#7201a8\"],[0.3333333333333333,\"#9c179e\"],[0.4444444444444444,\"#bd3786\"],[0.5555555555555556,\"#d8576b\"],[0.6666666666666666,\"#ed7953\"],[0.7777777777777778,\"#fb9f3a\"],[0.8888888888888888,\"#fdca26\"],[1.0,\"#f0f921\"]],\"type\":\"contour\"}],\"contourcarpet\":[{\"colorbar\":{\"outlinewidth\":0,\"ticks\":\"\"},\"type\":\"contourcarpet\"}],\"heatmap\":[{\"colorbar\":{\"outlinewidth\":0,\"ticks\":\"\"},\"colorscale\":[[0.0,\"#0d0887\"],[0.1111111111111111,\"#46039f\"],[0.2222222222222222,\"#7201a8\"],[0.3333333333333333,\"#9c179e\"],[0.4444444444444444,\"#bd3786\"],[0.5555555555555556,\"#d8576b\"],[0.6666666666666666,\"#ed7953\"],[0.7777777777777778,\"#fb9f3a\"],[0.8888888888888888,\"#fdca26\"],[1.0,\"#f0f921\"]],\"type\":\"heatmap\"}],\"heatmapgl\":[{\"colorbar\":{\"outlinewidth\":0,\"ticks\":\"\"},\"colorscale\":[[0.0,\"#0d0887\"],[0.1111111111111111,\"#46039f\"],[0.2222222222222222,\"#7201a8\"],[0.3333333333333333,\"#9c179e\"],[0.4444444444444444,\"#bd3786\"],[0.5555555555555556,\"#d8576b\"],[0.6666666666666666,\"#ed7953\"],[0.7777777777777778,\"#fb9f3a\"],[0.8888888888888888,\"#fdca26\"],[1.0,\"#f0f921\"]],\"type\":\"heatmapgl\"}],\"histogram\":[{\"marker\":{\"pattern\":{\"fillmode\":\"overlay\",\"size\":10,\"solidity\":0.2}},\"type\":\"histogram\"}],\"histogram2d\":[{\"colorbar\":{\"outlinewidth\":0,\"ticks\":\"\"},\"colorscale\":[[0.0,\"#0d0887\"],[0.1111111111111111,\"#46039f\"],[0.2222222222222222,\"#7201a8\"],[0.3333333333333333,\"#9c179e\"],[0.4444444444444444,\"#bd3786\"],[0.5555555555555556,\"#d8576b\"],[0.6666666666666666,\"#ed7953\"],[0.7777777777777778,\"#fb9f3a\"],[0.8888888888888888,\"#fdca26\"],[1.0,\"#f0f921\"]],\"type\":\"histogram2d\"}],\"histogram2dcontour\":[{\"colorbar\":{\"outlinewidth\":0,\"ticks\":\"\"},\"colorscale\":[[0.0,\"#0d0887\"],[0.1111111111111111,\"#46039f\"],[0.2222222222222222,\"#7201a8\"],[0.3333333333333333,\"#9c179e\"],[0.4444444444444444,\"#bd3786\"],[0.5555555555555556,\"#d8576b\"],[0.6666666666666666,\"#ed7953\"],[0.7777777777777778,\"#fb9f3a\"],[0.8888888888888888,\"#fdca26\"],[1.0,\"#f0f921\"]],\"type\":\"histogram2dcontour\"}],\"mesh3d\":[{\"colorbar\":{\"outlinewidth\":0,\"ticks\":\"\"},\"type\":\"mesh3d\"}],\"parcoords\":[{\"line\":{\"colorbar\":{\"outlinewidth\":0,\"ticks\":\"\"}},\"type\":\"parcoords\"}],\"pie\":[{\"automargin\":true,\"type\":\"pie\"}],\"scatter\":[{\"marker\":{\"colorbar\":{\"outlinewidth\":0,\"ticks\":\"\"}},\"type\":\"scatter\"}],\"scatter3d\":[{\"line\":{\"colorbar\":{\"outlinewidth\":0,\"ticks\":\"\"}},\"marker\":{\"colorbar\":{\"outlinewidth\":0,\"ticks\":\"\"}},\"type\":\"scatter3d\"}],\"scattercarpet\":[{\"marker\":{\"colorbar\":{\"outlinewidth\":0,\"ticks\":\"\"}},\"type\":\"scattercarpet\"}],\"scattergeo\":[{\"marker\":{\"colorbar\":{\"outlinewidth\":0,\"ticks\":\"\"}},\"type\":\"scattergeo\"}],\"scattergl\":[{\"marker\":{\"colorbar\":{\"outlinewidth\":0,\"ticks\":\"\"}},\"type\":\"scattergl\"}],\"scattermapbox\":[{\"marker\":{\"colorbar\":{\"outlinewidth\":0,\"ticks\":\"\"}},\"type\":\"scattermapbox\"}],\"scatterpolar\":[{\"marker\":{\"colorbar\":{\"outlinewidth\":0,\"ticks\":\"\"}},\"type\":\"scatterpolar\"}],\"scatterpolargl\":[{\"marker\":{\"colorbar\":{\"outlinewidth\":0,\"ticks\":\"\"}},\"type\":\"scatterpolargl\"}],\"scatterternary\":[{\"marker\":{\"colorbar\":{\"outlinewidth\":0,\"ticks\":\"\"}},\"type\":\"scatterternary\"}],\"surface\":[{\"colorbar\":{\"outlinewidth\":0,\"ticks\":\"\"},\"colorscale\":[[0.0,\"#0d0887\"],[0.1111111111111111,\"#46039f\"],[0.2222222222222222,\"#7201a8\"],[0.3333333333333333,\"#9c179e\"],[0.4444444444444444,\"#bd3786\"],[0.5555555555555556,\"#d8576b\"],[0.6666666666666666,\"#ed7953\"],[0.7777777777777778,\"#fb9f3a\"],[0.8888888888888888,\"#fdca26\"],[1.0,\"#f0f921\"]],\"type\":\"surface\"}],\"table\":[{\"cells\":{\"fill\":{\"color\":\"#EBF0F8\"},\"line\":{\"color\":\"white\"}},\"header\":{\"fill\":{\"color\":\"#C8D4E3\"},\"line\":{\"color\":\"white\"}},\"type\":\"table\"}]},\"layout\":{\"annotationdefaults\":{\"arrowcolor\":\"#2a3f5f\",\"arrowhead\":0,\"arrowwidth\":1},\"autotypenumbers\":\"strict\",\"coloraxis\":{\"colorbar\":{\"outlinewidth\":0,\"ticks\":\"\"}},\"colorscale\":{\"diverging\":[[0,\"#8e0152\"],[0.1,\"#c51b7d\"],[0.2,\"#de77ae\"],[0.3,\"#f1b6da\"],[0.4,\"#fde0ef\"],[0.5,\"#f7f7f7\"],[0.6,\"#e6f5d0\"],[0.7,\"#b8e186\"],[0.8,\"#7fbc41\"],[0.9,\"#4d9221\"],[1,\"#276419\"]],\"sequential\":[[0.0,\"#0d0887\"],[0.1111111111111111,\"#46039f\"],[0.2222222222222222,\"#7201a8\"],[0.3333333333333333,\"#9c179e\"],[0.4444444444444444,\"#bd3786\"],[0.5555555555555556,\"#d8576b\"],[0.6666666666666666,\"#ed7953\"],[0.7777777777777778,\"#fb9f3a\"],[0.8888888888888888,\"#fdca26\"],[1.0,\"#f0f921\"]],\"sequentialminus\":[[0.0,\"#0d0887\"],[0.1111111111111111,\"#46039f\"],[0.2222222222222222,\"#7201a8\"],[0.3333333333333333,\"#9c179e\"],[0.4444444444444444,\"#bd3786\"],[0.5555555555555556,\"#d8576b\"],[0.6666666666666666,\"#ed7953\"],[0.7777777777777778,\"#fb9f3a\"],[0.8888888888888888,\"#fdca26\"],[1.0,\"#f0f921\"]]},\"colorway\":[\"#636efa\",\"#EF553B\",\"#00cc96\",\"#ab63fa\",\"#FFA15A\",\"#19d3f3\",\"#FF6692\",\"#B6E880\",\"#FF97FF\",\"#FECB52\"],\"font\":{\"color\":\"#2a3f5f\"},\"geo\":{\"bgcolor\":\"white\",\"lakecolor\":\"white\",\"landcolor\":\"#E5ECF6\",\"showlakes\":true,\"showland\":true,\"subunitcolor\":\"white\"},\"hoverlabel\":{\"align\":\"left\"},\"hovermode\":\"closest\",\"mapbox\":{\"style\":\"light\"},\"paper_bgcolor\":\"white\",\"plot_bgcolor\":\"#E5ECF6\",\"polar\":{\"angularaxis\":{\"gridcolor\":\"white\",\"linecolor\":\"white\",\"ticks\":\"\"},\"bgcolor\":\"#E5ECF6\",\"radialaxis\":{\"gridcolor\":\"white\",\"linecolor\":\"white\",\"ticks\":\"\"}},\"scene\":{\"xaxis\":{\"backgroundcolor\":\"#E5ECF6\",\"gridcolor\":\"white\",\"gridwidth\":2,\"linecolor\":\"white\",\"showbackground\":true,\"ticks\":\"\",\"zerolinecolor\":\"white\"},\"yaxis\":{\"backgroundcolor\":\"#E5ECF6\",\"gridcolor\":\"white\",\"gridwidth\":2,\"linecolor\":\"white\",\"showbackground\":true,\"ticks\":\"\",\"zerolinecolor\":\"white\"},\"zaxis\":{\"backgroundcolor\":\"#E5ECF6\",\"gridcolor\":\"white\",\"gridwidth\":2,\"linecolor\":\"white\",\"showbackground\":true,\"ticks\":\"\",\"zerolinecolor\":\"white\"}},\"shapedefaults\":{\"line\":{\"color\":\"#2a3f5f\"}},\"ternary\":{\"aaxis\":{\"gridcolor\":\"white\",\"linecolor\":\"white\",\"ticks\":\"\"},\"baxis\":{\"gridcolor\":\"white\",\"linecolor\":\"white\",\"ticks\":\"\"},\"bgcolor\":\"#E5ECF6\",\"caxis\":{\"gridcolor\":\"white\",\"linecolor\":\"white\",\"ticks\":\"\"}},\"title\":{\"x\":0.05},\"xaxis\":{\"automargin\":true,\"gridcolor\":\"white\",\"linecolor\":\"white\",\"ticks\":\"\",\"title\":{\"standoff\":15},\"zerolinecolor\":\"white\",\"zerolinewidth\":2},\"yaxis\":{\"automargin\":true,\"gridcolor\":\"white\",\"linecolor\":\"white\",\"ticks\":\"\",\"title\":{\"standoff\":15},\"zerolinecolor\":\"white\",\"zerolinewidth\":2}}}},                        {\"responsive\": true}                    ).then(function(){\n",
       "                            \n",
       "var gd = document.getElementById('384da89a-b95d-4589-8f6e-32eedc04e07d');\n",
       "var x = new MutationObserver(function (mutations, observer) {{\n",
       "        var display = window.getComputedStyle(gd).display;\n",
       "        if (!display || display === 'none') {{\n",
       "            console.log([gd, 'removed!']);\n",
       "            Plotly.purge(gd);\n",
       "            observer.disconnect();\n",
       "        }}\n",
       "}});\n",
       "\n",
       "// Listen for the removal of the full notebook cells\n",
       "var notebookContainer = gd.closest('#notebook-container');\n",
       "if (notebookContainer) {{\n",
       "    x.observe(notebookContainer, {childList: true});\n",
       "}}\n",
       "\n",
       "// Listen for the clearing of the current output cell\n",
       "var outputEl = gd.closest('.output');\n",
       "if (outputEl) {{\n",
       "    x.observe(outputEl, {childList: true});\n",
       "}}\n",
       "\n",
       "                        })                };                });            </script>        </div>"
      ]
     },
     "metadata": {},
     "output_type": "display_data"
    }
   ],
   "source": [
    "#Plot Donut chart for Home Ground Wins\n",
    "values = percentages_with_ronaldo\n",
    "colours = ['#008000', '#FF0000', '#FFFF00']\n",
    "labels=['Winning %', 'Losing %', 'Tie %']\n",
    "\n",
    "\n",
    "trace1 = {'values': values, \n",
    "          'labels': labels,\n",
    "          'marker': {'colors': colours},\n",
    "          'type': 'pie',\n",
    "          'hole': 0.6,\n",
    "          'title': '2003-2009',\n",
    "          'showlegend': True}\n",
    "\n",
    "print(color.BOLD + '% of Home Ground Wins with Ronaldo Playing for Manchester United (2003 - 2009)')\n",
    "\n",
    "pio.show({'data': [trace1]})\n",
    "\n",
    "values1 = percentages_no_ronaldo\n",
    "\n",
    "trace2 = {'values': values1, \n",
    "          'labels': labels,\n",
    "          'marker': {'colors': colours},\n",
    "          'type': 'pie',\n",
    "          'hole': 0.6,\n",
    "          'title': '1992-2003, 2009<',\n",
    "          'showlegend': True}\n",
    "\n",
    "print(color.BOLD + '% of Home Ground Wins without Ronaldo Playing for Manchester United (Before 2003 and after 2009)')\n",
    "pio.show({'data': [trace2]})\n"
   ]
  },
  {
   "cell_type": "markdown",
   "id": "4b142223-ee9e-44c2-ad5c-5f2cd3ca36d3",
   "metadata": {},
   "source": [
    "- The above donut graphs illustrate that the winning probability on home ground was higher for Manchester United when Ronaldo was playing at the club (more than 75%). For seasons where Ronaldo did not play, the win probability for the club is approximately 68%.\n",
    "\n",
    "- On the other hand, losing probability also decreased for Manchester United's club when Ronaldo was playing. There is a decline from 12.2% to 7.52%, a good sign for the team.\n",
    "\n",
    "- It is evident that Ronaldo boosted the club's success in Premier League. It is because during his stay, win probability increased, and the loss percentage decreased for matches played at home ground."
   ]
  },
  {
   "cell_type": "markdown",
   "id": "98cbda3f-295b-4a49-b053-160fe202ca32",
   "metadata": {},
   "source": [
    "### Objective III - Cristiano Ronaldo's Career Goals"
   ]
  },
  {
   "cell_type": "code",
   "execution_count": 2,
   "id": "497c3f42-f24d-4740-80cb-3d106fa48761",
   "metadata": {
    "collapsed": true
   },
   "outputs": [
    {
     "ename": "FileNotFoundError",
     "evalue": "[Errno 2] No such file or directory: 'data.csv'",
     "output_type": "error",
     "traceback": [
      "\u001b[0;31m---------------------------------------------------------------------------\u001b[0m",
      "\u001b[0;31mFileNotFoundError\u001b[0m                         Traceback (most recent call last)",
      "Input \u001b[0;32mIn [2]\u001b[0m, in \u001b[0;36m<cell line: 5>\u001b[0;34m()\u001b[0m\n\u001b[1;32m      1\u001b[0m \u001b[38;5;66;03m# Load datasets for analysis\u001b[39;00m\n\u001b[1;32m      2\u001b[0m \n\u001b[1;32m      3\u001b[0m \u001b[38;5;66;03m# Creating a dataframe for Ronaldo's career goals\u001b[39;00m\n\u001b[1;32m      4\u001b[0m \u001b[38;5;28;01mimport\u001b[39;00m \u001b[38;5;21;01mpandas\u001b[39;00m \u001b[38;5;28;01mas\u001b[39;00m \u001b[38;5;21;01mpd\u001b[39;00m\n\u001b[0;32m----> 5\u001b[0m df \u001b[38;5;241m=\u001b[39m \u001b[43mpd\u001b[49m\u001b[38;5;241;43m.\u001b[39;49m\u001b[43mread_csv\u001b[49m\u001b[43m(\u001b[49m\u001b[38;5;124;43m\"\u001b[39;49m\u001b[38;5;124;43mdata.csv\u001b[39;49m\u001b[38;5;124;43m\"\u001b[39;49m\u001b[43m)\u001b[49m\n\u001b[1;32m      6\u001b[0m df_o \u001b[38;5;241m=\u001b[39m pd\u001b[38;5;241m.\u001b[39mread_csv(\u001b[38;5;124m\"\u001b[39m\u001b[38;5;124moverall.csv\u001b[39m\u001b[38;5;124m\"\u001b[39m)\n",
      "File \u001b[0;32m~/opt/anaconda3/lib/python3.9/site-packages/pandas/util/_decorators.py:211\u001b[0m, in \u001b[0;36mdeprecate_kwarg.<locals>._deprecate_kwarg.<locals>.wrapper\u001b[0;34m(*args, **kwargs)\u001b[0m\n\u001b[1;32m    209\u001b[0m     \u001b[38;5;28;01melse\u001b[39;00m:\n\u001b[1;32m    210\u001b[0m         kwargs[new_arg_name] \u001b[38;5;241m=\u001b[39m new_arg_value\n\u001b[0;32m--> 211\u001b[0m \u001b[38;5;28;01mreturn\u001b[39;00m \u001b[43mfunc\u001b[49m\u001b[43m(\u001b[49m\u001b[38;5;241;43m*\u001b[39;49m\u001b[43margs\u001b[49m\u001b[43m,\u001b[49m\u001b[43m \u001b[49m\u001b[38;5;241;43m*\u001b[39;49m\u001b[38;5;241;43m*\u001b[39;49m\u001b[43mkwargs\u001b[49m\u001b[43m)\u001b[49m\n",
      "File \u001b[0;32m~/opt/anaconda3/lib/python3.9/site-packages/pandas/util/_decorators.py:331\u001b[0m, in \u001b[0;36mdeprecate_nonkeyword_arguments.<locals>.decorate.<locals>.wrapper\u001b[0;34m(*args, **kwargs)\u001b[0m\n\u001b[1;32m    325\u001b[0m \u001b[38;5;28;01mif\u001b[39;00m \u001b[38;5;28mlen\u001b[39m(args) \u001b[38;5;241m>\u001b[39m num_allow_args:\n\u001b[1;32m    326\u001b[0m     warnings\u001b[38;5;241m.\u001b[39mwarn(\n\u001b[1;32m    327\u001b[0m         msg\u001b[38;5;241m.\u001b[39mformat(arguments\u001b[38;5;241m=\u001b[39m_format_argument_list(allow_args)),\n\u001b[1;32m    328\u001b[0m         \u001b[38;5;167;01mFutureWarning\u001b[39;00m,\n\u001b[1;32m    329\u001b[0m         stacklevel\u001b[38;5;241m=\u001b[39mfind_stack_level(),\n\u001b[1;32m    330\u001b[0m     )\n\u001b[0;32m--> 331\u001b[0m \u001b[38;5;28;01mreturn\u001b[39;00m \u001b[43mfunc\u001b[49m\u001b[43m(\u001b[49m\u001b[38;5;241;43m*\u001b[39;49m\u001b[43margs\u001b[49m\u001b[43m,\u001b[49m\u001b[43m \u001b[49m\u001b[38;5;241;43m*\u001b[39;49m\u001b[38;5;241;43m*\u001b[39;49m\u001b[43mkwargs\u001b[49m\u001b[43m)\u001b[49m\n",
      "File \u001b[0;32m~/opt/anaconda3/lib/python3.9/site-packages/pandas/io/parsers/readers.py:950\u001b[0m, in \u001b[0;36mread_csv\u001b[0;34m(filepath_or_buffer, sep, delimiter, header, names, index_col, usecols, squeeze, prefix, mangle_dupe_cols, dtype, engine, converters, true_values, false_values, skipinitialspace, skiprows, skipfooter, nrows, na_values, keep_default_na, na_filter, verbose, skip_blank_lines, parse_dates, infer_datetime_format, keep_date_col, date_parser, dayfirst, cache_dates, iterator, chunksize, compression, thousands, decimal, lineterminator, quotechar, quoting, doublequote, escapechar, comment, encoding, encoding_errors, dialect, error_bad_lines, warn_bad_lines, on_bad_lines, delim_whitespace, low_memory, memory_map, float_precision, storage_options)\u001b[0m\n\u001b[1;32m    935\u001b[0m kwds_defaults \u001b[38;5;241m=\u001b[39m _refine_defaults_read(\n\u001b[1;32m    936\u001b[0m     dialect,\n\u001b[1;32m    937\u001b[0m     delimiter,\n\u001b[0;32m   (...)\u001b[0m\n\u001b[1;32m    946\u001b[0m     defaults\u001b[38;5;241m=\u001b[39m{\u001b[38;5;124m\"\u001b[39m\u001b[38;5;124mdelimiter\u001b[39m\u001b[38;5;124m\"\u001b[39m: \u001b[38;5;124m\"\u001b[39m\u001b[38;5;124m,\u001b[39m\u001b[38;5;124m\"\u001b[39m},\n\u001b[1;32m    947\u001b[0m )\n\u001b[1;32m    948\u001b[0m kwds\u001b[38;5;241m.\u001b[39mupdate(kwds_defaults)\n\u001b[0;32m--> 950\u001b[0m \u001b[38;5;28;01mreturn\u001b[39;00m \u001b[43m_read\u001b[49m\u001b[43m(\u001b[49m\u001b[43mfilepath_or_buffer\u001b[49m\u001b[43m,\u001b[49m\u001b[43m \u001b[49m\u001b[43mkwds\u001b[49m\u001b[43m)\u001b[49m\n",
      "File \u001b[0;32m~/opt/anaconda3/lib/python3.9/site-packages/pandas/io/parsers/readers.py:605\u001b[0m, in \u001b[0;36m_read\u001b[0;34m(filepath_or_buffer, kwds)\u001b[0m\n\u001b[1;32m    602\u001b[0m _validate_names(kwds\u001b[38;5;241m.\u001b[39mget(\u001b[38;5;124m\"\u001b[39m\u001b[38;5;124mnames\u001b[39m\u001b[38;5;124m\"\u001b[39m, \u001b[38;5;28;01mNone\u001b[39;00m))\n\u001b[1;32m    604\u001b[0m \u001b[38;5;66;03m# Create the parser.\u001b[39;00m\n\u001b[0;32m--> 605\u001b[0m parser \u001b[38;5;241m=\u001b[39m \u001b[43mTextFileReader\u001b[49m\u001b[43m(\u001b[49m\u001b[43mfilepath_or_buffer\u001b[49m\u001b[43m,\u001b[49m\u001b[43m \u001b[49m\u001b[38;5;241;43m*\u001b[39;49m\u001b[38;5;241;43m*\u001b[39;49m\u001b[43mkwds\u001b[49m\u001b[43m)\u001b[49m\n\u001b[1;32m    607\u001b[0m \u001b[38;5;28;01mif\u001b[39;00m chunksize \u001b[38;5;129;01mor\u001b[39;00m iterator:\n\u001b[1;32m    608\u001b[0m     \u001b[38;5;28;01mreturn\u001b[39;00m parser\n",
      "File \u001b[0;32m~/opt/anaconda3/lib/python3.9/site-packages/pandas/io/parsers/readers.py:1442\u001b[0m, in \u001b[0;36mTextFileReader.__init__\u001b[0;34m(self, f, engine, **kwds)\u001b[0m\n\u001b[1;32m   1439\u001b[0m     \u001b[38;5;28mself\u001b[39m\u001b[38;5;241m.\u001b[39moptions[\u001b[38;5;124m\"\u001b[39m\u001b[38;5;124mhas_index_names\u001b[39m\u001b[38;5;124m\"\u001b[39m] \u001b[38;5;241m=\u001b[39m kwds[\u001b[38;5;124m\"\u001b[39m\u001b[38;5;124mhas_index_names\u001b[39m\u001b[38;5;124m\"\u001b[39m]\n\u001b[1;32m   1441\u001b[0m \u001b[38;5;28mself\u001b[39m\u001b[38;5;241m.\u001b[39mhandles: IOHandles \u001b[38;5;241m|\u001b[39m \u001b[38;5;28;01mNone\u001b[39;00m \u001b[38;5;241m=\u001b[39m \u001b[38;5;28;01mNone\u001b[39;00m\n\u001b[0;32m-> 1442\u001b[0m \u001b[38;5;28mself\u001b[39m\u001b[38;5;241m.\u001b[39m_engine \u001b[38;5;241m=\u001b[39m \u001b[38;5;28;43mself\u001b[39;49m\u001b[38;5;241;43m.\u001b[39;49m\u001b[43m_make_engine\u001b[49m\u001b[43m(\u001b[49m\u001b[43mf\u001b[49m\u001b[43m,\u001b[49m\u001b[43m \u001b[49m\u001b[38;5;28;43mself\u001b[39;49m\u001b[38;5;241;43m.\u001b[39;49m\u001b[43mengine\u001b[49m\u001b[43m)\u001b[49m\n",
      "File \u001b[0;32m~/opt/anaconda3/lib/python3.9/site-packages/pandas/io/parsers/readers.py:1735\u001b[0m, in \u001b[0;36mTextFileReader._make_engine\u001b[0;34m(self, f, engine)\u001b[0m\n\u001b[1;32m   1733\u001b[0m     \u001b[38;5;28;01mif\u001b[39;00m \u001b[38;5;124m\"\u001b[39m\u001b[38;5;124mb\u001b[39m\u001b[38;5;124m\"\u001b[39m \u001b[38;5;129;01mnot\u001b[39;00m \u001b[38;5;129;01min\u001b[39;00m mode:\n\u001b[1;32m   1734\u001b[0m         mode \u001b[38;5;241m+\u001b[39m\u001b[38;5;241m=\u001b[39m \u001b[38;5;124m\"\u001b[39m\u001b[38;5;124mb\u001b[39m\u001b[38;5;124m\"\u001b[39m\n\u001b[0;32m-> 1735\u001b[0m \u001b[38;5;28mself\u001b[39m\u001b[38;5;241m.\u001b[39mhandles \u001b[38;5;241m=\u001b[39m \u001b[43mget_handle\u001b[49m\u001b[43m(\u001b[49m\n\u001b[1;32m   1736\u001b[0m \u001b[43m    \u001b[49m\u001b[43mf\u001b[49m\u001b[43m,\u001b[49m\n\u001b[1;32m   1737\u001b[0m \u001b[43m    \u001b[49m\u001b[43mmode\u001b[49m\u001b[43m,\u001b[49m\n\u001b[1;32m   1738\u001b[0m \u001b[43m    \u001b[49m\u001b[43mencoding\u001b[49m\u001b[38;5;241;43m=\u001b[39;49m\u001b[38;5;28;43mself\u001b[39;49m\u001b[38;5;241;43m.\u001b[39;49m\u001b[43moptions\u001b[49m\u001b[38;5;241;43m.\u001b[39;49m\u001b[43mget\u001b[49m\u001b[43m(\u001b[49m\u001b[38;5;124;43m\"\u001b[39;49m\u001b[38;5;124;43mencoding\u001b[39;49m\u001b[38;5;124;43m\"\u001b[39;49m\u001b[43m,\u001b[49m\u001b[43m \u001b[49m\u001b[38;5;28;43;01mNone\u001b[39;49;00m\u001b[43m)\u001b[49m\u001b[43m,\u001b[49m\n\u001b[1;32m   1739\u001b[0m \u001b[43m    \u001b[49m\u001b[43mcompression\u001b[49m\u001b[38;5;241;43m=\u001b[39;49m\u001b[38;5;28;43mself\u001b[39;49m\u001b[38;5;241;43m.\u001b[39;49m\u001b[43moptions\u001b[49m\u001b[38;5;241;43m.\u001b[39;49m\u001b[43mget\u001b[49m\u001b[43m(\u001b[49m\u001b[38;5;124;43m\"\u001b[39;49m\u001b[38;5;124;43mcompression\u001b[39;49m\u001b[38;5;124;43m\"\u001b[39;49m\u001b[43m,\u001b[49m\u001b[43m \u001b[49m\u001b[38;5;28;43;01mNone\u001b[39;49;00m\u001b[43m)\u001b[49m\u001b[43m,\u001b[49m\n\u001b[1;32m   1740\u001b[0m \u001b[43m    \u001b[49m\u001b[43mmemory_map\u001b[49m\u001b[38;5;241;43m=\u001b[39;49m\u001b[38;5;28;43mself\u001b[39;49m\u001b[38;5;241;43m.\u001b[39;49m\u001b[43moptions\u001b[49m\u001b[38;5;241;43m.\u001b[39;49m\u001b[43mget\u001b[49m\u001b[43m(\u001b[49m\u001b[38;5;124;43m\"\u001b[39;49m\u001b[38;5;124;43mmemory_map\u001b[39;49m\u001b[38;5;124;43m\"\u001b[39;49m\u001b[43m,\u001b[49m\u001b[43m \u001b[49m\u001b[38;5;28;43;01mFalse\u001b[39;49;00m\u001b[43m)\u001b[49m\u001b[43m,\u001b[49m\n\u001b[1;32m   1741\u001b[0m \u001b[43m    \u001b[49m\u001b[43mis_text\u001b[49m\u001b[38;5;241;43m=\u001b[39;49m\u001b[43mis_text\u001b[49m\u001b[43m,\u001b[49m\n\u001b[1;32m   1742\u001b[0m \u001b[43m    \u001b[49m\u001b[43merrors\u001b[49m\u001b[38;5;241;43m=\u001b[39;49m\u001b[38;5;28;43mself\u001b[39;49m\u001b[38;5;241;43m.\u001b[39;49m\u001b[43moptions\u001b[49m\u001b[38;5;241;43m.\u001b[39;49m\u001b[43mget\u001b[49m\u001b[43m(\u001b[49m\u001b[38;5;124;43m\"\u001b[39;49m\u001b[38;5;124;43mencoding_errors\u001b[39;49m\u001b[38;5;124;43m\"\u001b[39;49m\u001b[43m,\u001b[49m\u001b[43m \u001b[49m\u001b[38;5;124;43m\"\u001b[39;49m\u001b[38;5;124;43mstrict\u001b[39;49m\u001b[38;5;124;43m\"\u001b[39;49m\u001b[43m)\u001b[49m\u001b[43m,\u001b[49m\n\u001b[1;32m   1743\u001b[0m \u001b[43m    \u001b[49m\u001b[43mstorage_options\u001b[49m\u001b[38;5;241;43m=\u001b[39;49m\u001b[38;5;28;43mself\u001b[39;49m\u001b[38;5;241;43m.\u001b[39;49m\u001b[43moptions\u001b[49m\u001b[38;5;241;43m.\u001b[39;49m\u001b[43mget\u001b[49m\u001b[43m(\u001b[49m\u001b[38;5;124;43m\"\u001b[39;49m\u001b[38;5;124;43mstorage_options\u001b[39;49m\u001b[38;5;124;43m\"\u001b[39;49m\u001b[43m,\u001b[49m\u001b[43m \u001b[49m\u001b[38;5;28;43;01mNone\u001b[39;49;00m\u001b[43m)\u001b[49m\u001b[43m,\u001b[49m\n\u001b[1;32m   1744\u001b[0m \u001b[43m\u001b[49m\u001b[43m)\u001b[49m\n\u001b[1;32m   1745\u001b[0m \u001b[38;5;28;01massert\u001b[39;00m \u001b[38;5;28mself\u001b[39m\u001b[38;5;241m.\u001b[39mhandles \u001b[38;5;129;01mis\u001b[39;00m \u001b[38;5;129;01mnot\u001b[39;00m \u001b[38;5;28;01mNone\u001b[39;00m\n\u001b[1;32m   1746\u001b[0m f \u001b[38;5;241m=\u001b[39m \u001b[38;5;28mself\u001b[39m\u001b[38;5;241m.\u001b[39mhandles\u001b[38;5;241m.\u001b[39mhandle\n",
      "File \u001b[0;32m~/opt/anaconda3/lib/python3.9/site-packages/pandas/io/common.py:856\u001b[0m, in \u001b[0;36mget_handle\u001b[0;34m(path_or_buf, mode, encoding, compression, memory_map, is_text, errors, storage_options)\u001b[0m\n\u001b[1;32m    851\u001b[0m \u001b[38;5;28;01melif\u001b[39;00m \u001b[38;5;28misinstance\u001b[39m(handle, \u001b[38;5;28mstr\u001b[39m):\n\u001b[1;32m    852\u001b[0m     \u001b[38;5;66;03m# Check whether the filename is to be opened in binary mode.\u001b[39;00m\n\u001b[1;32m    853\u001b[0m     \u001b[38;5;66;03m# Binary mode does not support 'encoding' and 'newline'.\u001b[39;00m\n\u001b[1;32m    854\u001b[0m     \u001b[38;5;28;01mif\u001b[39;00m ioargs\u001b[38;5;241m.\u001b[39mencoding \u001b[38;5;129;01mand\u001b[39;00m \u001b[38;5;124m\"\u001b[39m\u001b[38;5;124mb\u001b[39m\u001b[38;5;124m\"\u001b[39m \u001b[38;5;129;01mnot\u001b[39;00m \u001b[38;5;129;01min\u001b[39;00m ioargs\u001b[38;5;241m.\u001b[39mmode:\n\u001b[1;32m    855\u001b[0m         \u001b[38;5;66;03m# Encoding\u001b[39;00m\n\u001b[0;32m--> 856\u001b[0m         handle \u001b[38;5;241m=\u001b[39m \u001b[38;5;28;43mopen\u001b[39;49m\u001b[43m(\u001b[49m\n\u001b[1;32m    857\u001b[0m \u001b[43m            \u001b[49m\u001b[43mhandle\u001b[49m\u001b[43m,\u001b[49m\n\u001b[1;32m    858\u001b[0m \u001b[43m            \u001b[49m\u001b[43mioargs\u001b[49m\u001b[38;5;241;43m.\u001b[39;49m\u001b[43mmode\u001b[49m\u001b[43m,\u001b[49m\n\u001b[1;32m    859\u001b[0m \u001b[43m            \u001b[49m\u001b[43mencoding\u001b[49m\u001b[38;5;241;43m=\u001b[39;49m\u001b[43mioargs\u001b[49m\u001b[38;5;241;43m.\u001b[39;49m\u001b[43mencoding\u001b[49m\u001b[43m,\u001b[49m\n\u001b[1;32m    860\u001b[0m \u001b[43m            \u001b[49m\u001b[43merrors\u001b[49m\u001b[38;5;241;43m=\u001b[39;49m\u001b[43merrors\u001b[49m\u001b[43m,\u001b[49m\n\u001b[1;32m    861\u001b[0m \u001b[43m            \u001b[49m\u001b[43mnewline\u001b[49m\u001b[38;5;241;43m=\u001b[39;49m\u001b[38;5;124;43m\"\u001b[39;49m\u001b[38;5;124;43m\"\u001b[39;49m\u001b[43m,\u001b[49m\n\u001b[1;32m    862\u001b[0m \u001b[43m        \u001b[49m\u001b[43m)\u001b[49m\n\u001b[1;32m    863\u001b[0m     \u001b[38;5;28;01melse\u001b[39;00m:\n\u001b[1;32m    864\u001b[0m         \u001b[38;5;66;03m# Binary mode\u001b[39;00m\n\u001b[1;32m    865\u001b[0m         handle \u001b[38;5;241m=\u001b[39m \u001b[38;5;28mopen\u001b[39m(handle, ioargs\u001b[38;5;241m.\u001b[39mmode)\n",
      "\u001b[0;31mFileNotFoundError\u001b[0m: [Errno 2] No such file or directory: 'data.csv'"
     ]
    }
   ],
   "source": [
    "# Load datasets for analysis\n",
    "\n",
    "# Creating a dataframe for Ronaldo's career goals\n",
    "import pandas as pd\n",
    "df = pd.read_csv(\"data.csv\")\n",
    "df_o = pd.read_csv(\"overall.csv\")"
   ]
  },
  {
   "cell_type": "markdown",
   "id": "a3227bc7-75ee-4863-9472-39f304b24063",
   "metadata": {},
   "source": [
    "### Data Cleaning"
   ]
  },
  {
   "cell_type": "markdown",
   "id": "b7340ddd-1931-4d26-8e93-80b10f110e37",
   "metadata": {},
   "source": [
    "#### Drop, Duplicates and Null"
   ]
  },
  {
   "cell_type": "code",
   "execution_count": 15,
   "id": "7431f04f-5eb6-4463-a189-0268a8b37538",
   "metadata": {},
   "outputs": [
    {
     "name": "stdout",
     "output_type": "stream",
     "text": [
      "Number of duplicates in the dataframe are: 0\n",
      "Number of null values in the dataframe are: 0\n"
     ]
    }
   ],
   "source": [
    "# Create a new dataframe with only Club and Year columns\n",
    "\n",
    "data = df[[ 'Club', 'Year']].value_counts()\n",
    "\n",
    "season_df = pd.DataFrame(data)\n",
    "season_df = season_df.reset_index(level=[0,1])\n",
    "\n",
    "# Add .png to club name for easy parsing while visualizing\n",
    "\n",
    "season_df['path'] = season_df['Club'] + '.png'\n",
    "\n",
    "# Check for duplicates in the dataset\n",
    "\n",
    "duplicates = season_df.duplicated().sum()\n",
    "\n",
    "print(f'Number of duplicates in the dataframe are: {duplicates}')\n",
    "\n",
    "#identifying the null values\n",
    "\n",
    "null_values = season_df.isnull().sum().sum()\n",
    "\n",
    "print(f'Number of null values in the dataframe are: {null_values}')\n",
    "\n",
    "# Rename column from 0 to Count\n",
    "\n",
    "season_df.rename(columns={0:'Count'}, inplace=True)"
   ]
  },
  {
   "cell_type": "markdown",
   "id": "ac34109c-32c4-48ff-8de7-beb2fcf9dbd9",
   "metadata": {},
   "source": [
    "#### Sort"
   ]
  },
  {
   "cell_type": "code",
   "execution_count": 16,
   "id": "e17f3169-1fd6-434a-baf7-5798451adc16",
   "metadata": {},
   "outputs": [
    {
     "data": {
      "text/html": [
       "<div>\n",
       "<style scoped>\n",
       "    .dataframe tbody tr th:only-of-type {\n",
       "        vertical-align: middle;\n",
       "    }\n",
       "\n",
       "    .dataframe tbody tr th {\n",
       "        vertical-align: top;\n",
       "    }\n",
       "\n",
       "    .dataframe thead th {\n",
       "        text-align: right;\n",
       "    }\n",
       "</style>\n",
       "<table border=\"1\" class=\"dataframe\">\n",
       "  <thead>\n",
       "    <tr style=\"text-align: right;\">\n",
       "      <th></th>\n",
       "      <th>Club</th>\n",
       "      <th>Year</th>\n",
       "      <th>Count</th>\n",
       "      <th>path</th>\n",
       "    </tr>\n",
       "  </thead>\n",
       "  <tbody>\n",
       "    <tr>\n",
       "      <th>18</th>\n",
       "      <td>Sporting CP</td>\n",
       "      <td>2003.0</td>\n",
       "      <td>5</td>\n",
       "      <td>Sporting CP.png</td>\n",
       "    </tr>\n",
       "    <tr>\n",
       "      <th>17</th>\n",
       "      <td>Manchester United</td>\n",
       "      <td>2004.0</td>\n",
       "      <td>6</td>\n",
       "      <td>Manchester United.png</td>\n",
       "    </tr>\n",
       "    <tr>\n",
       "      <th>16</th>\n",
       "      <td>Manchester United</td>\n",
       "      <td>2005.0</td>\n",
       "      <td>9</td>\n",
       "      <td>Manchester United.png</td>\n",
       "    </tr>\n",
       "    <tr>\n",
       "      <th>15</th>\n",
       "      <td>Manchester United</td>\n",
       "      <td>2006.0</td>\n",
       "      <td>12</td>\n",
       "      <td>Manchester United.png</td>\n",
       "    </tr>\n",
       "    <tr>\n",
       "      <th>14</th>\n",
       "      <td>Manchester United</td>\n",
       "      <td>2007.0</td>\n",
       "      <td>23</td>\n",
       "      <td>Manchester United.png</td>\n",
       "    </tr>\n",
       "  </tbody>\n",
       "</table>\n",
       "</div>"
      ],
      "text/plain": [
       "                 Club    Year  Count                   path\n",
       "18        Sporting CP  2003.0      5        Sporting CP.png\n",
       "17  Manchester United  2004.0      6  Manchester United.png\n",
       "16  Manchester United  2005.0      9  Manchester United.png\n",
       "15  Manchester United  2006.0     12  Manchester United.png\n",
       "14  Manchester United  2007.0     23  Manchester United.png"
      ]
     },
     "execution_count": 16,
     "metadata": {},
     "output_type": "execute_result"
    }
   ],
   "source": [
    "# Sort dataframe according to Year\n",
    "\n",
    "season_df.sort_values(\"Year\", inplace=True)\n",
    "season_df.head()"
   ]
  },
  {
   "cell_type": "code",
   "execution_count": 17,
   "id": "d6a25e60",
   "metadata": {
    "papermill": {
     "duration": 0.071096,
     "end_time": "2022-08-16T08:16:16.919131",
     "exception": false,
     "start_time": "2022-08-16T08:16:16.848035",
     "status": "completed"
    },
    "tags": []
   },
   "outputs": [
    {
     "data": {
      "text/html": [
       "<div>\n",
       "<style scoped>\n",
       "    .dataframe tbody tr th:only-of-type {\n",
       "        vertical-align: middle;\n",
       "    }\n",
       "\n",
       "    .dataframe tbody tr th {\n",
       "        vertical-align: top;\n",
       "    }\n",
       "\n",
       "    .dataframe thead th {\n",
       "        text-align: right;\n",
       "    }\n",
       "</style>\n",
       "<table border=\"1\" class=\"dataframe\">\n",
       "  <thead>\n",
       "    <tr style=\"text-align: right;\">\n",
       "      <th></th>\n",
       "      <th>Unique Values Count</th>\n",
       "    </tr>\n",
       "  </thead>\n",
       "  <tbody>\n",
       "    <tr>\n",
       "      <th>Season</th>\n",
       "      <td>20</td>\n",
       "    </tr>\n",
       "    <tr>\n",
       "      <th>Competition</th>\n",
       "      <td>16</td>\n",
       "    </tr>\n",
       "    <tr>\n",
       "      <th>Matchday</th>\n",
       "      <td>53</td>\n",
       "    </tr>\n",
       "    <tr>\n",
       "      <th>Year</th>\n",
       "      <td>20</td>\n",
       "    </tr>\n",
       "    <tr>\n",
       "      <th>Date</th>\n",
       "      <td>445</td>\n",
       "    </tr>\n",
       "    <tr>\n",
       "      <th>Venue</th>\n",
       "      <td>3</td>\n",
       "    </tr>\n",
       "    <tr>\n",
       "      <th>Club</th>\n",
       "      <td>5</td>\n",
       "    </tr>\n",
       "    <tr>\n",
       "      <th>Opponent</th>\n",
       "      <td>120</td>\n",
       "    </tr>\n",
       "    <tr>\n",
       "      <th>Result</th>\n",
       "      <td>52</td>\n",
       "    </tr>\n",
       "    <tr>\n",
       "      <th>Playing_Position</th>\n",
       "      <td>6</td>\n",
       "    </tr>\n",
       "    <tr>\n",
       "      <th>Minute</th>\n",
       "      <td>106</td>\n",
       "    </tr>\n",
       "    <tr>\n",
       "      <th>At_score</th>\n",
       "      <td>36</td>\n",
       "    </tr>\n",
       "    <tr>\n",
       "      <th>Type</th>\n",
       "      <td>12</td>\n",
       "    </tr>\n",
       "    <tr>\n",
       "      <th>Goal_assist</th>\n",
       "      <td>76</td>\n",
       "    </tr>\n",
       "  </tbody>\n",
       "</table>\n",
       "</div>"
      ],
      "text/plain": [
       "                  Unique Values Count\n",
       "Season                             20\n",
       "Competition                        16\n",
       "Matchday                           53\n",
       "Year                               20\n",
       "Date                              445\n",
       "Venue                               3\n",
       "Club                                5\n",
       "Opponent                          120\n",
       "Result                             52\n",
       "Playing_Position                    6\n",
       "Minute                            106\n",
       "At_score                           36\n",
       "Type                               12\n",
       "Goal_assist                        76"
      ]
     },
     "execution_count": 17,
     "metadata": {},
     "output_type": "execute_result"
    }
   ],
   "source": [
    "# Find all unique values in the columns\n",
    "\n",
    "pd.DataFrame(df.apply(lambda col: len(col.unique())),columns=[\"Unique Values Count\"])"
   ]
  },
  {
   "cell_type": "code",
   "execution_count": 57,
   "id": "d58be760",
   "metadata": {
    "papermill": {
     "duration": 0.085388,
     "end_time": "2022-08-16T08:16:17.062652",
     "exception": false,
     "start_time": "2022-08-16T08:16:16.977264",
     "status": "completed"
    },
    "tags": []
   },
   "outputs": [
    {
     "data": {
      "text/html": [
       "<div>\n",
       "<style scoped>\n",
       "    .dataframe tbody tr th:only-of-type {\n",
       "        vertical-align: middle;\n",
       "    }\n",
       "\n",
       "    .dataframe tbody tr th {\n",
       "        vertical-align: top;\n",
       "    }\n",
       "\n",
       "    .dataframe thead th {\n",
       "        text-align: right;\n",
       "    }\n",
       "</style>\n",
       "<table border=\"1\" class=\"dataframe\">\n",
       "  <thead>\n",
       "    <tr style=\"text-align: right;\">\n",
       "      <th></th>\n",
       "      <th>count</th>\n",
       "      <th>unique</th>\n",
       "      <th>top</th>\n",
       "      <th>freq</th>\n",
       "    </tr>\n",
       "  </thead>\n",
       "  <tbody>\n",
       "    <tr>\n",
       "      <th>Season</th>\n",
       "      <td>674</td>\n",
       "      <td>19</td>\n",
       "      <td>14/15</td>\n",
       "      <td>61</td>\n",
       "    </tr>\n",
       "    <tr>\n",
       "      <th>Competition</th>\n",
       "      <td>674</td>\n",
       "      <td>15</td>\n",
       "      <td>LaLiga</td>\n",
       "      <td>311</td>\n",
       "    </tr>\n",
       "    <tr>\n",
       "      <th>Matchday</th>\n",
       "      <td>674</td>\n",
       "      <td>52</td>\n",
       "      <td>Group Stage</td>\n",
       "      <td>67</td>\n",
       "    </tr>\n",
       "    <tr>\n",
       "      <th>Date</th>\n",
       "      <td>674</td>\n",
       "      <td>444</td>\n",
       "      <td>09/12/15</td>\n",
       "      <td>5</td>\n",
       "    </tr>\n",
       "    <tr>\n",
       "      <th>Venue</th>\n",
       "      <td>674</td>\n",
       "      <td>2</td>\n",
       "      <td>H</td>\n",
       "      <td>386</td>\n",
       "    </tr>\n",
       "    <tr>\n",
       "      <th>Club</th>\n",
       "      <td>674</td>\n",
       "      <td>4</td>\n",
       "      <td>Real Madrid</td>\n",
       "      <td>450</td>\n",
       "    </tr>\n",
       "    <tr>\n",
       "      <th>Opponent</th>\n",
       "      <td>674</td>\n",
       "      <td>119</td>\n",
       "      <td>Sevilla FC</td>\n",
       "      <td>27</td>\n",
       "    </tr>\n",
       "    <tr>\n",
       "      <th>Result</th>\n",
       "      <td>674</td>\n",
       "      <td>51</td>\n",
       "      <td>3:00</td>\n",
       "      <td>48</td>\n",
       "    </tr>\n",
       "    <tr>\n",
       "      <th>Playing_Position</th>\n",
       "      <td>617</td>\n",
       "      <td>5</td>\n",
       "      <td>LW</td>\n",
       "      <td>356</td>\n",
       "    </tr>\n",
       "    <tr>\n",
       "      <th>Minute</th>\n",
       "      <td>674</td>\n",
       "      <td>105</td>\n",
       "      <td>90</td>\n",
       "      <td>17</td>\n",
       "    </tr>\n",
       "    <tr>\n",
       "      <th>At_score</th>\n",
       "      <td>674</td>\n",
       "      <td>35</td>\n",
       "      <td>1:00</td>\n",
       "      <td>107</td>\n",
       "    </tr>\n",
       "    <tr>\n",
       "      <th>Type</th>\n",
       "      <td>659</td>\n",
       "      <td>11</td>\n",
       "      <td>Right-footed shot</td>\n",
       "      <td>237</td>\n",
       "    </tr>\n",
       "    <tr>\n",
       "      <th>Goal_assist</th>\n",
       "      <td>442</td>\n",
       "      <td>75</td>\n",
       "      <td>Karim Benzema</td>\n",
       "      <td>44</td>\n",
       "    </tr>\n",
       "  </tbody>\n",
       "</table>\n",
       "</div>"
      ],
      "text/plain": [
       "                 count unique                top freq\n",
       "Season             674     19              14/15   61\n",
       "Competition        674     15             LaLiga  311\n",
       "Matchday           674     52        Group Stage   67\n",
       "Date               674    444           09/12/15    5\n",
       "Venue              674      2                  H  386\n",
       "Club               674      4        Real Madrid  450\n",
       "Opponent           674    119         Sevilla FC   27\n",
       "Result             674     51               3:00   48\n",
       "Playing_Position   617      5                 LW  356\n",
       "Minute             674    105                 90   17\n",
       "At_score           674     35               1:00  107\n",
       "Type               659     11  Right-footed shot  237\n",
       "Goal_assist        442     75      Karim Benzema   44"
      ]
     },
     "execution_count": 57,
     "metadata": {},
     "output_type": "execute_result"
    }
   ],
   "source": [
    "# generic stats description\n",
    "\n",
    "df.describe(include=['object']).T"
   ]
  },
  {
   "cell_type": "markdown",
   "id": "5f4e4f1e-8361-4f55-a811-51b3b67707a9",
   "metadata": {},
   "source": [
    "<h3>Cristiano Ronaldo - Team analysis</h3>"
   ]
  },
  {
   "cell_type": "markdown",
   "id": "5689ce0c-869d-4e08-be53-3bd315d4bebd",
   "metadata": {},
   "source": [
    "#### Data Visualization"
   ]
  },
  {
   "cell_type": "code",
   "execution_count": 21,
   "id": "0f1ba24f-b454-4385-920e-51e6cb7c5ca1",
   "metadata": {},
   "outputs": [
    {
     "name": "stdout",
     "output_type": "stream",
     "text": [
      "------------------------\n",
      "Teams Ronaldo Played for\n",
      "------------------------\n"
     ]
    },
    {
     "data": {
      "image/png": "[encoded data removed]",
      "text/plain": [
       "<IPython.core.display.Image object>"
      ]
     },
     "metadata": {
      "image/png": {
       "width": 30
      }
     },
     "output_type": "display_data"
    },
    {
     "name": "stdout",
     "output_type": "stream",
     "text": [
      "Real Madrid\n"
     ]
    },
    {
     "data": {
      "image/png": "[encoded data removed]",
      "text/plain": [
       "<IPython.core.display.Image object>"
      ]
     },
     "metadata": {
      "image/png": {
       "width": 30
      }
     },
     "output_type": "display_data"
    },
    {
     "name": "stdout",
     "output_type": "stream",
     "text": [
      "Manchester United\n"
     ]
    },
    {
     "data": {
      "image/png": "[encoded data removed]",
      "text/plain": [
       "<IPython.core.display.Image object>"
      ]
     },
     "metadata": {
      "image/png": {
       "width": 30
      }
     },
     "output_type": "display_data"
    },
    {
     "name": "stdout",
     "output_type": "stream",
     "text": [
      "Sporting CP\n"
     ]
    },
    {
     "data": {
      "image/png": "[encoded data removed]",
      "text/plain": [
       "<IPython.core.display.Image object>"
      ]
     },
     "metadata": {
      "image/png": {
       "width": 30
      }
     },
     "output_type": "display_data"
    },
    {
     "name": "stdout",
     "output_type": "stream",
     "text": [
      "Juventus FC\n"
     ]
    },
    {
     "data": {
      "image/png": "[encoded data removed]",
      "text/plain": [
       "<Figure size 1800x600 with 1 Axes>"
      ]
     },
     "metadata": {
      "needs_background": "light"
     },
     "output_type": "display_data"
    }
   ],
   "source": [
    "# Method to return image to be displayed on graph\n",
    "\n",
    "def getImage(path):\n",
    "    return OffsetImage(plt.imread(path), zoom=.07, alpha = 1)\n",
    "\n",
    "#Extact year data to be displayed on x-axis\n",
    "x_axis = season_df['Year'].values\n",
    "\n",
    "#Display graph\n",
    "fig, ax = plt.subplots(figsize=(12, 4), dpi=150)\n",
    "plt.title('Goals per season')\n",
    "plt.xlabel('Year')\n",
    "plt.ylabel('Number of Goals')\n",
    "\n",
    "\n",
    "plt.xticks(x_axis)\n",
    "ax.scatter(x_axis, season_df['Count'])\n",
    "ax.plot(x_axis, season_df['Count'])\n",
    "\n",
    "print('------------------------')\n",
    "print('Teams Ronaldo Played for')\n",
    "print('------------------------')\n",
    "\n",
    "display(Image('Real Madrid.png', width=30))\n",
    "print('Real Madrid')\n",
    "\n",
    "display(Image('Manchester United.png', width=30))\n",
    "print('Manchester United')\n",
    "\n",
    "display(Image('Sporting CP.png', width=30))\n",
    "print('Sporting CP')\n",
    "\n",
    "display(Image('Juventus FC.png', width=30))\n",
    "print('Juventus FC')\n",
    "\n",
    "#Iterate through rows and add image to graph\n",
    "for index, row in season_df.iterrows():\n",
    "    ab = AnnotationBbox(getImage(row['path']), (row['Year'], row['Count']), frameon=False)\n",
    "    ax.add_artist(ab)\n"
   ]
  },
  {
   "cell_type": "markdown",
   "id": "c29b965f",
   "metadata": {},
   "source": [
    "- More than 50% of Cristiano's goals were with Real Madrid. It's normal because he was signed to Real Madrid from Manchester United on July 1st, 2009, and left for Juventus on July 10th, 2018. He was with Real Madrid FC for nine years and nine days, which is more than other clubs.\n",
    "\n",
    "- The above graph shows the number of goals Ronaldo has scored in each season of his career.\n",
    "\n",
    "- Ronaldo has scored more than 40 goals in every La Liga season from 2011 to 2017. We have seen that he helped in Manchester United's club success based on its standings and winning probability at home games metric. The trend of his career goals further proves his impact and contribution to a football team. "
   ]
  },
  {
   "cell_type": "markdown",
   "id": "bef091d5-af07-4394-b8f4-9d824d09a1b0",
   "metadata": {},
   "source": [
    "### Objective IV - Ronaldo Goals Scoring patterns - La liga"
   ]
  },
  {
   "cell_type": "markdown",
   "id": "fb607ac0-8557-4bb0-86c9-6c3b5d6888bc",
   "metadata": {},
   "source": [
    "<h4>Data</h4>\n",
    "\n",
    "Spain_matches.json: LaLiga season 2017-18 matches. <br/>\n",
    "spain_events.json: Event name, Positions from which goal was scored, event time"
   ]
  },
  {
   "cell_type": "code",
   "execution_count": 22,
   "id": "10f3db1e-058f-4497-b6ac-b5848b11b5be",
   "metadata": {},
   "outputs": [],
   "source": [
    "#Read La liga - Spain matches data\n",
    "\n",
    "json_file = open('Spain_matches.json')\n",
    "laliga_matches_data = json.load(json_file)"
   ]
  },
  {
   "cell_type": "code",
   "execution_count": 23,
   "id": "e85c9389-c5f6-4df8-8a43-714540cb7534",
   "metadata": {},
   "outputs": [],
   "source": [
    "#Assign team id to variable\n",
    "real_madrid_team_id = '675'\n",
    "\n",
    "#Get Real madrid teams match data\n",
    "real_madrid_matches  = [data for data in laliga_matches_data if real_madrid_team_id in data['teamsData'].keys()]"
   ]
  },
  {
   "cell_type": "code",
   "execution_count": 24,
   "id": "2fecc950-c244-45b9-aba6-a2edfb97a368",
   "metadata": {},
   "outputs": [],
   "source": [
    "#Store Real madrid team Data in Dataframe\n",
    "real_madrid_matches_df = pd.DataFrame(real_madrid_matches)"
   ]
  },
  {
   "cell_type": "code",
   "execution_count": 25,
   "id": "ee8502ec-dac4-4ab5-8e2b-096090c45b0f",
   "metadata": {},
   "outputs": [
    {
     "data": {
      "text/html": [
       "<div>\n",
       "<style scoped>\n",
       "    .dataframe tbody tr th:only-of-type {\n",
       "        vertical-align: middle;\n",
       "    }\n",
       "\n",
       "    .dataframe tbody tr th {\n",
       "        vertical-align: top;\n",
       "    }\n",
       "\n",
       "    .dataframe thead th {\n",
       "        text-align: right;\n",
       "    }\n",
       "</style>\n",
       "<table border=\"1\" class=\"dataframe\">\n",
       "  <thead>\n",
       "    <tr style=\"text-align: right;\">\n",
       "      <th></th>\n",
       "      <th>status</th>\n",
       "      <th>roundId</th>\n",
       "      <th>gameweek</th>\n",
       "      <th>teamsData</th>\n",
       "      <th>seasonId</th>\n",
       "      <th>dateutc</th>\n",
       "      <th>winner</th>\n",
       "      <th>venue</th>\n",
       "      <th>wyId</th>\n",
       "      <th>label</th>\n",
       "      <th>date</th>\n",
       "      <th>referees</th>\n",
       "      <th>duration</th>\n",
       "      <th>competitionId</th>\n",
       "    </tr>\n",
       "  </thead>\n",
       "  <tbody>\n",
       "    <tr>\n",
       "      <th>0</th>\n",
       "      <td>Played</td>\n",
       "      <td>4406122</td>\n",
       "      <td>38</td>\n",
       "      <td>{'675': {'scoreET': 0, 'coachId': 275283, 'sid...</td>\n",
       "      <td>181144</td>\n",
       "      <td>2018-05-19 18:45:00</td>\n",
       "      <td>0</td>\n",
       "      <td>Estadio de la Cer\\u00e1mica</td>\n",
       "      <td>2565927</td>\n",
       "      <td>Villarreal - Real Madrid, 2 - 2</td>\n",
       "      <td>May 19, 2018 at 8:45:00 PM GMT+2</td>\n",
       "      <td>[{'refereeId': 395085, 'role': 'referee'}, {'r...</td>\n",
       "      <td>Regular</td>\n",
       "      <td>795</td>\n",
       "    </tr>\n",
       "    <tr>\n",
       "      <th>1</th>\n",
       "      <td>Played</td>\n",
       "      <td>4406122</td>\n",
       "      <td>37</td>\n",
       "      <td>{'692': {'scoreET': 0, 'coachId': 3880, 'side'...</td>\n",
       "      <td>181144</td>\n",
       "      <td>2018-05-12 18:45:00</td>\n",
       "      <td>675</td>\n",
       "      <td>Estadio Santiago Bernab\\u00e9u</td>\n",
       "      <td>2565912</td>\n",
       "      <td>Real Madrid - Celta de Vigo, 6 - 0</td>\n",
       "      <td>May 12, 2018 at 8:45:00 PM GMT+2</td>\n",
       "      <td>[{'refereeId': 398923, 'role': 'referee'}, {'r...</td>\n",
       "      <td>Regular</td>\n",
       "      <td>795</td>\n",
       "    </tr>\n",
       "    <tr>\n",
       "      <th>2</th>\n",
       "      <td>Played</td>\n",
       "      <td>4406122</td>\n",
       "      <td>34</td>\n",
       "      <td>{'675': {'scoreET': 0, 'coachId': 275283, 'sid...</td>\n",
       "      <td>181144</td>\n",
       "      <td>2018-05-09 19:30:00</td>\n",
       "      <td>680</td>\n",
       "      <td>Estadio Ram\\u00f3n S\\u00e1nchez Pizju\\u00e1n</td>\n",
       "      <td>2565882</td>\n",
       "      <td>Sevilla - Real Madrid, 3 - 2</td>\n",
       "      <td>May 9, 2018 at 9:30:00 PM GMT+2</td>\n",
       "      <td>[{'refereeId': 384946, 'role': 'referee'}, {'r...</td>\n",
       "      <td>Regular</td>\n",
       "      <td>795</td>\n",
       "    </tr>\n",
       "    <tr>\n",
       "      <th>3</th>\n",
       "      <td>Played</td>\n",
       "      <td>4406122</td>\n",
       "      <td>36</td>\n",
       "      <td>{'675': {'scoreET': 0, 'coachId': 275283, 'sid...</td>\n",
       "      <td>181144</td>\n",
       "      <td>2018-05-06 18:45:00</td>\n",
       "      <td>0</td>\n",
       "      <td>Camp Nou</td>\n",
       "      <td>2565907</td>\n",
       "      <td>Barcelona - Real Madrid, 2 - 2</td>\n",
       "      <td>May 6, 2018 at 8:45:00 PM GMT+2</td>\n",
       "      <td>[{'refereeId': 378950, 'role': 'referee'}, {'r...</td>\n",
       "      <td>Regular</td>\n",
       "      <td>795</td>\n",
       "    </tr>\n",
       "    <tr>\n",
       "      <th>4</th>\n",
       "      <td>Played</td>\n",
       "      <td>4406122</td>\n",
       "      <td>35</td>\n",
       "      <td>{'675': {'scoreET': 0, 'coachId': 275283, 'sid...</td>\n",
       "      <td>181144</td>\n",
       "      <td>2018-04-28 16:30:00</td>\n",
       "      <td>675</td>\n",
       "      <td>Estadio Santiago Bernab\\u00e9u</td>\n",
       "      <td>2565891</td>\n",
       "      <td>Real Madrid - Legan\\u00e9s, 2 - 1</td>\n",
       "      <td>April 28, 2018 at 6:30:00 PM GMT+2</td>\n",
       "      <td>[{'refereeId': 385473, 'role': 'referee'}, {'r...</td>\n",
       "      <td>Regular</td>\n",
       "      <td>795</td>\n",
       "    </tr>\n",
       "  </tbody>\n",
       "</table>\n",
       "</div>"
      ],
      "text/plain": [
       "   status  roundId  gameweek  \\\n",
       "0  Played  4406122        38   \n",
       "1  Played  4406122        37   \n",
       "2  Played  4406122        34   \n",
       "3  Played  4406122        36   \n",
       "4  Played  4406122        35   \n",
       "\n",
       "                                           teamsData  seasonId  \\\n",
       "0  {'675': {'scoreET': 0, 'coachId': 275283, 'sid...    181144   \n",
       "1  {'692': {'scoreET': 0, 'coachId': 3880, 'side'...    181144   \n",
       "2  {'675': {'scoreET': 0, 'coachId': 275283, 'sid...    181144   \n",
       "3  {'675': {'scoreET': 0, 'coachId': 275283, 'sid...    181144   \n",
       "4  {'675': {'scoreET': 0, 'coachId': 275283, 'sid...    181144   \n",
       "\n",
       "               dateutc  winner                                         venue  \\\n",
       "0  2018-05-19 18:45:00       0                   Estadio de la Cer\\u00e1mica   \n",
       "1  2018-05-12 18:45:00     675                Estadio Santiago Bernab\\u00e9u   \n",
       "2  2018-05-09 19:30:00     680  Estadio Ram\\u00f3n S\\u00e1nchez Pizju\\u00e1n   \n",
       "3  2018-05-06 18:45:00       0                                      Camp Nou   \n",
       "4  2018-04-28 16:30:00     675                Estadio Santiago Bernab\\u00e9u   \n",
       "\n",
       "      wyId                               label  \\\n",
       "0  2565927     Villarreal - Real Madrid, 2 - 2   \n",
       "1  2565912  Real Madrid - Celta de Vigo, 6 - 0   \n",
       "2  2565882        Sevilla - Real Madrid, 3 - 2   \n",
       "3  2565907      Barcelona - Real Madrid, 2 - 2   \n",
       "4  2565891   Real Madrid - Legan\\u00e9s, 2 - 1   \n",
       "\n",
       "                                 date  \\\n",
       "0    May 19, 2018 at 8:45:00 PM GMT+2   \n",
       "1    May 12, 2018 at 8:45:00 PM GMT+2   \n",
       "2     May 9, 2018 at 9:30:00 PM GMT+2   \n",
       "3     May 6, 2018 at 8:45:00 PM GMT+2   \n",
       "4  April 28, 2018 at 6:30:00 PM GMT+2   \n",
       "\n",
       "                                            referees duration  competitionId  \n",
       "0  [{'refereeId': 395085, 'role': 'referee'}, {'r...  Regular            795  \n",
       "1  [{'refereeId': 398923, 'role': 'referee'}, {'r...  Regular            795  \n",
       "2  [{'refereeId': 384946, 'role': 'referee'}, {'r...  Regular            795  \n",
       "3  [{'refereeId': 378950, 'role': 'referee'}, {'r...  Regular            795  \n",
       "4  [{'refereeId': 385473, 'role': 'referee'}, {'r...  Regular            795  "
      ]
     },
     "execution_count": 25,
     "metadata": {},
     "output_type": "execute_result"
    }
   ],
   "source": [
    "real_madrid_matches_df.head()"
   ]
  },
  {
   "cell_type": "code",
   "execution_count": 26,
   "id": "18331ff9-5b14-4de8-bef6-2e68e97cbc9e",
   "metadata": {},
   "outputs": [],
   "source": [
    "#Read Event data from spain_events json file\n",
    "json_file = open('spain_events.json')\n",
    "laliga_events_data = json.load(json_file)"
   ]
  },
  {
   "cell_type": "code",
   "execution_count": 27,
   "id": "161fdb11-bc75-45cb-9071-3aaca2b1d5b7",
   "metadata": {},
   "outputs": [],
   "source": [
    "#Store Real madrid team Data in Dataframe\n",
    "laliga_events_df = pd.DataFrame(laliga_events_data)"
   ]
  },
  {
   "cell_type": "code",
   "execution_count": 28,
   "id": "6b3cc013-066f-4a66-8ba3-7b890211c105",
   "metadata": {},
   "outputs": [
    {
     "data": {
      "text/html": [
       "<div>\n",
       "<style scoped>\n",
       "    .dataframe tbody tr th:only-of-type {\n",
       "        vertical-align: middle;\n",
       "    }\n",
       "\n",
       "    .dataframe tbody tr th {\n",
       "        vertical-align: top;\n",
       "    }\n",
       "\n",
       "    .dataframe thead th {\n",
       "        text-align: right;\n",
       "    }\n",
       "</style>\n",
       "<table border=\"1\" class=\"dataframe\">\n",
       "  <thead>\n",
       "    <tr style=\"text-align: right;\">\n",
       "      <th></th>\n",
       "      <th>eventId</th>\n",
       "      <th>subEventName</th>\n",
       "      <th>tags</th>\n",
       "      <th>playerId</th>\n",
       "      <th>positions</th>\n",
       "      <th>matchId</th>\n",
       "      <th>eventName</th>\n",
       "      <th>teamId</th>\n",
       "      <th>matchPeriod</th>\n",
       "      <th>eventSec</th>\n",
       "      <th>subEventId</th>\n",
       "      <th>id</th>\n",
       "    </tr>\n",
       "  </thead>\n",
       "  <tbody>\n",
       "    <tr>\n",
       "      <th>0</th>\n",
       "      <td>8</td>\n",
       "      <td>Simple pass</td>\n",
       "      <td>[{'id': 1801}]</td>\n",
       "      <td>3542</td>\n",
       "      <td>[{'y': 61, 'x': 37}, {'y': 50, 'x': 50}]</td>\n",
       "      <td>2565548</td>\n",
       "      <td>Pass</td>\n",
       "      <td>682</td>\n",
       "      <td>1H</td>\n",
       "      <td>2.994582</td>\n",
       "      <td>85</td>\n",
       "      <td>180864419</td>\n",
       "    </tr>\n",
       "    <tr>\n",
       "      <th>1</th>\n",
       "      <td>8</td>\n",
       "      <td>Simple pass</td>\n",
       "      <td>[{'id': 1801}]</td>\n",
       "      <td>274435</td>\n",
       "      <td>[{'y': 50, 'x': 50}, {'y': 30, 'x': 45}]</td>\n",
       "      <td>2565548</td>\n",
       "      <td>Pass</td>\n",
       "      <td>682</td>\n",
       "      <td>1H</td>\n",
       "      <td>3.137020</td>\n",
       "      <td>85</td>\n",
       "      <td>180864418</td>\n",
       "    </tr>\n",
       "    <tr>\n",
       "      <th>2</th>\n",
       "      <td>8</td>\n",
       "      <td>Simple pass</td>\n",
       "      <td>[{'id': 1801}]</td>\n",
       "      <td>364860</td>\n",
       "      <td>[{'y': 30, 'x': 45}, {'y': 12, 'x': 38}]</td>\n",
       "      <td>2565548</td>\n",
       "      <td>Pass</td>\n",
       "      <td>682</td>\n",
       "      <td>1H</td>\n",
       "      <td>6.709668</td>\n",
       "      <td>85</td>\n",
       "      <td>180864420</td>\n",
       "    </tr>\n",
       "    <tr>\n",
       "      <th>3</th>\n",
       "      <td>8</td>\n",
       "      <td>Simple pass</td>\n",
       "      <td>[{'id': 1801}]</td>\n",
       "      <td>3534</td>\n",
       "      <td>[{'y': 12, 'x': 38}, {'y': 69, 'x': 32}]</td>\n",
       "      <td>2565548</td>\n",
       "      <td>Pass</td>\n",
       "      <td>682</td>\n",
       "      <td>1H</td>\n",
       "      <td>8.805497</td>\n",
       "      <td>85</td>\n",
       "      <td>180864421</td>\n",
       "    </tr>\n",
       "    <tr>\n",
       "      <th>4</th>\n",
       "      <td>8</td>\n",
       "      <td>Simple pass</td>\n",
       "      <td>[{'id': 1801}]</td>\n",
       "      <td>3695</td>\n",
       "      <td>[{'y': 69, 'x': 32}, {'y': 37, 'x': 31}]</td>\n",
       "      <td>2565548</td>\n",
       "      <td>Pass</td>\n",
       "      <td>682</td>\n",
       "      <td>1H</td>\n",
       "      <td>14.047492</td>\n",
       "      <td>85</td>\n",
       "      <td>180864422</td>\n",
       "    </tr>\n",
       "  </tbody>\n",
       "</table>\n",
       "</div>"
      ],
      "text/plain": [
       "   eventId subEventName            tags  playerId  \\\n",
       "0        8  Simple pass  [{'id': 1801}]      3542   \n",
       "1        8  Simple pass  [{'id': 1801}]    274435   \n",
       "2        8  Simple pass  [{'id': 1801}]    364860   \n",
       "3        8  Simple pass  [{'id': 1801}]      3534   \n",
       "4        8  Simple pass  [{'id': 1801}]      3695   \n",
       "\n",
       "                                  positions  matchId eventName  teamId  \\\n",
       "0  [{'y': 61, 'x': 37}, {'y': 50, 'x': 50}]  2565548      Pass     682   \n",
       "1  [{'y': 50, 'x': 50}, {'y': 30, 'x': 45}]  2565548      Pass     682   \n",
       "2  [{'y': 30, 'x': 45}, {'y': 12, 'x': 38}]  2565548      Pass     682   \n",
       "3  [{'y': 12, 'x': 38}, {'y': 69, 'x': 32}]  2565548      Pass     682   \n",
       "4  [{'y': 69, 'x': 32}, {'y': 37, 'x': 31}]  2565548      Pass     682   \n",
       "\n",
       "  matchPeriod   eventSec subEventId         id  \n",
       "0          1H   2.994582         85  180864419  \n",
       "1          1H   3.137020         85  180864418  \n",
       "2          1H   6.709668         85  180864420  \n",
       "3          1H   8.805497         85  180864421  \n",
       "4          1H  14.047492         85  180864422  "
      ]
     },
     "execution_count": 28,
     "metadata": {},
     "output_type": "execute_result"
    }
   ],
   "source": [
    "laliga_events_df.head()"
   ]
  },
  {
   "cell_type": "code",
   "execution_count": 29,
   "id": "73e49c18-bbb1-4671-a0a5-0fca378ea0a0",
   "metadata": {},
   "outputs": [],
   "source": [
    "#Get event records for Ronaldo (where Player ID = 3322)\n",
    "\n",
    "ronaldo_events_data_df = laliga_events_df.loc[laliga_events_df['playerId'] == 3322]"
   ]
  },
  {
   "cell_type": "markdown",
   "id": "1551d994-67e5-4fd3-90cd-3ffd059e3693",
   "metadata": {},
   "source": [
    "<h5>Tag Information From Dataframe (Assists, Goals)</h5>\n",
    "\n",
    "101: Goal <br/>\n",
    "301: Assist <br/>"
   ]
  },
  {
   "cell_type": "code",
   "execution_count": 30,
   "id": "c787e7b8-23dc-4f8d-aef4-96891b60f9fd",
   "metadata": {},
   "outputs": [],
   "source": [
    "#Method for adding additional columns to distinguish gaol, assists, left foot/right foot goals\n",
    "\n",
    "def add_columns(tags, tag_id):\n",
    "    return tag_id in [tag['id'] for tag in tags]\n"
   ]
  },
  {
   "cell_type": "code",
   "execution_count": 31,
   "id": "55218ca9-28fe-4c3f-be6b-93adf2011977",
   "metadata": {},
   "outputs": [],
   "source": [
    "#Distinguish gao and assists - store boolean value\n",
    "\n",
    "ronaldo_events_data_df['Goal'] = ronaldo_events_data_df['tags'].apply(lambda x: add_columns(x, 101))\n",
    "ronaldo_events_data_df['Assists'] = ronaldo_events_data_df['tags'].apply(lambda x: add_columns(x, 301))"
   ]
  },
  {
   "cell_type": "code",
   "execution_count": 32,
   "id": "31065241-fd0d-4cda-b183-8fe61bf9ec3e",
   "metadata": {},
   "outputs": [
    {
     "data": {
      "text/html": [
       "<div>\n",
       "<style scoped>\n",
       "    .dataframe tbody tr th:only-of-type {\n",
       "        vertical-align: middle;\n",
       "    }\n",
       "\n",
       "    .dataframe tbody tr th {\n",
       "        vertical-align: top;\n",
       "    }\n",
       "\n",
       "    .dataframe thead th {\n",
       "        text-align: right;\n",
       "    }\n",
       "</style>\n",
       "<table border=\"1\" class=\"dataframe\">\n",
       "  <thead>\n",
       "    <tr style=\"text-align: right;\">\n",
       "      <th></th>\n",
       "      <th>eventId</th>\n",
       "      <th>subEventName</th>\n",
       "      <th>tags</th>\n",
       "      <th>playerId</th>\n",
       "      <th>positions</th>\n",
       "      <th>matchId</th>\n",
       "      <th>eventName</th>\n",
       "      <th>teamId</th>\n",
       "      <th>matchPeriod</th>\n",
       "      <th>eventSec</th>\n",
       "      <th>subEventId</th>\n",
       "      <th>id</th>\n",
       "      <th>Goal</th>\n",
       "      <th>Assists</th>\n",
       "    </tr>\n",
       "  </thead>\n",
       "  <tbody>\n",
       "    <tr>\n",
       "      <th>76412</th>\n",
       "      <td>1</td>\n",
       "      <td>Ground attacking duel</td>\n",
       "      <td>[{'id': 501}, {'id': 703}, {'id': 1801}]</td>\n",
       "      <td>3322</td>\n",
       "      <td>[{'y': 26, 'x': 96}, {'y': 27, 'x': 91}]</td>\n",
       "      <td>2565596</td>\n",
       "      <td>Duel</td>\n",
       "      <td>675</td>\n",
       "      <td>1H</td>\n",
       "      <td>28.108732</td>\n",
       "      <td>11</td>\n",
       "      <td>189337977</td>\n",
       "      <td>False</td>\n",
       "      <td>False</td>\n",
       "    </tr>\n",
       "    <tr>\n",
       "      <th>76414</th>\n",
       "      <td>10</td>\n",
       "      <td>Shot</td>\n",
       "      <td>[{'id': 402}, {'id': 2101}, {'id': 201}, {'id'...</td>\n",
       "      <td>3322</td>\n",
       "      <td>[{'y': 27, 'x': 91}, {'y': 0, 'x': 0}]</td>\n",
       "      <td>2565596</td>\n",
       "      <td>Shot</td>\n",
       "      <td>675</td>\n",
       "      <td>1H</td>\n",
       "      <td>31.052085</td>\n",
       "      <td>100</td>\n",
       "      <td>189337978</td>\n",
       "      <td>False</td>\n",
       "      <td>False</td>\n",
       "    </tr>\n",
       "    <tr>\n",
       "      <th>76457</th>\n",
       "      <td>8</td>\n",
       "      <td>Simple pass</td>\n",
       "      <td>[{'id': 1801}]</td>\n",
       "      <td>3322</td>\n",
       "      <td>[{'y': 53, 'x': 68}, {'y': 67, 'x': 53}]</td>\n",
       "      <td>2565596</td>\n",
       "      <td>Pass</td>\n",
       "      <td>675</td>\n",
       "      <td>1H</td>\n",
       "      <td>146.902499</td>\n",
       "      <td>85</td>\n",
       "      <td>189338004</td>\n",
       "      <td>False</td>\n",
       "      <td>False</td>\n",
       "    </tr>\n",
       "    <tr>\n",
       "      <th>76589</th>\n",
       "      <td>10</td>\n",
       "      <td>Shot</td>\n",
       "      <td>[{'id': 402}, {'id': 201}, {'id': 1201}, {'id'...</td>\n",
       "      <td>3322</td>\n",
       "      <td>[{'y': 48, 'x': 96}, {'y': 0, 'x': 0}]</td>\n",
       "      <td>2565596</td>\n",
       "      <td>Shot</td>\n",
       "      <td>675</td>\n",
       "      <td>1H</td>\n",
       "      <td>548.744061</td>\n",
       "      <td>100</td>\n",
       "      <td>189338889</td>\n",
       "      <td>False</td>\n",
       "      <td>False</td>\n",
       "    </tr>\n",
       "    <tr>\n",
       "      <th>76654</th>\n",
       "      <td>1</td>\n",
       "      <td>Air duel</td>\n",
       "      <td>[{'id': 702}, {'id': 1801}]</td>\n",
       "      <td>3322</td>\n",
       "      <td>[{'y': 84, 'x': 62}, {'y': 81, 'x': 42}]</td>\n",
       "      <td>2565596</td>\n",
       "      <td>Duel</td>\n",
       "      <td>675</td>\n",
       "      <td>1H</td>\n",
       "      <td>713.899672</td>\n",
       "      <td>10</td>\n",
       "      <td>189338224</td>\n",
       "      <td>False</td>\n",
       "      <td>False</td>\n",
       "    </tr>\n",
       "  </tbody>\n",
       "</table>\n",
       "</div>"
      ],
      "text/plain": [
       "       eventId           subEventName  \\\n",
       "76412        1  Ground attacking duel   \n",
       "76414       10                   Shot   \n",
       "76457        8            Simple pass   \n",
       "76589       10                   Shot   \n",
       "76654        1               Air duel   \n",
       "\n",
       "                                                    tags  playerId  \\\n",
       "76412           [{'id': 501}, {'id': 703}, {'id': 1801}]      3322   \n",
       "76414  [{'id': 402}, {'id': 2101}, {'id': 201}, {'id'...      3322   \n",
       "76457                                     [{'id': 1801}]      3322   \n",
       "76589  [{'id': 402}, {'id': 201}, {'id': 1201}, {'id'...      3322   \n",
       "76654                        [{'id': 702}, {'id': 1801}]      3322   \n",
       "\n",
       "                                      positions  matchId eventName  teamId  \\\n",
       "76412  [{'y': 26, 'x': 96}, {'y': 27, 'x': 91}]  2565596      Duel     675   \n",
       "76414    [{'y': 27, 'x': 91}, {'y': 0, 'x': 0}]  2565596      Shot     675   \n",
       "76457  [{'y': 53, 'x': 68}, {'y': 67, 'x': 53}]  2565596      Pass     675   \n",
       "76589    [{'y': 48, 'x': 96}, {'y': 0, 'x': 0}]  2565596      Shot     675   \n",
       "76654  [{'y': 84, 'x': 62}, {'y': 81, 'x': 42}]  2565596      Duel     675   \n",
       "\n",
       "      matchPeriod    eventSec subEventId         id   Goal  Assists  \n",
       "76412          1H   28.108732         11  189337977  False    False  \n",
       "76414          1H   31.052085        100  189337978  False    False  \n",
       "76457          1H  146.902499         85  189338004  False    False  \n",
       "76589          1H  548.744061        100  189338889  False    False  \n",
       "76654          1H  713.899672         10  189338224  False    False  "
      ]
     },
     "execution_count": 32,
     "metadata": {},
     "output_type": "execute_result"
    }
   ],
   "source": [
    "ronaldo_events_data_df.head()"
   ]
  },
  {
   "cell_type": "code",
   "execution_count": 33,
   "id": "ee4b6e13-cddd-4a4c-b622-99febeb348ec",
   "metadata": {},
   "outputs": [],
   "source": [
    "#Adding match information to the events DataFrame\n",
    "ronaldo_events_data_df = pd.merge(ronaldo_events_data_df, real_madrid_matches_df, left_on='matchId', right_on='wyId', how=\"left\")"
   ]
  },
  {
   "cell_type": "code",
   "execution_count": 34,
   "id": "c6d4e9c2-a72c-4cca-95c7-739004a10870",
   "metadata": {},
   "outputs": [
    {
     "data": {
      "text/html": [
       "<div>\n",
       "<style scoped>\n",
       "    .dataframe tbody tr th:only-of-type {\n",
       "        vertical-align: middle;\n",
       "    }\n",
       "\n",
       "    .dataframe tbody tr th {\n",
       "        vertical-align: top;\n",
       "    }\n",
       "\n",
       "    .dataframe thead th {\n",
       "        text-align: right;\n",
       "    }\n",
       "</style>\n",
       "<table border=\"1\" class=\"dataframe\">\n",
       "  <thead>\n",
       "    <tr style=\"text-align: right;\">\n",
       "      <th></th>\n",
       "      <th>eventId</th>\n",
       "      <th>subEventName</th>\n",
       "      <th>tags</th>\n",
       "      <th>playerId</th>\n",
       "      <th>positions</th>\n",
       "      <th>matchId</th>\n",
       "      <th>eventName</th>\n",
       "      <th>teamId</th>\n",
       "      <th>matchPeriod</th>\n",
       "      <th>eventSec</th>\n",
       "      <th>...</th>\n",
       "      <th>seasonId</th>\n",
       "      <th>dateutc</th>\n",
       "      <th>winner</th>\n",
       "      <th>venue</th>\n",
       "      <th>wyId</th>\n",
       "      <th>label</th>\n",
       "      <th>date</th>\n",
       "      <th>referees</th>\n",
       "      <th>duration</th>\n",
       "      <th>competitionId</th>\n",
       "    </tr>\n",
       "  </thead>\n",
       "  <tbody>\n",
       "    <tr>\n",
       "      <th>0</th>\n",
       "      <td>1</td>\n",
       "      <td>Ground attacking duel</td>\n",
       "      <td>[{'id': 501}, {'id': 703}, {'id': 1801}]</td>\n",
       "      <td>3322</td>\n",
       "      <td>[{'y': 26, 'x': 96}, {'y': 27, 'x': 91}]</td>\n",
       "      <td>2565596</td>\n",
       "      <td>Duel</td>\n",
       "      <td>675</td>\n",
       "      <td>1H</td>\n",
       "      <td>28.108732</td>\n",
       "      <td>...</td>\n",
       "      <td>181144</td>\n",
       "      <td>2017-09-20 20:00:00</td>\n",
       "      <td>684</td>\n",
       "      <td>Estadio Santiago Bernab\\u00e9u</td>\n",
       "      <td>2565596</td>\n",
       "      <td>Real Madrid - Real Betis, 0 - 1</td>\n",
       "      <td>September 20, 2017 at 10:00:00 PM GMT+2</td>\n",
       "      <td>[{'refereeId': 384946, 'role': 'referee'}, {'r...</td>\n",
       "      <td>Regular</td>\n",
       "      <td>795</td>\n",
       "    </tr>\n",
       "    <tr>\n",
       "      <th>1</th>\n",
       "      <td>10</td>\n",
       "      <td>Shot</td>\n",
       "      <td>[{'id': 402}, {'id': 2101}, {'id': 201}, {'id'...</td>\n",
       "      <td>3322</td>\n",
       "      <td>[{'y': 27, 'x': 91}, {'y': 0, 'x': 0}]</td>\n",
       "      <td>2565596</td>\n",
       "      <td>Shot</td>\n",
       "      <td>675</td>\n",
       "      <td>1H</td>\n",
       "      <td>31.052085</td>\n",
       "      <td>...</td>\n",
       "      <td>181144</td>\n",
       "      <td>2017-09-20 20:00:00</td>\n",
       "      <td>684</td>\n",
       "      <td>Estadio Santiago Bernab\\u00e9u</td>\n",
       "      <td>2565596</td>\n",
       "      <td>Real Madrid - Real Betis, 0 - 1</td>\n",
       "      <td>September 20, 2017 at 10:00:00 PM GMT+2</td>\n",
       "      <td>[{'refereeId': 384946, 'role': 'referee'}, {'r...</td>\n",
       "      <td>Regular</td>\n",
       "      <td>795</td>\n",
       "    </tr>\n",
       "  </tbody>\n",
       "</table>\n",
       "<p>2 rows × 28 columns</p>\n",
       "</div>"
      ],
      "text/plain": [
       "   eventId           subEventName  \\\n",
       "0        1  Ground attacking duel   \n",
       "1       10                   Shot   \n",
       "\n",
       "                                                tags  playerId  \\\n",
       "0           [{'id': 501}, {'id': 703}, {'id': 1801}]      3322   \n",
       "1  [{'id': 402}, {'id': 2101}, {'id': 201}, {'id'...      3322   \n",
       "\n",
       "                                  positions  matchId eventName  teamId  \\\n",
       "0  [{'y': 26, 'x': 96}, {'y': 27, 'x': 91}]  2565596      Duel     675   \n",
       "1    [{'y': 27, 'x': 91}, {'y': 0, 'x': 0}]  2565596      Shot     675   \n",
       "\n",
       "  matchPeriod   eventSec  ... seasonId              dateutc  winner  \\\n",
       "0          1H  28.108732  ...   181144  2017-09-20 20:00:00     684   \n",
       "1          1H  31.052085  ...   181144  2017-09-20 20:00:00     684   \n",
       "\n",
       "                            venue     wyId                            label  \\\n",
       "0  Estadio Santiago Bernab\\u00e9u  2565596  Real Madrid - Real Betis, 0 - 1   \n",
       "1  Estadio Santiago Bernab\\u00e9u  2565596  Real Madrid - Real Betis, 0 - 1   \n",
       "\n",
       "                                      date  \\\n",
       "0  September 20, 2017 at 10:00:00 PM GMT+2   \n",
       "1  September 20, 2017 at 10:00:00 PM GMT+2   \n",
       "\n",
       "                                            referees  duration competitionId  \n",
       "0  [{'refereeId': 384946, 'role': 'referee'}, {'r...   Regular           795  \n",
       "1  [{'refereeId': 384946, 'role': 'referee'}, {'r...   Regular           795  \n",
       "\n",
       "[2 rows x 28 columns]"
      ]
     },
     "execution_count": 34,
     "metadata": {},
     "output_type": "execute_result"
    }
   ],
   "source": [
    "ronaldo_events_data_df.head(2)"
   ]
  },
  {
   "cell_type": "code",
   "execution_count": 35,
   "id": "9dad46ae-101b-4b4d-9403-e293793fe7f7",
   "metadata": {},
   "outputs": [
    {
     "name": "stdout",
     "output_type": "stream",
     "text": [
      "-----Ronaldos Goals, Assists Recieved and Shots Attemped-----\n"
     ]
    },
    {
     "data": {
      "text/html": [
       "<div>\n",
       "<style scoped>\n",
       "    .dataframe tbody tr th:only-of-type {\n",
       "        vertical-align: middle;\n",
       "    }\n",
       "\n",
       "    .dataframe tbody tr th {\n",
       "        vertical-align: top;\n",
       "    }\n",
       "\n",
       "    .dataframe thead th {\n",
       "        text-align: right;\n",
       "    }\n",
       "</style>\n",
       "<table border=\"1\" class=\"dataframe\">\n",
       "  <thead>\n",
       "    <tr style=\"text-align: right;\">\n",
       "      <th></th>\n",
       "      <th>Ronaldo</th>\n",
       "    </tr>\n",
       "  </thead>\n",
       "  <tbody>\n",
       "    <tr>\n",
       "      <th>Goal</th>\n",
       "      <td>26</td>\n",
       "    </tr>\n",
       "    <tr>\n",
       "      <th>Assists</th>\n",
       "      <td>5</td>\n",
       "    </tr>\n",
       "    <tr>\n",
       "      <th>Shots</th>\n",
       "      <td>151</td>\n",
       "    </tr>\n",
       "  </tbody>\n",
       "</table>\n",
       "</div>"
      ],
      "text/plain": [
       "         Ronaldo\n",
       "Goal          26\n",
       "Assists        5\n",
       "Shots        151"
      ]
     },
     "execution_count": 35,
     "metadata": {},
     "output_type": "execute_result"
    }
   ],
   "source": [
    "#Calculate number of goals scored\n",
    "goals = [ronaldo_events_data_df['Goal'].sum()]\n",
    "\n",
    "#Calculate number of assists\n",
    "assists = [ronaldo_events_data_df['Assists'].sum()]\n",
    "\n",
    "#Calculate number of shots attempted\n",
    "shots_attempted = [ronaldo_events_data_df[ronaldo_events_data_df['eventName'] == 'Shot'].count()['eventName']]\n",
    "\n",
    "\n",
    "statistics = pd.DataFrame([goals, assists, shots_attempted], \n",
    "                        columns=['Ronaldo'], \n",
    "                        index=['Goal', 'Assists', 'Shots'])\n",
    "\n",
    "print('-----Ronaldos Goals, Assists Recieved and Shots Attemped-----')\n",
    "statistics.head()"
   ]
  },
  {
   "cell_type": "markdown",
   "id": "34d6e43d-f1cb-4695-81df-d0c6c9a89570",
   "metadata": {},
   "source": [
    "<h3>Visualization</h3>"
   ]
  },
  {
   "cell_type": "code",
   "execution_count": 36,
   "id": "6b5a4143-2220-40c8-a0b7-c83727ba593a",
   "metadata": {},
   "outputs": [],
   "source": [
    "#Method to draw football pitch\n",
    "#initializing football pitch variables\n",
    "\n",
    "width = 700\n",
    "height = 350\n",
    "width_pitch = 104\n",
    "height_pitch = 68\n",
    "color = 'green'\n",
    "line_color = 'white'\n",
    "grey_color = '#808080'\n",
    " \n",
    "\n",
    "def draw_football_pitch():\n",
    "    \n",
    "    #Create  Figure for plotting\n",
    "    pitch = figure(width = width, height = height, toolbar_location=\"right\")\n",
    "    \n",
    "    #Draw outline for empty pitch - football ground\n",
    "    pitch.rect(x=width_pitch/2., y=height_pitch/2., width=width_pitch, height=height_pitch, fill_color=color, line_width=2, line_color=line_color)\n",
    "    \n",
    "    #Drawe left penalty area\n",
    "    pitch.circle(16.5, height_pitch/2., size=50, fill_color=color, line_width=2, line_color=line_color)\n",
    "    \n",
    "    #Draw Bigger rectangle\n",
    "    pitch.rect(x=16.5/2., y=height_pitch/2., width=16.5, height=40.3, fill_color=color, line_width=2, line_color=line_color)\n",
    "    \n",
    "    #Draw Smaller rectangle\n",
    "    pitch.rect(x=5.5/2., y=height_pitch/2., width=5.5, height=18.3, fill_color=color, line_width=2, line_color=line_color)\n",
    "    \n",
    "    #Draw Goal post\n",
    "    pitch.rect(x=0, y=height_pitch/2., width=0.5, height=7.3, fill_color=color, line_width=2, line_color=line_color)\n",
    "    \n",
    "    \n",
    "    #Draw Penalty spot\n",
    "    pitch.circle(11, height_pitch/2., size=2, fill_color=line_color, line_width=2, line_color=line_color)\n",
    "    \n",
    "    #Draw right penalty area\n",
    "    pitch.circle((width_pitch-16.5), height_pitch/2., size=50, fill_color=color, line_width=2, line_color=line_color)\n",
    "    \n",
    "    pitch.rect(x=width_pitch-(16.5/2.), y=height_pitch/2., width=16.5, height=40.3, fill_color=color, line_width=2, line_color=line_color)\n",
    "    \n",
    "    #Draw Smaller rectangle\n",
    "    pitch.rect(x=width_pitch-(5.5/2.), y=height_pitch/2., width=5.5, height=18.3, fill_color=color, line_width=2, line_color=line_color)\n",
    "    #Draw Goal post\n",
    "    pitch.rect(x=width_pitch, y=height_pitch/2., width=0.5, height=7.3, fill_color=line_color, line_width=2, line_color=line_color)\n",
    "    #Draw Penalty spot\n",
    "    pitch.circle((width_pitch-11), height_pitch/2., size=2, fill_color=line_color, line_width=2, line_color=line_color)\n",
    "    \n",
    "    #Draw middle of pitch\n",
    "    pitch.circle(width_pitch/2.0, y=height_pitch/2.0, size=100, fill_color=color, line_width=2, line_color=line_color)\n",
    "    pitch.circle(width_pitch/2.0, y=height_pitch/2.0, size=2, fill_color=line_color, line_width=2, line_color=line_color)\n",
    "    pitch.line([width_pitch/2.0, width_pitch/2.0], [0, height_pitch], line_width=2, line_color=line_color)\n",
    "    \n",
    "    return pitch\n",
    "    "
   ]
  },
  {
   "cell_type": "code",
   "execution_count": 37,
   "id": "fa873c7d-ee1e-4ac3-807f-d6047047e972",
   "metadata": {},
   "outputs": [],
   "source": [
    "#Plot positions from where goals were attempted\n",
    "def plot_position_data(player_data, action_name, color_of_plot):\n",
    "\n",
    "    x_axis = [(player_data[0]['x']*105)/100. for player_data in player_data]\n",
    "    y_axis = [(player_data[0]['y']*69)/100. for player_data in player_data]\n",
    "\n",
    "    pitch = draw_football_pitch()\n",
    "    pitch.circle(x_axis, y_axis, fill_color=color_of_plot, line_width=1, line_color=\"blue\", fill_alpha=0.2, size=8)\n",
    "    player_statistics = bokeh.models.Label(x=90, y=280,x_units='screen', y_units='screen', text=str(len(x_axis)) + \" \" + action_name, text_font_size= '20px', render_mode='css', text_color = 'white')\n",
    "    pitch.add_layout(player_statistics)\n",
    "\n",
    "    return pitch"
   ]
  },
  {
   "cell_type": "code",
   "execution_count": 38,
   "id": "0d6694fc-8e7f-46cc-873c-a1da7992dc03",
   "metadata": {},
   "outputs": [],
   "source": [
    "#Extract positions from columns from which goals were shot\n",
    "ronaldo_goals = ronaldo_events_data_df[ronaldo_events_data_df['Goal'] == True]['positions']"
   ]
  },
  {
   "cell_type": "code",
   "execution_count": 39,
   "id": "e9e9cc05-f2cf-48b0-a9f4-f724a83202df",
   "metadata": {},
   "outputs": [],
   "source": [
    "#Extract positions from where shots where attempted\n",
    "shots_data = ronaldo_events_data_df[ronaldo_events_data_df['eventName'] == 'Shot']\n",
    "ronaldo_shots = shots_data['positions']"
   ]
  },
  {
   "cell_type": "code",
   "execution_count": 40,
   "id": "09b41197-d512-4934-a37b-2d0e65e0ff1a",
   "metadata": {},
   "outputs": [],
   "source": [
    "#Plot ronaldo goals\n",
    "plot_goals = plot_position_data(ronaldo_goals, 'Goals', 'grey')"
   ]
  },
  {
   "cell_type": "code",
   "execution_count": 41,
   "id": "3b1011b9-f3dd-4f0c-bdfa-fef219a12f94",
   "metadata": {},
   "outputs": [],
   "source": [
    "#Plot shots\n",
    "plot_shots = plot_position_data(ronaldo_shots, 'Shots', 'grey')"
   ]
  },
  {
   "cell_type": "code",
   "execution_count": 42,
   "id": "e1b2793f-2e69-4fcc-9499-c14ff9794813",
   "metadata": {},
   "outputs": [
    {
     "data": {
      "text/html": [
       "\n",
       "\n",
       "\n",
       "\n",
       "\n",
       "\n",
       "  <div class=\"bk-root\" id=\"570bbd79-6574-4449-ae7b-69e4d324b5d6\" data-root-id=\"1125\"></div>\n"
      ]
     },
     "metadata": {},
     "output_type": "display_data"
    },
    {
     "data": {
      "application/javascript": [
       "(function(root) {\n",
       "  function embed_document(root) {\n",
       "    \n",
       "  const docs_json = {\"5e316dc1-d160-41a3-972a-379fc88ed4dd\":{\"defs\":[],\"roots\":{\"references\":[{\"attributes\":{\"below\":[{\"id\":\"1134\"}],\"center\":[{\"id\":\"1137\"},{\"id\":\"1141\"},{\"id\":\"1246\"}],\"height\":350,\"left\":[{\"id\":\"1138\"}],\"renderers\":[{\"id\":\"1160\"},{\"id\":\"1166\"},{\"id\":\"1172\"},{\"id\":\"1178\"},{\"id\":\"1184\"},{\"id\":\"1190\"},{\"id\":\"1196\"},{\"id\":\"1202\"},{\"id\":\"1208\"},{\"id\":\"1214\"},{\"id\":\"1220\"},{\"id\":\"1226\"},{\"id\":\"1232\"},{\"id\":\"1238\"},{\"id\":\"1244\"}],\"title\":{\"id\":\"1247\"},\"toolbar\":{\"id\":\"1149\"},\"width\":700,\"x_range\":{\"id\":\"1126\"},\"x_scale\":{\"id\":\"1130\"},\"y_range\":{\"id\":\"1128\"},\"y_scale\":{\"id\":\"1132\"}},\"id\":\"1125\",\"subtype\":\"Figure\",\"type\":\"Plot\"},{\"attributes\":{},\"id\":\"1266\",\"type\":\"Selection\"},{\"attributes\":{\"data\":{},\"selected\":{\"id\":\"1278\"},\"selection_policy\":{\"id\":\"1277\"}},\"id\":\"1222\",\"type\":\"ColumnDataSource\"},{\"attributes\":{\"coordinates\":null,\"data_source\":{\"id\":\"1216\"},\"glyph\":{\"id\":\"1217\"},\"group\":null,\"hover_glyph\":null,\"muted_glyph\":{\"id\":\"1219\"},\"nonselection_glyph\":{\"id\":\"1218\"},\"view\":{\"id\":\"1221\"}},\"id\":\"1220\",\"type\":\"GlyphRenderer\"},{\"attributes\":{\"source\":{\"id\":\"1216\"}},\"id\":\"1221\",\"type\":\"CDSView\"},{\"attributes\":{\"fill_alpha\":{\"value\":0.1},\"fill_color\":{\"value\":\"green\"},\"hatch_alpha\":{\"value\":0.1},\"line_alpha\":{\"value\":0.1},\"line_color\":{\"value\":\"white\"},\"line_width\":{\"value\":2},\"size\":{\"value\":100},\"x\":{\"value\":52.0},\"y\":{\"value\":34.0}},\"id\":\"1224\",\"type\":\"Circle\"},{\"attributes\":{\"fill_color\":{\"value\":\"green\"},\"line_color\":{\"value\":\"white\"},\"line_width\":{\"value\":2},\"size\":{\"value\":100},\"x\":{\"value\":52.0},\"y\":{\"value\":34.0}},\"id\":\"1223\",\"type\":\"Circle\"},{\"attributes\":{\"coordinates\":null,\"data_source\":{\"id\":\"1234\"},\"glyph\":{\"id\":\"1235\"},\"group\":null,\"hover_glyph\":null,\"muted_glyph\":{\"id\":\"1237\"},\"nonselection_glyph\":{\"id\":\"1236\"},\"view\":{\"id\":\"1239\"}},\"id\":\"1238\",\"type\":\"GlyphRenderer\"},{\"attributes\":{\"data\":{},\"selected\":{\"id\":\"1280\"},\"selection_policy\":{\"id\":\"1279\"}},\"id\":\"1228\",\"type\":\"ColumnDataSource\"},{\"attributes\":{\"fill_alpha\":{\"value\":0.1},\"fill_color\":{\"value\":\"white\"},\"hatch_alpha\":{\"value\":0.1},\"line_alpha\":{\"value\":0.1},\"line_color\":{\"value\":\"white\"},\"line_width\":{\"value\":2},\"size\":{\"value\":2},\"x\":{\"value\":52.0},\"y\":{\"value\":34.0}},\"id\":\"1230\",\"type\":\"Circle\"},{\"attributes\":{\"coordinates\":null,\"data_source\":{\"id\":\"1222\"},\"glyph\":{\"id\":\"1223\"},\"group\":null,\"hover_glyph\":null,\"muted_glyph\":{\"id\":\"1225\"},\"nonselection_glyph\":{\"id\":\"1224\"},\"view\":{\"id\":\"1227\"}},\"id\":\"1226\",\"type\":\"GlyphRenderer\"},{\"attributes\":{},\"id\":\"1265\",\"type\":\"UnionRenderers\"},{\"attributes\":{\"fill_alpha\":{\"value\":0.2},\"fill_color\":{\"value\":\"green\"},\"hatch_alpha\":{\"value\":0.2},\"line_alpha\":{\"value\":0.2},\"line_color\":{\"value\":\"white\"},\"line_width\":{\"value\":2},\"size\":{\"value\":100},\"x\":{\"value\":52.0},\"y\":{\"value\":34.0}},\"id\":\"1225\",\"type\":\"Circle\"},{\"attributes\":{\"source\":{\"id\":\"1222\"}},\"id\":\"1227\",\"type\":\"CDSView\"},{\"attributes\":{\"fill_color\":{\"value\":\"white\"},\"line_color\":{\"value\":\"white\"},\"line_width\":{\"value\":2},\"size\":{\"value\":2},\"x\":{\"value\":52.0},\"y\":{\"value\":34.0}},\"id\":\"1229\",\"type\":\"Circle\"},{\"attributes\":{\"data\":{\"x\":[52.0,52.0],\"y\":[0,68]},\"selected\":{\"id\":\"1282\"},\"selection_policy\":{\"id\":\"1281\"}},\"id\":\"1234\",\"type\":\"ColumnDataSource\"},{\"attributes\":{\"fill_alpha\":{\"value\":0.2},\"fill_color\":{\"value\":\"grey\"},\"line_color\":{\"value\":\"blue\"},\"size\":{\"value\":8},\"x\":{\"field\":\"x\"},\"y\":{\"field\":\"y\"}},\"id\":\"1241\",\"type\":\"Circle\"},{\"attributes\":{\"coordinates\":null,\"data_source\":{\"id\":\"1228\"},\"glyph\":{\"id\":\"1229\"},\"group\":null,\"hover_glyph\":null,\"muted_glyph\":{\"id\":\"1231\"},\"nonselection_glyph\":{\"id\":\"1230\"},\"view\":{\"id\":\"1233\"}},\"id\":\"1232\",\"type\":\"GlyphRenderer\"},{\"attributes\":{\"fill_alpha\":{\"value\":0.2},\"fill_color\":{\"value\":\"white\"},\"hatch_alpha\":{\"value\":0.2},\"line_alpha\":{\"value\":0.2},\"line_color\":{\"value\":\"white\"},\"line_width\":{\"value\":2},\"size\":{\"value\":2},\"x\":{\"value\":52.0},\"y\":{\"value\":34.0}},\"id\":\"1231\",\"type\":\"Circle\"},{\"attributes\":{},\"id\":\"1267\",\"type\":\"UnionRenderers\"},{\"attributes\":{\"source\":{\"id\":\"1228\"}},\"id\":\"1233\",\"type\":\"CDSView\"},{\"attributes\":{\"line_color\":\"white\",\"line_width\":2,\"x\":{\"field\":\"x\"},\"y\":{\"field\":\"y\"}},\"id\":\"1235\",\"type\":\"Line\"},{\"attributes\":{},\"id\":\"1268\",\"type\":\"Selection\"},{\"attributes\":{\"source\":{\"id\":\"1234\"}},\"id\":\"1239\",\"type\":\"CDSView\"},{\"attributes\":{\"line_alpha\":0.2,\"line_color\":\"white\",\"line_width\":2,\"x\":{\"field\":\"x\"},\"y\":{\"field\":\"y\"}},\"id\":\"1237\",\"type\":\"Line\"},{\"attributes\":{\"line_alpha\":0.1,\"line_color\":\"white\",\"line_width\":2,\"x\":{\"field\":\"x\"},\"y\":{\"field\":\"y\"}},\"id\":\"1236\",\"type\":\"Line\"},{\"attributes\":{\"data\":{\"x\":[95.55,100.8,90.3,92.4,94.5,97.65,91.35,94.5,90.3,98.7,93.45,77.7,92.4,85.05,94.5,97.65,94.5,95.55,91.35,87.15,101.85,95.55,84.0,95.55,101.85,95.55,85.05,89.25,96.6,93.45,94.5,94.5,96.6,95.55,85.05,97.65,87.15,94.5,88.2,87.15,95.55,92.4,74.55,100.8,89.25,93.45,93.45,99.75,87.15,97.65,88.2,92.4,90.3,91.35,92.4,98.7,97.65,95.55,98.7,96.6,84.0,91.35,89.25,93.45,93.45,94.5,90.3,98.7,95.55,92.4,99.75,93.45,96.6,82.95,94.5,99.75,77.7,91.35,97.65,101.85,96.6,93.45,99.75,96.6,93.45,93.45,100.8,100.8,93.45,82.95,102.9,90.3,95.55,96.6,93.45,100.8,99.75,90.3,94.5,94.5,90.3,94.5,93.45,91.35,93.45,91.35,92.4,92.4,90.3,97.65,90.3,85.05,99.75,101.85,92.4,92.4,92.4,90.3,79.8,98.7,96.6,91.35,95.55,76.65,94.5,93.45,95.55,100.8,92.4,101.85,75.6,91.35,95.55,93.45,93.45,93.45,93.45,96.6,89.25,95.55,98.7,92.4,103.95,97.65,93.45,91.35,100.8,75.6,77.7,97.65,94.5],\"y\":[18.63,33.12,45.54,33.12,18.63,37.95,48.3,42.09,33.12,42.78,21.39,23.46,47.61,16.56,25.53,42.78,40.02,28.98,33.12,51.75,29.67,41.4,36.57,42.78,45.54,47.61,22.77,33.12,33.81,38.64,36.57,38.64,40.02,23.46,44.16,29.67,24.84,23.46,43.47,33.81,46.23,45.54,43.47,44.85,34.5,37.95,40.71,31.74,20.7,43.47,46.92,29.67,39.33,46.23,42.78,30.36,30.36,25.53,18.63,33.12,13.11,42.78,33.81,38.64,49.68,19.32,16.56,43.47,46.23,38.64,33.81,19.32,51.06,25.53,27.6,37.95,15.87,27.6,40.02,31.05,35.19,17.94,22.08,35.19,38.64,18.63,22.77,36.57,44.16,21.39,24.15,43.47,33.12,34.5,40.02,28.29,31.74,44.85,42.09,23.46,38.64,22.08,31.74,22.77,31.74,24.15,34.5,37.95,33.81,43.47,35.88,23.46,33.81,31.05,28.98,29.67,44.16,36.57,36.57,34.5,20.7,31.74,20.7,39.33,26.22,35.19,40.71,33.12,36.57,41.4,34.5,37.26,42.78,37.95,30.36,18.63,29.67,42.78,18.63,47.61,33.12,9.66,35.19,37.95,45.54,21.39,44.85,18.63,26.22,33.12,45.54]},\"selected\":{\"id\":\"1284\"},\"selection_policy\":{\"id\":\"1283\"}},\"id\":\"1240\",\"type\":\"ColumnDataSource\"},{\"attributes\":{\"fill_alpha\":{\"value\":0.2},\"fill_color\":{\"value\":\"grey\"},\"hatch_alpha\":{\"value\":0.2},\"line_alpha\":{\"value\":0.2},\"line_color\":{\"value\":\"blue\"},\"size\":{\"value\":8},\"x\":{\"field\":\"x\"},\"y\":{\"field\":\"y\"}},\"id\":\"1243\",\"type\":\"Circle\"},{\"attributes\":{\"coordinates\":null,\"data_source\":{\"id\":\"1240\"},\"glyph\":{\"id\":\"1241\"},\"group\":null,\"hover_glyph\":null,\"muted_glyph\":{\"id\":\"1243\"},\"nonselection_glyph\":{\"id\":\"1242\"},\"view\":{\"id\":\"1245\"}},\"id\":\"1244\",\"type\":\"GlyphRenderer\"},{\"attributes\":{\"source\":{\"id\":\"1168\"}},\"id\":\"1173\",\"type\":\"CDSView\"},{\"attributes\":{\"fill_alpha\":{\"value\":0.1},\"fill_color\":{\"value\":\"grey\"},\"hatch_alpha\":{\"value\":0.1},\"line_alpha\":{\"value\":0.1},\"line_color\":{\"value\":\"blue\"},\"size\":{\"value\":8},\"x\":{\"field\":\"x\"},\"y\":{\"field\":\"y\"}},\"id\":\"1242\",\"type\":\"Circle\"},{\"attributes\":{\"source\":{\"id\":\"1240\"}},\"id\":\"1245\",\"type\":\"CDSView\"},{\"attributes\":{\"coordinates\":null,\"group\":null,\"render_mode\":\"css\",\"text\":\"151 Shots\",\"text_color\":\"white\",\"text_font_size\":\"20px\",\"x\":90,\"x_units\":\"screen\",\"y\":280,\"y_units\":\"screen\"},\"id\":\"1246\",\"type\":\"Label\"},{\"attributes\":{},\"id\":\"1250\",\"type\":\"BasicTickFormatter\"},{\"attributes\":{},\"id\":\"1251\",\"type\":\"AllLabels\"},{\"attributes\":{\"source\":{\"id\":\"1198\"}},\"id\":\"1203\",\"type\":\"CDSView\"},{\"attributes\":{},\"id\":\"1269\",\"type\":\"UnionRenderers\"},{\"attributes\":{},\"id\":\"1253\",\"type\":\"BasicTickFormatter\"},{\"attributes\":{},\"id\":\"1270\",\"type\":\"Selection\"},{\"attributes\":{},\"id\":\"1254\",\"type\":\"AllLabels\"},{\"attributes\":{\"coordinates\":null,\"group\":null},\"id\":\"1247\",\"type\":\"Title\"},{\"attributes\":{},\"id\":\"1255\",\"type\":\"UnionRenderers\"},{\"attributes\":{},\"id\":\"1271\",\"type\":\"UnionRenderers\"},{\"attributes\":{},\"id\":\"1256\",\"type\":\"Selection\"},{\"attributes\":{},\"id\":\"1272\",\"type\":\"Selection\"},{\"attributes\":{\"fill_alpha\":{\"value\":0.2},\"fill_color\":{\"value\":\"white\"},\"hatch_alpha\":{\"value\":0.2},\"height\":{\"value\":7.3},\"line_alpha\":{\"value\":0.2},\"line_color\":{\"value\":\"white\"},\"line_width\":{\"value\":2},\"width\":{\"value\":0.5},\"x\":{\"value\":104},\"y\":{\"value\":34.0}},\"id\":\"1213\",\"type\":\"Rect\"},{\"attributes\":{},\"id\":\"1257\",\"type\":\"UnionRenderers\"},{\"attributes\":{\"data\":{},\"selected\":{\"id\":\"1266\"},\"selection_policy\":{\"id\":\"1265\"}},\"id\":\"1186\",\"type\":\"ColumnDataSource\"},{\"attributes\":{},\"id\":\"1258\",\"type\":\"Selection\"},{\"attributes\":{},\"id\":\"1273\",\"type\":\"UnionRenderers\"},{\"attributes\":{\"axis\":{\"id\":\"1138\"},\"coordinates\":null,\"dimension\":1,\"group\":null,\"ticker\":null},\"id\":\"1141\",\"type\":\"Grid\"},{\"attributes\":{},\"id\":\"1274\",\"type\":\"Selection\"},{\"attributes\":{},\"id\":\"1281\",\"type\":\"UnionRenderers\"},{\"attributes\":{\"fill_alpha\":{\"value\":0.2},\"fill_color\":{\"value\":\"green\"},\"hatch_alpha\":{\"value\":0.2},\"height\":{\"value\":68},\"line_alpha\":{\"value\":0.2},\"line_color\":{\"value\":\"white\"},\"line_width\":{\"value\":2},\"width\":{\"value\":104},\"x\":{\"value\":52.0},\"y\":{\"value\":34.0}},\"id\":\"1159\",\"type\":\"Rect\"},{\"attributes\":{},\"id\":\"1139\",\"type\":\"BasicTicker\"},{\"attributes\":{},\"id\":\"1282\",\"type\":\"Selection\"},{\"attributes\":{\"source\":{\"id\":\"1156\"}},\"id\":\"1161\",\"type\":\"CDSView\"},{\"attributes\":{\"fill_color\":{\"value\":\"green\"},\"line_color\":{\"value\":\"white\"},\"line_width\":{\"value\":2},\"size\":{\"value\":50},\"x\":{\"value\":16.5},\"y\":{\"value\":34.0}},\"id\":\"1163\",\"type\":\"Circle\"},{\"attributes\":{\"coordinates\":null,\"data_source\":{\"id\":\"1156\"},\"glyph\":{\"id\":\"1157\"},\"group\":null,\"hover_glyph\":null,\"muted_glyph\":{\"id\":\"1159\"},\"nonselection_glyph\":{\"id\":\"1158\"},\"view\":{\"id\":\"1161\"}},\"id\":\"1160\",\"type\":\"GlyphRenderer\"},{\"attributes\":{\"coordinates\":null,\"formatter\":{\"id\":\"1250\"},\"group\":null,\"major_label_policy\":{\"id\":\"1251\"},\"ticker\":{\"id\":\"1139\"}},\"id\":\"1138\",\"type\":\"LinearAxis\"},{\"attributes\":{\"fill_alpha\":{\"value\":0.1},\"fill_color\":{\"value\":\"green\"},\"hatch_alpha\":{\"value\":0.1},\"line_alpha\":{\"value\":0.1},\"line_color\":{\"value\":\"white\"},\"line_width\":{\"value\":2},\"size\":{\"value\":50},\"x\":{\"value\":16.5},\"y\":{\"value\":34.0}},\"id\":\"1164\",\"type\":\"Circle\"},{\"attributes\":{\"data\":{},\"selected\":{\"id\":\"1258\"},\"selection_policy\":{\"id\":\"1257\"}},\"id\":\"1162\",\"type\":\"ColumnDataSource\"},{\"attributes\":{},\"id\":\"1283\",\"type\":\"UnionRenderers\"},{\"attributes\":{\"source\":{\"id\":\"1180\"}},\"id\":\"1185\",\"type\":\"CDSView\"},{\"attributes\":{\"source\":{\"id\":\"1162\"}},\"id\":\"1167\",\"type\":\"CDSView\"},{\"attributes\":{},\"id\":\"1259\",\"type\":\"UnionRenderers\"},{\"attributes\":{},\"id\":\"1284\",\"type\":\"Selection\"},{\"attributes\":{\"data\":{},\"selected\":{\"id\":\"1260\"},\"selection_policy\":{\"id\":\"1259\"}},\"id\":\"1168\",\"type\":\"ColumnDataSource\"},{\"attributes\":{},\"id\":\"1275\",\"type\":\"UnionRenderers\"},{\"attributes\":{\"fill_alpha\":{\"value\":0.2},\"fill_color\":{\"value\":\"green\"},\"hatch_alpha\":{\"value\":0.2},\"line_alpha\":{\"value\":0.2},\"line_color\":{\"value\":\"white\"},\"line_width\":{\"value\":2},\"size\":{\"value\":50},\"x\":{\"value\":16.5},\"y\":{\"value\":34.0}},\"id\":\"1165\",\"type\":\"Circle\"},{\"attributes\":{},\"id\":\"1260\",\"type\":\"Selection\"},{\"attributes\":{\"coordinates\":null,\"data_source\":{\"id\":\"1162\"},\"glyph\":{\"id\":\"1163\"},\"group\":null,\"hover_glyph\":null,\"muted_glyph\":{\"id\":\"1165\"},\"nonselection_glyph\":{\"id\":\"1164\"},\"view\":{\"id\":\"1167\"}},\"id\":\"1166\",\"type\":\"GlyphRenderer\"},{\"attributes\":{},\"id\":\"1276\",\"type\":\"Selection\"},{\"attributes\":{\"fill_alpha\":{\"value\":0.1},\"fill_color\":{\"value\":\"green\"},\"hatch_alpha\":{\"value\":0.1},\"height\":{\"value\":40.3},\"line_alpha\":{\"value\":0.1},\"line_color\":{\"value\":\"white\"},\"line_width\":{\"value\":2},\"width\":{\"value\":16.5},\"x\":{\"value\":8.25},\"y\":{\"value\":34.0}},\"id\":\"1170\",\"type\":\"Rect\"},{\"attributes\":{\"fill_color\":{\"value\":\"green\"},\"height\":{\"value\":40.3},\"line_color\":{\"value\":\"white\"},\"line_width\":{\"value\":2},\"width\":{\"value\":16.5},\"x\":{\"value\":8.25},\"y\":{\"value\":34.0}},\"id\":\"1169\",\"type\":\"Rect\"},{\"attributes\":{\"fill_alpha\":{\"value\":0.1},\"fill_color\":{\"value\":\"white\"},\"hatch_alpha\":{\"value\":0.1},\"line_alpha\":{\"value\":0.1},\"line_color\":{\"value\":\"white\"},\"line_width\":{\"value\":2},\"size\":{\"value\":2},\"x\":{\"value\":93},\"y\":{\"value\":34.0}},\"id\":\"1218\",\"type\":\"Circle\"},{\"attributes\":{\"fill_alpha\":{\"value\":0.2},\"fill_color\":{\"value\":\"green\"},\"hatch_alpha\":{\"value\":0.2},\"height\":{\"value\":40.3},\"line_alpha\":{\"value\":0.2},\"line_color\":{\"value\":\"white\"},\"line_width\":{\"value\":2},\"width\":{\"value\":16.5},\"x\":{\"value\":8.25},\"y\":{\"value\":34.0}},\"id\":\"1171\",\"type\":\"Rect\"},{\"attributes\":{\"fill_alpha\":{\"value\":0.2},\"fill_color\":{\"value\":\"green\"},\"hatch_alpha\":{\"value\":0.2},\"height\":{\"value\":18.3},\"line_alpha\":{\"value\":0.2},\"line_color\":{\"value\":\"white\"},\"line_width\":{\"value\":2},\"width\":{\"value\":5.5},\"x\":{\"value\":2.75},\"y\":{\"value\":34.0}},\"id\":\"1177\",\"type\":\"Rect\"},{\"attributes\":{},\"id\":\"1130\",\"type\":\"LinearScale\"},{\"attributes\":{\"fill_alpha\":{\"value\":0.1},\"fill_color\":{\"value\":\"green\"},\"hatch_alpha\":{\"value\":0.1},\"height\":{\"value\":18.3},\"line_alpha\":{\"value\":0.1},\"line_color\":{\"value\":\"white\"},\"line_width\":{\"value\":2},\"width\":{\"value\":5.5},\"x\":{\"value\":2.75},\"y\":{\"value\":34.0}},\"id\":\"1176\",\"type\":\"Rect\"},{\"attributes\":{},\"id\":\"1128\",\"type\":\"DataRange1d\"},{\"attributes\":{\"fill_color\":{\"value\":\"green\"},\"height\":{\"value\":18.3},\"line_color\":{\"value\":\"white\"},\"line_width\":{\"value\":2},\"width\":{\"value\":5.5},\"x\":{\"value\":2.75},\"y\":{\"value\":34.0}},\"id\":\"1175\",\"type\":\"Rect\"},{\"attributes\":{\"fill_alpha\":{\"value\":0.1},\"fill_color\":{\"value\":\"green\"},\"hatch_alpha\":{\"value\":0.1},\"height\":{\"value\":68},\"line_alpha\":{\"value\":0.1},\"line_color\":{\"value\":\"white\"},\"line_width\":{\"value\":2},\"width\":{\"value\":104},\"x\":{\"value\":52.0},\"y\":{\"value\":34.0}},\"id\":\"1158\",\"type\":\"Rect\"},{\"attributes\":{\"data\":{},\"selected\":{\"id\":\"1264\"},\"selection_policy\":{\"id\":\"1263\"}},\"id\":\"1180\",\"type\":\"ColumnDataSource\"},{\"attributes\":{\"data\":{},\"selected\":{\"id\":\"1262\"},\"selection_policy\":{\"id\":\"1261\"}},\"id\":\"1174\",\"type\":\"ColumnDataSource\"},{\"attributes\":{\"source\":{\"id\":\"1174\"}},\"id\":\"1179\",\"type\":\"CDSView\"},{\"attributes\":{\"fill_alpha\":{\"value\":0.2},\"fill_color\":{\"value\":\"green\"},\"hatch_alpha\":{\"value\":0.2},\"height\":{\"value\":7.3},\"line_alpha\":{\"value\":0.2},\"line_color\":{\"value\":\"white\"},\"line_width\":{\"value\":2},\"width\":{\"value\":0.5},\"x\":{\"value\":0},\"y\":{\"value\":34.0}},\"id\":\"1183\",\"type\":\"Rect\"},{\"attributes\":{\"coordinates\":null,\"data_source\":{\"id\":\"1180\"},\"glyph\":{\"id\":\"1181\"},\"group\":null,\"hover_glyph\":null,\"muted_glyph\":{\"id\":\"1183\"},\"nonselection_glyph\":{\"id\":\"1182\"},\"view\":{\"id\":\"1185\"}},\"id\":\"1184\",\"type\":\"GlyphRenderer\"},{\"attributes\":{},\"id\":\"1261\",\"type\":\"UnionRenderers\"},{\"attributes\":{\"fill_color\":{\"value\":\"green\"},\"line_color\":{\"value\":\"white\"},\"line_width\":{\"value\":2},\"size\":{\"value\":50},\"x\":{\"value\":87.5},\"y\":{\"value\":34.0}},\"id\":\"1193\",\"type\":\"Circle\"},{\"attributes\":{},\"id\":\"1277\",\"type\":\"UnionRenderers\"},{\"attributes\":{\"fill_alpha\":{\"value\":0.2},\"fill_color\":{\"value\":\"green\"},\"hatch_alpha\":{\"value\":0.2},\"height\":{\"value\":40.3},\"line_alpha\":{\"value\":0.2},\"line_color\":{\"value\":\"white\"},\"line_width\":{\"value\":2},\"width\":{\"value\":16.5},\"x\":{\"value\":95.75},\"y\":{\"value\":34.0}},\"id\":\"1201\",\"type\":\"Rect\"},{\"attributes\":{},\"id\":\"1262\",\"type\":\"Selection\"},{\"attributes\":{\"fill_color\":{\"value\":\"green\"},\"height\":{\"value\":40.3},\"line_color\":{\"value\":\"white\"},\"line_width\":{\"value\":2},\"width\":{\"value\":16.5},\"x\":{\"value\":95.75},\"y\":{\"value\":34.0}},\"id\":\"1199\",\"type\":\"Rect\"},{\"attributes\":{},\"id\":\"1278\",\"type\":\"Selection\"},{\"attributes\":{\"coordinates\":null,\"data_source\":{\"id\":\"1174\"},\"glyph\":{\"id\":\"1175\"},\"group\":null,\"hover_glyph\":null,\"muted_glyph\":{\"id\":\"1177\"},\"nonselection_glyph\":{\"id\":\"1176\"},\"view\":{\"id\":\"1179\"}},\"id\":\"1178\",\"type\":\"GlyphRenderer\"},{\"attributes\":{\"fill_alpha\":{\"value\":0.1},\"fill_color\":{\"value\":\"green\"},\"hatch_alpha\":{\"value\":0.1},\"height\":{\"value\":7.3},\"line_alpha\":{\"value\":0.1},\"line_color\":{\"value\":\"white\"},\"line_width\":{\"value\":2},\"width\":{\"value\":0.5},\"x\":{\"value\":0},\"y\":{\"value\":34.0}},\"id\":\"1182\",\"type\":\"Rect\"},{\"attributes\":{\"fill_alpha\":{\"value\":0.1},\"fill_color\":{\"value\":\"green\"},\"hatch_alpha\":{\"value\":0.1},\"height\":{\"value\":40.3},\"line_alpha\":{\"value\":0.1},\"line_color\":{\"value\":\"white\"},\"line_width\":{\"value\":2},\"width\":{\"value\":16.5},\"x\":{\"value\":95.75},\"y\":{\"value\":34.0}},\"id\":\"1200\",\"type\":\"Rect\"},{\"attributes\":{},\"id\":\"1146\",\"type\":\"ResetTool\"},{\"attributes\":{\"tools\":[{\"id\":\"1142\"},{\"id\":\"1143\"},{\"id\":\"1144\"},{\"id\":\"1145\"},{\"id\":\"1146\"},{\"id\":\"1147\"}]},\"id\":\"1149\",\"type\":\"Toolbar\"},{\"attributes\":{\"fill_color\":{\"value\":\"green\"},\"height\":{\"value\":7.3},\"line_color\":{\"value\":\"white\"},\"line_width\":{\"value\":2},\"width\":{\"value\":0.5},\"x\":{\"value\":0},\"y\":{\"value\":34.0}},\"id\":\"1181\",\"type\":\"Rect\"},{\"attributes\":{},\"id\":\"1126\",\"type\":\"DataRange1d\"},{\"attributes\":{\"data\":{},\"selected\":{\"id\":\"1272\"},\"selection_policy\":{\"id\":\"1271\"}},\"id\":\"1204\",\"type\":\"ColumnDataSource\"},{\"attributes\":{\"data\":{},\"selected\":{\"id\":\"1256\"},\"selection_policy\":{\"id\":\"1255\"}},\"id\":\"1156\",\"type\":\"ColumnDataSource\"},{\"attributes\":{\"fill_alpha\":{\"value\":0.2},\"fill_color\":{\"value\":\"green\"},\"hatch_alpha\":{\"value\":0.2},\"height\":{\"value\":18.3},\"line_alpha\":{\"value\":0.2},\"line_color\":{\"value\":\"white\"},\"line_width\":{\"value\":2},\"width\":{\"value\":5.5},\"x\":{\"value\":101.25},\"y\":{\"value\":34.0}},\"id\":\"1207\",\"type\":\"Rect\"},{\"attributes\":{\"fill_color\":{\"value\":\"green\"},\"height\":{\"value\":18.3},\"line_color\":{\"value\":\"white\"},\"line_width\":{\"value\":2},\"width\":{\"value\":5.5},\"x\":{\"value\":101.25},\"y\":{\"value\":34.0}},\"id\":\"1205\",\"type\":\"Rect\"},{\"attributes\":{\"bottom_units\":\"screen\",\"coordinates\":null,\"fill_alpha\":0.5,\"fill_color\":\"lightgrey\",\"group\":null,\"left_units\":\"screen\",\"level\":\"overlay\",\"line_alpha\":1.0,\"line_color\":\"black\",\"line_dash\":[4,4],\"line_width\":2,\"right_units\":\"screen\",\"syncable\":false,\"top_units\":\"screen\"},\"id\":\"1148\",\"type\":\"BoxAnnotation\"},{\"attributes\":{\"coordinates\":null,\"data_source\":{\"id\":\"1198\"},\"glyph\":{\"id\":\"1199\"},\"group\":null,\"hover_glyph\":null,\"muted_glyph\":{\"id\":\"1201\"},\"nonselection_glyph\":{\"id\":\"1200\"},\"view\":{\"id\":\"1203\"}},\"id\":\"1202\",\"type\":\"GlyphRenderer\"},{\"attributes\":{\"fill_alpha\":{\"value\":0.1},\"fill_color\":{\"value\":\"white\"},\"hatch_alpha\":{\"value\":0.1},\"height\":{\"value\":7.3},\"line_alpha\":{\"value\":0.1},\"line_color\":{\"value\":\"white\"},\"line_width\":{\"value\":2},\"width\":{\"value\":0.5},\"x\":{\"value\":104},\"y\":{\"value\":34.0}},\"id\":\"1212\",\"type\":\"Rect\"},{\"attributes\":{\"fill_alpha\":{\"value\":0.1},\"fill_color\":{\"value\":\"green\"},\"hatch_alpha\":{\"value\":0.1},\"height\":{\"value\":18.3},\"line_alpha\":{\"value\":0.1},\"line_color\":{\"value\":\"white\"},\"line_width\":{\"value\":2},\"width\":{\"value\":5.5},\"x\":{\"value\":101.25},\"y\":{\"value\":34.0}},\"id\":\"1206\",\"type\":\"Rect\"},{\"attributes\":{},\"id\":\"1145\",\"type\":\"SaveTool\"},{\"attributes\":{},\"id\":\"1142\",\"type\":\"PanTool\"},{\"attributes\":{\"fill_color\":{\"value\":\"white\"},\"height\":{\"value\":7.3},\"line_color\":{\"value\":\"white\"},\"line_width\":{\"value\":2},\"width\":{\"value\":0.5},\"x\":{\"value\":104},\"y\":{\"value\":34.0}},\"id\":\"1211\",\"type\":\"Rect\"},{\"attributes\":{\"fill_alpha\":{\"value\":0.2},\"fill_color\":{\"value\":\"green\"},\"hatch_alpha\":{\"value\":0.2},\"line_alpha\":{\"value\":0.2},\"line_color\":{\"value\":\"white\"},\"line_width\":{\"value\":2},\"size\":{\"value\":50},\"x\":{\"value\":87.5},\"y\":{\"value\":34.0}},\"id\":\"1195\",\"type\":\"Circle\"},{\"attributes\":{},\"id\":\"1263\",\"type\":\"UnionRenderers\"},{\"attributes\":{\"data\":{},\"selected\":{\"id\":\"1276\"},\"selection_policy\":{\"id\":\"1275\"}},\"id\":\"1216\",\"type\":\"ColumnDataSource\"},{\"attributes\":{},\"id\":\"1279\",\"type\":\"UnionRenderers\"},{\"attributes\":{},\"id\":\"1264\",\"type\":\"Selection\"},{\"attributes\":{},\"id\":\"1280\",\"type\":\"Selection\"},{\"attributes\":{},\"id\":\"1132\",\"type\":\"LinearScale\"},{\"attributes\":{\"coordinates\":null,\"data_source\":{\"id\":\"1210\"},\"glyph\":{\"id\":\"1211\"},\"group\":null,\"hover_glyph\":null,\"muted_glyph\":{\"id\":\"1213\"},\"nonselection_glyph\":{\"id\":\"1212\"},\"view\":{\"id\":\"1215\"}},\"id\":\"1214\",\"type\":\"GlyphRenderer\"},{\"attributes\":{\"coordinates\":null,\"formatter\":{\"id\":\"1253\"},\"group\":null,\"major_label_policy\":{\"id\":\"1254\"},\"ticker\":{\"id\":\"1135\"}},\"id\":\"1134\",\"type\":\"LinearAxis\"},{\"attributes\":{\"data\":{},\"selected\":{\"id\":\"1270\"},\"selection_policy\":{\"id\":\"1269\"}},\"id\":\"1198\",\"type\":\"ColumnDataSource\"},{\"attributes\":{\"fill_alpha\":{\"value\":0.1},\"fill_color\":{\"value\":\"green\"},\"hatch_alpha\":{\"value\":0.1},\"line_alpha\":{\"value\":0.1},\"line_color\":{\"value\":\"white\"},\"line_width\":{\"value\":2},\"size\":{\"value\":50},\"x\":{\"value\":87.5},\"y\":{\"value\":34.0}},\"id\":\"1194\",\"type\":\"Circle\"},{\"attributes\":{\"fill_color\":{\"value\":\"white\"},\"line_color\":{\"value\":\"white\"},\"line_width\":{\"value\":2},\"size\":{\"value\":2},\"x\":{\"value\":93},\"y\":{\"value\":34.0}},\"id\":\"1217\",\"type\":\"Circle\"},{\"attributes\":{\"fill_alpha\":{\"value\":0.2},\"fill_color\":{\"value\":\"white\"},\"hatch_alpha\":{\"value\":0.2},\"line_alpha\":{\"value\":0.2},\"line_color\":{\"value\":\"white\"},\"line_width\":{\"value\":2},\"size\":{\"value\":2},\"x\":{\"value\":93},\"y\":{\"value\":34.0}},\"id\":\"1219\",\"type\":\"Circle\"},{\"attributes\":{\"source\":{\"id\":\"1192\"}},\"id\":\"1197\",\"type\":\"CDSView\"},{\"attributes\":{\"source\":{\"id\":\"1186\"}},\"id\":\"1191\",\"type\":\"CDSView\"},{\"attributes\":{},\"id\":\"1147\",\"type\":\"HelpTool\"},{\"attributes\":{\"axis\":{\"id\":\"1134\"},\"coordinates\":null,\"group\":null,\"ticker\":null},\"id\":\"1137\",\"type\":\"Grid\"},{\"attributes\":{\"coordinates\":null,\"data_source\":{\"id\":\"1192\"},\"glyph\":{\"id\":\"1193\"},\"group\":null,\"hover_glyph\":null,\"muted_glyph\":{\"id\":\"1195\"},\"nonselection_glyph\":{\"id\":\"1194\"},\"view\":{\"id\":\"1197\"}},\"id\":\"1196\",\"type\":\"GlyphRenderer\"},{\"attributes\":{},\"id\":\"1135\",\"type\":\"BasicTicker\"},{\"attributes\":{\"fill_alpha\":{\"value\":0.1},\"fill_color\":{\"value\":\"white\"},\"hatch_alpha\":{\"value\":0.1},\"line_alpha\":{\"value\":0.1},\"line_color\":{\"value\":\"white\"},\"line_width\":{\"value\":2},\"size\":{\"value\":2},\"x\":{\"value\":11},\"y\":{\"value\":34.0}},\"id\":\"1188\",\"type\":\"Circle\"},{\"attributes\":{\"coordinates\":null,\"data_source\":{\"id\":\"1186\"},\"glyph\":{\"id\":\"1187\"},\"group\":null,\"hover_glyph\":null,\"muted_glyph\":{\"id\":\"1189\"},\"nonselection_glyph\":{\"id\":\"1188\"},\"view\":{\"id\":\"1191\"}},\"id\":\"1190\",\"type\":\"GlyphRenderer\"},{\"attributes\":{\"fill_color\":{\"value\":\"green\"},\"height\":{\"value\":68},\"line_color\":{\"value\":\"white\"},\"line_width\":{\"value\":2},\"width\":{\"value\":104},\"x\":{\"value\":52.0},\"y\":{\"value\":34.0}},\"id\":\"1157\",\"type\":\"Rect\"},{\"attributes\":{\"fill_alpha\":{\"value\":0.2},\"fill_color\":{\"value\":\"white\"},\"hatch_alpha\":{\"value\":0.2},\"line_alpha\":{\"value\":0.2},\"line_color\":{\"value\":\"white\"},\"line_width\":{\"value\":2},\"size\":{\"value\":2},\"x\":{\"value\":11},\"y\":{\"value\":34.0}},\"id\":\"1189\",\"type\":\"Circle\"},{\"attributes\":{},\"id\":\"1143\",\"type\":\"WheelZoomTool\"},{\"attributes\":{\"coordinates\":null,\"data_source\":{\"id\":\"1204\"},\"glyph\":{\"id\":\"1205\"},\"group\":null,\"hover_glyph\":null,\"muted_glyph\":{\"id\":\"1207\"},\"nonselection_glyph\":{\"id\":\"1206\"},\"view\":{\"id\":\"1209\"}},\"id\":\"1208\",\"type\":\"GlyphRenderer\"},{\"attributes\":{\"overlay\":{\"id\":\"1148\"}},\"id\":\"1144\",\"type\":\"BoxZoomTool\"},{\"attributes\":{\"coordinates\":null,\"data_source\":{\"id\":\"1168\"},\"glyph\":{\"id\":\"1169\"},\"group\":null,\"hover_glyph\":null,\"muted_glyph\":{\"id\":\"1171\"},\"nonselection_glyph\":{\"id\":\"1170\"},\"view\":{\"id\":\"1173\"}},\"id\":\"1172\",\"type\":\"GlyphRenderer\"},{\"attributes\":{\"source\":{\"id\":\"1204\"}},\"id\":\"1209\",\"type\":\"CDSView\"},{\"attributes\":{\"source\":{\"id\":\"1210\"}},\"id\":\"1215\",\"type\":\"CDSView\"},{\"attributes\":{\"data\":{},\"selected\":{\"id\":\"1274\"},\"selection_policy\":{\"id\":\"1273\"}},\"id\":\"1210\",\"type\":\"ColumnDataSource\"},{\"attributes\":{\"data\":{},\"selected\":{\"id\":\"1268\"},\"selection_policy\":{\"id\":\"1267\"}},\"id\":\"1192\",\"type\":\"ColumnDataSource\"},{\"attributes\":{\"fill_color\":{\"value\":\"white\"},\"line_color\":{\"value\":\"white\"},\"line_width\":{\"value\":2},\"size\":{\"value\":2},\"x\":{\"value\":11},\"y\":{\"value\":34.0}},\"id\":\"1187\",\"type\":\"Circle\"}],\"root_ids\":[\"1125\"]},\"title\":\"Bokeh Application\",\"version\":\"2.4.2\"}};\n",
       "  const render_items = [{\"docid\":\"5e316dc1-d160-41a3-972a-379fc88ed4dd\",\"root_ids\":[\"1125\"],\"roots\":{\"1125\":\"570bbd79-6574-4449-ae7b-69e4d324b5d6\"}}];\n",
       "  root.Bokeh.embed.embed_items_notebook(docs_json, render_items);\n",
       "\n",
       "  }\n",
       "  if (root.Bokeh !== undefined) {\n",
       "    embed_document(root);\n",
       "  } else {\n",
       "    let attempts = 0;\n",
       "    const timer = setInterval(function(root) {\n",
       "      if (root.Bokeh !== undefined) {\n",
       "        clearInterval(timer);\n",
       "        embed_document(root);\n",
       "      } else {\n",
       "        attempts++;\n",
       "        if (attempts > 100) {\n",
       "          clearInterval(timer);\n",
       "          console.log(\"Bokeh: ERROR: Unable to run BokehJS code because BokehJS library is missing\");\n",
       "        }\n",
       "      }\n",
       "    }, 10, root)\n",
       "  }\n",
       "})(window);"
      ],
      "application/vnd.bokehjs_exec.v0+json": ""
     },
     "metadata": {
      "application/vnd.bokehjs_exec.v0+json": {
       "id": "1125"
      }
     },
     "output_type": "display_data"
    }
   ],
   "source": [
    "#Visualize shots\n",
    "show(plot_shots)"
   ]
  },
  {
   "cell_type": "markdown",
   "id": "c7a4a3b2-c262-4954-89ef-8a3185120e0c",
   "metadata": {},
   "source": [
    "From the Visualization above we can observe that Ronaldo <b>Attempted 151 Goals </b>. Positions from which Ronaldo attempted a goal have been plotted which Blue circles."
   ]
  },
  {
   "cell_type": "code",
   "execution_count": 43,
   "id": "e5b705ea-637c-4906-896a-41c3ce28d9dc",
   "metadata": {},
   "outputs": [
    {
     "data": {
      "image/jpeg": "[encoded data removed]",
      "text/plain": [
       "<IPython.core.display.Image object>"
      ]
     },
     "metadata": {
      "image/jpeg": {
       "width": 100
      }
     },
     "output_type": "display_data"
    },
    {
     "data": {
      "text/html": [
       "\n",
       "\n",
       "\n",
       "\n",
       "\n",
       "\n",
       "  <div class=\"bk-root\" id=\"9c326736-897b-4f82-8f37-366915f14794\" data-root-id=\"1003\"></div>\n"
      ]
     },
     "metadata": {},
     "output_type": "display_data"
    },
    {
     "data": {
      "application/javascript": [
       "(function(root) {\n",
       "  function embed_document(root) {\n",
       "    \n",
       "  const docs_json = {\"c777b7ca-b45b-4d50-a1c7-5a3cc501ac8c\":{\"defs\":[],\"roots\":{\"references\":[{\"attributes\":{\"below\":[{\"id\":\"1012\"}],\"center\":[{\"id\":\"1015\"},{\"id\":\"1019\"},{\"id\":\"1124\"}],\"height\":350,\"left\":[{\"id\":\"1016\"}],\"renderers\":[{\"id\":\"1038\"},{\"id\":\"1044\"},{\"id\":\"1050\"},{\"id\":\"1056\"},{\"id\":\"1062\"},{\"id\":\"1068\"},{\"id\":\"1074\"},{\"id\":\"1080\"},{\"id\":\"1086\"},{\"id\":\"1092\"},{\"id\":\"1098\"},{\"id\":\"1104\"},{\"id\":\"1110\"},{\"id\":\"1116\"},{\"id\":\"1122\"}],\"title\":{\"id\":\"1520\"},\"toolbar\":{\"id\":\"1027\"},\"width\":700,\"x_range\":{\"id\":\"1004\"},\"x_scale\":{\"id\":\"1008\"},\"y_range\":{\"id\":\"1006\"},\"y_scale\":{\"id\":\"1010\"}},\"id\":\"1003\",\"subtype\":\"Figure\",\"type\":\"Plot\"},{\"attributes\":{},\"id\":\"1551\",\"type\":\"Selection\"},{\"attributes\":{\"fill_alpha\":{\"value\":0.2},\"fill_color\":{\"value\":\"green\"},\"hatch_alpha\":{\"value\":0.2},\"height\":{\"value\":18.3},\"line_alpha\":{\"value\":0.2},\"line_color\":{\"value\":\"white\"},\"line_width\":{\"value\":2},\"width\":{\"value\":5.5},\"x\":{\"value\":101.25},\"y\":{\"value\":34.0}},\"id\":\"1085\",\"type\":\"Rect\"},{\"attributes\":{\"data\":{},\"selected\":{\"id\":\"1529\"},\"selection_policy\":{\"id\":\"1528\"}},\"id\":\"1034\",\"type\":\"ColumnDataSource\"},{\"attributes\":{\"fill_color\":{\"value\":\"green\"},\"height\":{\"value\":18.3},\"line_color\":{\"value\":\"white\"},\"line_width\":{\"value\":2},\"width\":{\"value\":5.5},\"x\":{\"value\":101.25},\"y\":{\"value\":34.0}},\"id\":\"1083\",\"type\":\"Rect\"},{\"attributes\":{\"fill_color\":{\"value\":\"green\"},\"height\":{\"value\":40.3},\"line_color\":{\"value\":\"white\"},\"line_width\":{\"value\":2},\"width\":{\"value\":16.5},\"x\":{\"value\":95.75},\"y\":{\"value\":34.0}},\"id\":\"1077\",\"type\":\"Rect\"},{\"attributes\":{},\"id\":\"1552\",\"type\":\"UnionRenderers\"},{\"attributes\":{},\"id\":\"1534\",\"type\":\"UnionRenderers\"},{\"attributes\":{\"fill_color\":{\"value\":\"green\"},\"line_color\":{\"value\":\"white\"},\"line_width\":{\"value\":2},\"size\":{\"value\":50},\"x\":{\"value\":16.5},\"y\":{\"value\":34.0}},\"id\":\"1041\",\"type\":\"Circle\"},{\"attributes\":{\"fill_color\":{\"value\":\"green\"},\"height\":{\"value\":18.3},\"line_color\":{\"value\":\"white\"},\"line_width\":{\"value\":2},\"width\":{\"value\":5.5},\"x\":{\"value\":2.75},\"y\":{\"value\":34.0}},\"id\":\"1053\",\"type\":\"Rect\"},{\"attributes\":{},\"id\":\"1553\",\"type\":\"Selection\"},{\"attributes\":{\"coordinates\":null,\"data_source\":{\"id\":\"1040\"},\"glyph\":{\"id\":\"1041\"},\"group\":null,\"hover_glyph\":null,\"muted_glyph\":{\"id\":\"1043\"},\"nonselection_glyph\":{\"id\":\"1042\"},\"view\":{\"id\":\"1045\"}},\"id\":\"1044\",\"type\":\"GlyphRenderer\"},{\"attributes\":{\"source\":{\"id\":\"1070\"}},\"id\":\"1075\",\"type\":\"CDSView\"},{\"attributes\":{\"data\":{},\"selected\":{\"id\":\"1545\"},\"selection_policy\":{\"id\":\"1544\"}},\"id\":\"1082\",\"type\":\"ColumnDataSource\"},{\"attributes\":{\"fill_alpha\":{\"value\":0.1},\"fill_color\":{\"value\":\"green\"},\"hatch_alpha\":{\"value\":0.1},\"height\":{\"value\":18.3},\"line_alpha\":{\"value\":0.1},\"line_color\":{\"value\":\"white\"},\"line_width\":{\"value\":2},\"width\":{\"value\":5.5},\"x\":{\"value\":101.25},\"y\":{\"value\":34.0}},\"id\":\"1084\",\"type\":\"Rect\"},{\"attributes\":{\"source\":{\"id\":\"1034\"}},\"id\":\"1039\",\"type\":\"CDSView\"},{\"attributes\":{\"data\":{},\"selected\":{\"id\":\"1533\"},\"selection_policy\":{\"id\":\"1532\"}},\"id\":\"1046\",\"type\":\"ColumnDataSource\"},{\"attributes\":{\"fill_alpha\":{\"value\":0.2},\"fill_color\":{\"value\":\"green\"},\"hatch_alpha\":{\"value\":0.2},\"height\":{\"value\":40.3},\"line_alpha\":{\"value\":0.2},\"line_color\":{\"value\":\"white\"},\"line_width\":{\"value\":2},\"width\":{\"value\":16.5},\"x\":{\"value\":95.75},\"y\":{\"value\":34.0}},\"id\":\"1079\",\"type\":\"Rect\"},{\"attributes\":{},\"id\":\"1554\",\"type\":\"UnionRenderers\"},{\"attributes\":{\"coordinates\":null,\"data_source\":{\"id\":\"1046\"},\"glyph\":{\"id\":\"1047\"},\"group\":null,\"hover_glyph\":null,\"muted_glyph\":{\"id\":\"1049\"},\"nonselection_glyph\":{\"id\":\"1048\"},\"view\":{\"id\":\"1051\"}},\"id\":\"1050\",\"type\":\"GlyphRenderer\"},{\"attributes\":{},\"id\":\"1542\",\"type\":\"UnionRenderers\"},{\"attributes\":{},\"id\":\"1555\",\"type\":\"Selection\"},{\"attributes\":{\"fill_color\":{\"value\":\"green\"},\"height\":{\"value\":40.3},\"line_color\":{\"value\":\"white\"},\"line_width\":{\"value\":2},\"width\":{\"value\":16.5},\"x\":{\"value\":8.25},\"y\":{\"value\":34.0}},\"id\":\"1047\",\"type\":\"Rect\"},{\"attributes\":{\"source\":{\"id\":\"1076\"}},\"id\":\"1081\",\"type\":\"CDSView\"},{\"attributes\":{\"coordinates\":null,\"formatter\":{\"id\":\"1526\"},\"group\":null,\"major_label_policy\":{\"id\":\"1527\"},\"ticker\":{\"id\":\"1013\"}},\"id\":\"1012\",\"type\":\"LinearAxis\"},{\"attributes\":{\"fill_alpha\":{\"value\":0.2},\"fill_color\":{\"value\":\"green\"},\"hatch_alpha\":{\"value\":0.2},\"height\":{\"value\":40.3},\"line_alpha\":{\"value\":0.2},\"line_color\":{\"value\":\"white\"},\"line_width\":{\"value\":2},\"width\":{\"value\":16.5},\"x\":{\"value\":8.25},\"y\":{\"value\":34.0}},\"id\":\"1049\",\"type\":\"Rect\"},{\"attributes\":{},\"id\":\"1006\",\"type\":\"DataRange1d\"},{\"attributes\":{\"fill_alpha\":{\"value\":0.1},\"fill_color\":{\"value\":\"green\"},\"hatch_alpha\":{\"value\":0.1},\"line_alpha\":{\"value\":0.1},\"line_color\":{\"value\":\"white\"},\"line_width\":{\"value\":2},\"size\":{\"value\":50},\"x\":{\"value\":16.5},\"y\":{\"value\":34.0}},\"id\":\"1042\",\"type\":\"Circle\"},{\"attributes\":{\"coordinates\":null,\"data_source\":{\"id\":\"1070\"},\"glyph\":{\"id\":\"1071\"},\"group\":null,\"hover_glyph\":null,\"muted_glyph\":{\"id\":\"1073\"},\"nonselection_glyph\":{\"id\":\"1072\"},\"view\":{\"id\":\"1075\"}},\"id\":\"1074\",\"type\":\"GlyphRenderer\"},{\"attributes\":{\"fill_alpha\":{\"value\":0.1},\"fill_color\":{\"value\":\"green\"},\"hatch_alpha\":{\"value\":0.1},\"height\":{\"value\":68},\"line_alpha\":{\"value\":0.1},\"line_color\":{\"value\":\"white\"},\"line_width\":{\"value\":2},\"width\":{\"value\":104},\"x\":{\"value\":52.0},\"y\":{\"value\":34.0}},\"id\":\"1036\",\"type\":\"Rect\"},{\"attributes\":{\"fill_alpha\":{\"value\":0.2},\"fill_color\":{\"value\":\"green\"},\"hatch_alpha\":{\"value\":0.2},\"line_alpha\":{\"value\":0.2},\"line_color\":{\"value\":\"white\"},\"line_width\":{\"value\":2},\"size\":{\"value\":50},\"x\":{\"value\":16.5},\"y\":{\"value\":34.0}},\"id\":\"1043\",\"type\":\"Circle\"},{\"attributes\":{},\"id\":\"1556\",\"type\":\"UnionRenderers\"},{\"attributes\":{\"data\":{},\"selected\":{\"id\":\"1543\"},\"selection_policy\":{\"id\":\"1542\"}},\"id\":\"1076\",\"type\":\"ColumnDataSource\"},{\"attributes\":{},\"id\":\"1020\",\"type\":\"PanTool\"},{\"attributes\":{\"axis\":{\"id\":\"1012\"},\"coordinates\":null,\"group\":null,\"ticker\":null},\"id\":\"1015\",\"type\":\"Grid\"},{\"attributes\":{},\"id\":\"1557\",\"type\":\"Selection\"},{\"attributes\":{\"coordinates\":null,\"data_source\":{\"id\":\"1076\"},\"glyph\":{\"id\":\"1077\"},\"group\":null,\"hover_glyph\":null,\"muted_glyph\":{\"id\":\"1079\"},\"nonselection_glyph\":{\"id\":\"1078\"},\"view\":{\"id\":\"1081\"}},\"id\":\"1080\",\"type\":\"GlyphRenderer\"},{\"attributes\":{},\"id\":\"1550\",\"type\":\"UnionRenderers\"},{\"attributes\":{},\"id\":\"1013\",\"type\":\"BasicTicker\"},{\"attributes\":{\"data\":{},\"selected\":{\"id\":\"1531\"},\"selection_policy\":{\"id\":\"1530\"}},\"id\":\"1040\",\"type\":\"ColumnDataSource\"},{\"attributes\":{\"source\":{\"id\":\"1046\"}},\"id\":\"1051\",\"type\":\"CDSView\"},{\"attributes\":{\"fill_alpha\":{\"value\":0.1},\"fill_color\":{\"value\":\"green\"},\"hatch_alpha\":{\"value\":0.1},\"height\":{\"value\":40.3},\"line_alpha\":{\"value\":0.1},\"line_color\":{\"value\":\"white\"},\"line_width\":{\"value\":2},\"width\":{\"value\":16.5},\"x\":{\"value\":95.75},\"y\":{\"value\":34.0}},\"id\":\"1078\",\"type\":\"Rect\"},{\"attributes\":{\"fill_alpha\":{\"value\":0.2},\"fill_color\":{\"value\":\"green\"},\"hatch_alpha\":{\"value\":0.2},\"line_alpha\":{\"value\":0.2},\"line_color\":{\"value\":\"white\"},\"line_width\":{\"value\":2},\"size\":{\"value\":50},\"x\":{\"value\":87.5},\"y\":{\"value\":34.0}},\"id\":\"1073\",\"type\":\"Circle\"},{\"attributes\":{},\"id\":\"1021\",\"type\":\"WheelZoomTool\"},{\"attributes\":{\"coordinates\":null,\"data_source\":{\"id\":\"1034\"},\"glyph\":{\"id\":\"1035\"},\"group\":null,\"hover_glyph\":null,\"muted_glyph\":{\"id\":\"1037\"},\"nonselection_glyph\":{\"id\":\"1036\"},\"view\":{\"id\":\"1039\"}},\"id\":\"1038\",\"type\":\"GlyphRenderer\"},{\"attributes\":{\"fill_alpha\":{\"value\":0.1},\"fill_color\":{\"value\":\"green\"},\"hatch_alpha\":{\"value\":0.1},\"height\":{\"value\":40.3},\"line_alpha\":{\"value\":0.1},\"line_color\":{\"value\":\"white\"},\"line_width\":{\"value\":2},\"width\":{\"value\":16.5},\"x\":{\"value\":8.25},\"y\":{\"value\":34.0}},\"id\":\"1048\",\"type\":\"Rect\"},{\"attributes\":{\"source\":{\"id\":\"1040\"}},\"id\":\"1045\",\"type\":\"CDSView\"},{\"attributes\":{},\"id\":\"1017\",\"type\":\"BasicTicker\"},{\"attributes\":{\"coordinates\":null,\"formatter\":{\"id\":\"1523\"},\"group\":null,\"major_label_policy\":{\"id\":\"1524\"},\"ticker\":{\"id\":\"1017\"}},\"id\":\"1016\",\"type\":\"LinearAxis\"},{\"attributes\":{\"axis\":{\"id\":\"1016\"},\"coordinates\":null,\"dimension\":1,\"group\":null,\"ticker\":null},\"id\":\"1019\",\"type\":\"Grid\"},{\"attributes\":{},\"id\":\"1004\",\"type\":\"DataRange1d\"},{\"attributes\":{},\"id\":\"1535\",\"type\":\"Selection\"},{\"attributes\":{},\"id\":\"1543\",\"type\":\"Selection\"},{\"attributes\":{},\"id\":\"1526\",\"type\":\"BasicTickFormatter\"},{\"attributes\":{\"fill_alpha\":{\"value\":0.2},\"fill_color\":{\"value\":\"green\"},\"hatch_alpha\":{\"value\":0.2},\"height\":{\"value\":68},\"line_alpha\":{\"value\":0.2},\"line_color\":{\"value\":\"white\"},\"line_width\":{\"value\":2},\"width\":{\"value\":104},\"x\":{\"value\":52.0},\"y\":{\"value\":34.0}},\"id\":\"1037\",\"type\":\"Rect\"},{\"attributes\":{\"tools\":[{\"id\":\"1020\"},{\"id\":\"1021\"},{\"id\":\"1022\"},{\"id\":\"1023\"},{\"id\":\"1024\"},{\"id\":\"1025\"}]},\"id\":\"1027\",\"type\":\"Toolbar\"},{\"attributes\":{\"line_color\":\"white\",\"line_width\":2,\"x\":{\"field\":\"x\"},\"y\":{\"field\":\"y\"}},\"id\":\"1113\",\"type\":\"Line\"},{\"attributes\":{\"source\":{\"id\":\"1100\"}},\"id\":\"1105\",\"type\":\"CDSView\"},{\"attributes\":{},\"id\":\"1527\",\"type\":\"AllLabels\"},{\"attributes\":{\"source\":{\"id\":\"1064\"}},\"id\":\"1069\",\"type\":\"CDSView\"},{\"attributes\":{\"fill_alpha\":{\"value\":0.1},\"fill_color\":{\"value\":\"green\"},\"hatch_alpha\":{\"value\":0.1},\"line_alpha\":{\"value\":0.1},\"line_color\":{\"value\":\"white\"},\"line_width\":{\"value\":2},\"size\":{\"value\":100},\"x\":{\"value\":52.0},\"y\":{\"value\":34.0}},\"id\":\"1102\",\"type\":\"Circle\"},{\"attributes\":{\"data\":{},\"selected\":{\"id\":\"1551\"},\"selection_policy\":{\"id\":\"1550\"}},\"id\":\"1100\",\"type\":\"ColumnDataSource\"},{\"attributes\":{\"fill_alpha\":{\"value\":0.2},\"fill_color\":{\"value\":\"grey\"},\"hatch_alpha\":{\"value\":0.2},\"line_alpha\":{\"value\":0.2},\"line_color\":{\"value\":\"blue\"},\"size\":{\"value\":8},\"x\":{\"field\":\"x\"},\"y\":{\"field\":\"y\"}},\"id\":\"1121\",\"type\":\"Circle\"},{\"attributes\":{\"fill_color\":{\"value\":\"white\"},\"line_color\":{\"value\":\"white\"},\"line_width\":{\"value\":2},\"size\":{\"value\":2},\"x\":{\"value\":11},\"y\":{\"value\":34.0}},\"id\":\"1065\",\"type\":\"Circle\"},{\"attributes\":{\"fill_alpha\":{\"value\":0.1},\"fill_color\":{\"value\":\"green\"},\"hatch_alpha\":{\"value\":0.1},\"line_alpha\":{\"value\":0.1},\"line_color\":{\"value\":\"white\"},\"line_width\":{\"value\":2},\"size\":{\"value\":50},\"x\":{\"value\":87.5},\"y\":{\"value\":34.0}},\"id\":\"1072\",\"type\":\"Circle\"},{\"attributes\":{\"fill_color\":{\"value\":\"white\"},\"line_color\":{\"value\":\"white\"},\"line_width\":{\"value\":2},\"size\":{\"value\":2},\"x\":{\"value\":93},\"y\":{\"value\":34.0}},\"id\":\"1095\",\"type\":\"Circle\"},{\"attributes\":{\"line_alpha\":0.1,\"line_color\":\"white\",\"line_width\":2,\"x\":{\"field\":\"x\"},\"y\":{\"field\":\"y\"}},\"id\":\"1114\",\"type\":\"Line\"},{\"attributes\":{},\"id\":\"1025\",\"type\":\"HelpTool\"},{\"attributes\":{\"fill_alpha\":{\"value\":0.2},\"fill_color\":{\"value\":\"green\"},\"hatch_alpha\":{\"value\":0.2},\"line_alpha\":{\"value\":0.2},\"line_color\":{\"value\":\"white\"},\"line_width\":{\"value\":2},\"size\":{\"value\":100},\"x\":{\"value\":52.0},\"y\":{\"value\":34.0}},\"id\":\"1103\",\"type\":\"Circle\"},{\"attributes\":{\"coordinates\":null,\"data_source\":{\"id\":\"1058\"},\"glyph\":{\"id\":\"1059\"},\"group\":null,\"hover_glyph\":null,\"muted_glyph\":{\"id\":\"1061\"},\"nonselection_glyph\":{\"id\":\"1060\"},\"view\":{\"id\":\"1063\"}},\"id\":\"1062\",\"type\":\"GlyphRenderer\"},{\"attributes\":{\"fill_color\":{\"value\":\"green\"},\"line_color\":{\"value\":\"white\"},\"line_width\":{\"value\":2},\"size\":{\"value\":100},\"x\":{\"value\":52.0},\"y\":{\"value\":34.0}},\"id\":\"1101\",\"type\":\"Circle\"},{\"attributes\":{\"fill_alpha\":{\"value\":0.2},\"fill_color\":{\"value\":\"white\"},\"hatch_alpha\":{\"value\":0.2},\"line_alpha\":{\"value\":0.2},\"line_color\":{\"value\":\"white\"},\"line_width\":{\"value\":2},\"size\":{\"value\":2},\"x\":{\"value\":11},\"y\":{\"value\":34.0}},\"id\":\"1067\",\"type\":\"Circle\"},{\"attributes\":{},\"id\":\"1528\",\"type\":\"UnionRenderers\"},{\"attributes\":{},\"id\":\"1536\",\"type\":\"UnionRenderers\"},{\"attributes\":{},\"id\":\"1544\",\"type\":\"UnionRenderers\"},{\"attributes\":{},\"id\":\"1529\",\"type\":\"Selection\"},{\"attributes\":{},\"id\":\"1537\",\"type\":\"Selection\"},{\"attributes\":{},\"id\":\"1545\",\"type\":\"Selection\"},{\"attributes\":{\"data\":{\"x\":[95.55,99.75,92.4,94.5,101.85,96.6,94.5,94.5,95.55,93.45,100.8,94.5,92.4,92.4,90.3,101.85,92.4,98.7,91.35,93.45,100.8,92.4,95.55,98.7,103.95,97.65],\"y\":[41.4,31.74,42.78,34.5,31.05,35.19,34.5,34.5,33.12,40.02,28.29,22.08,34.5,37.95,35.88,31.05,28.98,34.5,31.74,35.19,33.12,36.57,42.78,33.12,35.19,33.12]},\"selected\":{\"id\":\"1557\"},\"selection_policy\":{\"id\":\"1556\"}},\"id\":\"1118\",\"type\":\"ColumnDataSource\"},{\"attributes\":{\"source\":{\"id\":\"1112\"}},\"id\":\"1117\",\"type\":\"CDSView\"},{\"attributes\":{\"fill_alpha\":{\"value\":0.2},\"fill_color\":{\"value\":\"green\"},\"hatch_alpha\":{\"value\":0.2},\"height\":{\"value\":18.3},\"line_alpha\":{\"value\":0.2},\"line_color\":{\"value\":\"white\"},\"line_width\":{\"value\":2},\"width\":{\"value\":5.5},\"x\":{\"value\":2.75},\"y\":{\"value\":34.0}},\"id\":\"1055\",\"type\":\"Rect\"},{\"attributes\":{\"source\":{\"id\":\"1118\"}},\"id\":\"1123\",\"type\":\"CDSView\"},{\"attributes\":{\"fill_alpha\":{\"value\":0.1},\"fill_color\":{\"value\":\"grey\"},\"hatch_alpha\":{\"value\":0.1},\"line_alpha\":{\"value\":0.1},\"line_color\":{\"value\":\"blue\"},\"size\":{\"value\":8},\"x\":{\"field\":\"x\"},\"y\":{\"field\":\"y\"}},\"id\":\"1120\",\"type\":\"Circle\"},{\"attributes\":{},\"id\":\"1024\",\"type\":\"ResetTool\"},{\"attributes\":{\"coordinates\":null,\"group\":null,\"render_mode\":\"css\",\"text\":\"26 Goals\",\"text_color\":\"white\",\"text_font_size\":\"20px\",\"x\":90,\"x_units\":\"screen\",\"y\":280,\"y_units\":\"screen\"},\"id\":\"1124\",\"type\":\"Label\"},{\"attributes\":{\"data\":{},\"selected\":{\"id\":\"1539\"},\"selection_policy\":{\"id\":\"1538\"}},\"id\":\"1064\",\"type\":\"ColumnDataSource\"},{\"attributes\":{\"source\":{\"id\":\"1052\"}},\"id\":\"1057\",\"type\":\"CDSView\"},{\"attributes\":{\"coordinates\":null,\"data_source\":{\"id\":\"1082\"},\"glyph\":{\"id\":\"1083\"},\"group\":null,\"hover_glyph\":null,\"muted_glyph\":{\"id\":\"1085\"},\"nonselection_glyph\":{\"id\":\"1084\"},\"view\":{\"id\":\"1087\"}},\"id\":\"1086\",\"type\":\"GlyphRenderer\"},{\"attributes\":{\"fill_alpha\":{\"value\":0.2},\"fill_color\":{\"value\":\"grey\"},\"line_color\":{\"value\":\"blue\"},\"size\":{\"value\":8},\"x\":{\"field\":\"x\"},\"y\":{\"field\":\"y\"}},\"id\":\"1119\",\"type\":\"Circle\"},{\"attributes\":{\"coordinates\":null,\"data_source\":{\"id\":\"1088\"},\"glyph\":{\"id\":\"1089\"},\"group\":null,\"hover_glyph\":null,\"muted_glyph\":{\"id\":\"1091\"},\"nonselection_glyph\":{\"id\":\"1090\"},\"view\":{\"id\":\"1093\"}},\"id\":\"1092\",\"type\":\"GlyphRenderer\"},{\"attributes\":{\"fill_alpha\":{\"value\":0.2},\"fill_color\":{\"value\":\"green\"},\"hatch_alpha\":{\"value\":0.2},\"height\":{\"value\":7.3},\"line_alpha\":{\"value\":0.2},\"line_color\":{\"value\":\"white\"},\"line_width\":{\"value\":2},\"width\":{\"value\":0.5},\"x\":{\"value\":0},\"y\":{\"value\":34.0}},\"id\":\"1061\",\"type\":\"Rect\"},{\"attributes\":{},\"id\":\"1023\",\"type\":\"SaveTool\"},{\"attributes\":{},\"id\":\"1530\",\"type\":\"UnionRenderers\"},{\"attributes\":{},\"id\":\"1538\",\"type\":\"UnionRenderers\"},{\"attributes\":{},\"id\":\"1546\",\"type\":\"UnionRenderers\"},{\"attributes\":{\"source\":{\"id\":\"1094\"}},\"id\":\"1099\",\"type\":\"CDSView\"},{\"attributes\":{\"bottom_units\":\"screen\",\"coordinates\":null,\"fill_alpha\":0.5,\"fill_color\":\"lightgrey\",\"group\":null,\"left_units\":\"screen\",\"level\":\"overlay\",\"line_alpha\":1.0,\"line_color\":\"black\",\"line_dash\":[4,4],\"line_width\":2,\"right_units\":\"screen\",\"syncable\":false,\"top_units\":\"screen\"},\"id\":\"1026\",\"type\":\"BoxAnnotation\"},{\"attributes\":{\"fill_alpha\":{\"value\":0.1},\"fill_color\":{\"value\":\"white\"},\"hatch_alpha\":{\"value\":0.1},\"line_alpha\":{\"value\":0.1},\"line_color\":{\"value\":\"white\"},\"line_width\":{\"value\":2},\"size\":{\"value\":2},\"x\":{\"value\":11},\"y\":{\"value\":34.0}},\"id\":\"1066\",\"type\":\"Circle\"},{\"attributes\":{\"fill_alpha\":{\"value\":0.1},\"fill_color\":{\"value\":\"white\"},\"hatch_alpha\":{\"value\":0.1},\"line_alpha\":{\"value\":0.1},\"line_color\":{\"value\":\"white\"},\"line_width\":{\"value\":2},\"size\":{\"value\":2},\"x\":{\"value\":52.0},\"y\":{\"value\":34.0}},\"id\":\"1108\",\"type\":\"Circle\"},{\"attributes\":{},\"id\":\"1531\",\"type\":\"Selection\"},{\"attributes\":{\"coordinates\":null,\"data_source\":{\"id\":\"1112\"},\"glyph\":{\"id\":\"1113\"},\"group\":null,\"hover_glyph\":null,\"muted_glyph\":{\"id\":\"1115\"},\"nonselection_glyph\":{\"id\":\"1114\"},\"view\":{\"id\":\"1117\"}},\"id\":\"1116\",\"type\":\"GlyphRenderer\"},{\"attributes\":{\"fill_alpha\":{\"value\":0.1},\"fill_color\":{\"value\":\"white\"},\"hatch_alpha\":{\"value\":0.1},\"line_alpha\":{\"value\":0.1},\"line_color\":{\"value\":\"white\"},\"line_width\":{\"value\":2},\"size\":{\"value\":2},\"x\":{\"value\":93},\"y\":{\"value\":34.0}},\"id\":\"1096\",\"type\":\"Circle\"},{\"attributes\":{},\"id\":\"1539\",\"type\":\"Selection\"},{\"attributes\":{\"fill_alpha\":{\"value\":0.2},\"fill_color\":{\"value\":\"white\"},\"hatch_alpha\":{\"value\":0.2},\"height\":{\"value\":7.3},\"line_alpha\":{\"value\":0.2},\"line_color\":{\"value\":\"white\"},\"line_width\":{\"value\":2},\"width\":{\"value\":0.5},\"x\":{\"value\":104},\"y\":{\"value\":34.0}},\"id\":\"1091\",\"type\":\"Rect\"},{\"attributes\":{},\"id\":\"1547\",\"type\":\"Selection\"},{\"attributes\":{\"data\":{},\"selected\":{\"id\":\"1537\"},\"selection_policy\":{\"id\":\"1536\"}},\"id\":\"1058\",\"type\":\"ColumnDataSource\"},{\"attributes\":{\"fill_alpha\":{\"value\":0.1},\"fill_color\":{\"value\":\"green\"},\"hatch_alpha\":{\"value\":0.1},\"height\":{\"value\":7.3},\"line_alpha\":{\"value\":0.1},\"line_color\":{\"value\":\"white\"},\"line_width\":{\"value\":2},\"width\":{\"value\":0.5},\"x\":{\"value\":0},\"y\":{\"value\":34.0}},\"id\":\"1060\",\"type\":\"Rect\"},{\"attributes\":{\"coordinates\":null,\"data_source\":{\"id\":\"1094\"},\"glyph\":{\"id\":\"1095\"},\"group\":null,\"hover_glyph\":null,\"muted_glyph\":{\"id\":\"1097\"},\"nonselection_glyph\":{\"id\":\"1096\"},\"view\":{\"id\":\"1099\"}},\"id\":\"1098\",\"type\":\"GlyphRenderer\"},{\"attributes\":{},\"id\":\"1524\",\"type\":\"AllLabels\"},{\"attributes\":{\"data\":{},\"selected\":{\"id\":\"1547\"},\"selection_policy\":{\"id\":\"1546\"}},\"id\":\"1088\",\"type\":\"ColumnDataSource\"},{\"attributes\":{\"source\":{\"id\":\"1106\"}},\"id\":\"1111\",\"type\":\"CDSView\"},{\"attributes\":{\"fill_color\":{\"value\":\"green\"},\"height\":{\"value\":7.3},\"line_color\":{\"value\":\"white\"},\"line_width\":{\"value\":2},\"width\":{\"value\":0.5},\"x\":{\"value\":0},\"y\":{\"value\":34.0}},\"id\":\"1059\",\"type\":\"Rect\"},{\"attributes\":{\"fill_color\":{\"value\":\"white\"},\"height\":{\"value\":7.3},\"line_color\":{\"value\":\"white\"},\"line_width\":{\"value\":2},\"width\":{\"value\":0.5},\"x\":{\"value\":104},\"y\":{\"value\":34.0}},\"id\":\"1089\",\"type\":\"Rect\"},{\"attributes\":{\"fill_alpha\":{\"value\":0.1},\"fill_color\":{\"value\":\"white\"},\"hatch_alpha\":{\"value\":0.1},\"height\":{\"value\":7.3},\"line_alpha\":{\"value\":0.1},\"line_color\":{\"value\":\"white\"},\"line_width\":{\"value\":2},\"width\":{\"value\":0.5},\"x\":{\"value\":104},\"y\":{\"value\":34.0}},\"id\":\"1090\",\"type\":\"Rect\"},{\"attributes\":{\"coordinates\":null,\"data_source\":{\"id\":\"1100\"},\"glyph\":{\"id\":\"1101\"},\"group\":null,\"hover_glyph\":null,\"muted_glyph\":{\"id\":\"1103\"},\"nonselection_glyph\":{\"id\":\"1102\"},\"view\":{\"id\":\"1105\"}},\"id\":\"1104\",\"type\":\"GlyphRenderer\"},{\"attributes\":{\"coordinates\":null,\"data_source\":{\"id\":\"1106\"},\"glyph\":{\"id\":\"1107\"},\"group\":null,\"hover_glyph\":null,\"muted_glyph\":{\"id\":\"1109\"},\"nonselection_glyph\":{\"id\":\"1108\"},\"view\":{\"id\":\"1111\"}},\"id\":\"1110\",\"type\":\"GlyphRenderer\"},{\"attributes\":{\"data\":{},\"selected\":{\"id\":\"1549\"},\"selection_policy\":{\"id\":\"1548\"}},\"id\":\"1094\",\"type\":\"ColumnDataSource\"},{\"attributes\":{\"data\":{\"x\":[52.0,52.0],\"y\":[0,68]},\"selected\":{\"id\":\"1555\"},\"selection_policy\":{\"id\":\"1554\"}},\"id\":\"1112\",\"type\":\"ColumnDataSource\"},{\"attributes\":{\"fill_alpha\":{\"value\":0.2},\"fill_color\":{\"value\":\"white\"},\"hatch_alpha\":{\"value\":0.2},\"line_alpha\":{\"value\":0.2},\"line_color\":{\"value\":\"white\"},\"line_width\":{\"value\":2},\"size\":{\"value\":2},\"x\":{\"value\":93},\"y\":{\"value\":34.0}},\"id\":\"1097\",\"type\":\"Circle\"},{\"attributes\":{\"overlay\":{\"id\":\"1026\"}},\"id\":\"1022\",\"type\":\"BoxZoomTool\"},{\"attributes\":{},\"id\":\"1008\",\"type\":\"LinearScale\"},{\"attributes\":{\"source\":{\"id\":\"1082\"}},\"id\":\"1087\",\"type\":\"CDSView\"},{\"attributes\":{},\"id\":\"1010\",\"type\":\"LinearScale\"},{\"attributes\":{\"data\":{},\"selected\":{\"id\":\"1535\"},\"selection_policy\":{\"id\":\"1534\"}},\"id\":\"1052\",\"type\":\"ColumnDataSource\"},{\"attributes\":{\"line_alpha\":0.2,\"line_color\":\"white\",\"line_width\":2,\"x\":{\"field\":\"x\"},\"y\":{\"field\":\"y\"}},\"id\":\"1115\",\"type\":\"Line\"},{\"attributes\":{\"data\":{},\"selected\":{\"id\":\"1553\"},\"selection_policy\":{\"id\":\"1552\"}},\"id\":\"1106\",\"type\":\"ColumnDataSource\"},{\"attributes\":{},\"id\":\"1532\",\"type\":\"UnionRenderers\"},{\"attributes\":{},\"id\":\"1540\",\"type\":\"UnionRenderers\"},{\"attributes\":{\"coordinates\":null,\"data_source\":{\"id\":\"1064\"},\"glyph\":{\"id\":\"1065\"},\"group\":null,\"hover_glyph\":null,\"muted_glyph\":{\"id\":\"1067\"},\"nonselection_glyph\":{\"id\":\"1066\"},\"view\":{\"id\":\"1069\"}},\"id\":\"1068\",\"type\":\"GlyphRenderer\"},{\"attributes\":{},\"id\":\"1548\",\"type\":\"UnionRenderers\"},{\"attributes\":{},\"id\":\"1533\",\"type\":\"Selection\"},{\"attributes\":{},\"id\":\"1541\",\"type\":\"Selection\"},{\"attributes\":{},\"id\":\"1549\",\"type\":\"Selection\"},{\"attributes\":{\"fill_color\":{\"value\":\"white\"},\"line_color\":{\"value\":\"white\"},\"line_width\":{\"value\":2},\"size\":{\"value\":2},\"x\":{\"value\":52.0},\"y\":{\"value\":34.0}},\"id\":\"1107\",\"type\":\"Circle\"},{\"attributes\":{\"source\":{\"id\":\"1058\"}},\"id\":\"1063\",\"type\":\"CDSView\"},{\"attributes\":{\"coordinates\":null,\"group\":null},\"id\":\"1520\",\"type\":\"Title\"},{\"attributes\":{},\"id\":\"1523\",\"type\":\"BasicTickFormatter\"},{\"attributes\":{\"fill_alpha\":{\"value\":0.1},\"fill_color\":{\"value\":\"green\"},\"hatch_alpha\":{\"value\":0.1},\"height\":{\"value\":18.3},\"line_alpha\":{\"value\":0.1},\"line_color\":{\"value\":\"white\"},\"line_width\":{\"value\":2},\"width\":{\"value\":5.5},\"x\":{\"value\":2.75},\"y\":{\"value\":34.0}},\"id\":\"1054\",\"type\":\"Rect\"},{\"attributes\":{\"data\":{},\"selected\":{\"id\":\"1541\"},\"selection_policy\":{\"id\":\"1540\"}},\"id\":\"1070\",\"type\":\"ColumnDataSource\"},{\"attributes\":{\"coordinates\":null,\"data_source\":{\"id\":\"1052\"},\"glyph\":{\"id\":\"1053\"},\"group\":null,\"hover_glyph\":null,\"muted_glyph\":{\"id\":\"1055\"},\"nonselection_glyph\":{\"id\":\"1054\"},\"view\":{\"id\":\"1057\"}},\"id\":\"1056\",\"type\":\"GlyphRenderer\"},{\"attributes\":{\"fill_color\":{\"value\":\"green\"},\"height\":{\"value\":68},\"line_color\":{\"value\":\"white\"},\"line_width\":{\"value\":2},\"width\":{\"value\":104},\"x\":{\"value\":52.0},\"y\":{\"value\":34.0}},\"id\":\"1035\",\"type\":\"Rect\"},{\"attributes\":{\"source\":{\"id\":\"1088\"}},\"id\":\"1093\",\"type\":\"CDSView\"},{\"attributes\":{\"fill_color\":{\"value\":\"green\"},\"line_color\":{\"value\":\"white\"},\"line_width\":{\"value\":2},\"size\":{\"value\":50},\"x\":{\"value\":87.5},\"y\":{\"value\":34.0}},\"id\":\"1071\",\"type\":\"Circle\"},{\"attributes\":{\"fill_alpha\":{\"value\":0.2},\"fill_color\":{\"value\":\"white\"},\"hatch_alpha\":{\"value\":0.2},\"line_alpha\":{\"value\":0.2},\"line_color\":{\"value\":\"white\"},\"line_width\":{\"value\":2},\"size\":{\"value\":2},\"x\":{\"value\":52.0},\"y\":{\"value\":34.0}},\"id\":\"1109\",\"type\":\"Circle\"},{\"attributes\":{\"coordinates\":null,\"data_source\":{\"id\":\"1118\"},\"glyph\":{\"id\":\"1119\"},\"group\":null,\"hover_glyph\":null,\"muted_glyph\":{\"id\":\"1121\"},\"nonselection_glyph\":{\"id\":\"1120\"},\"view\":{\"id\":\"1123\"}},\"id\":\"1122\",\"type\":\"GlyphRenderer\"}],\"root_ids\":[\"1003\"]},\"title\":\"Bokeh Application\",\"version\":\"2.4.2\"}};\n",
       "  const render_items = [{\"docid\":\"c777b7ca-b45b-4d50-a1c7-5a3cc501ac8c\",\"root_ids\":[\"1003\"],\"roots\":{\"1003\":\"9c326736-897b-4f82-8f37-366915f14794\"}}];\n",
       "  root.Bokeh.embed.embed_items_notebook(docs_json, render_items);\n",
       "\n",
       "  }\n",
       "  if (root.Bokeh !== undefined) {\n",
       "    embed_document(root);\n",
       "  } else {\n",
       "    let attempts = 0;\n",
       "    const timer = setInterval(function(root) {\n",
       "      if (root.Bokeh !== undefined) {\n",
       "        clearInterval(timer);\n",
       "        embed_document(root);\n",
       "      } else {\n",
       "        attempts++;\n",
       "        if (attempts > 100) {\n",
       "          clearInterval(timer);\n",
       "          console.log(\"Bokeh: ERROR: Unable to run BokehJS code because BokehJS library is missing\");\n",
       "        }\n",
       "      }\n",
       "    }, 10, root)\n",
       "  }\n",
       "})(window);"
      ],
      "application/vnd.bokehjs_exec.v0+json": ""
     },
     "metadata": {
      "application/vnd.bokehjs_exec.v0+json": {
       "id": "1003"
      }
     },
     "output_type": "display_data"
    }
   ],
   "source": [
    "#Visualize Goals\n",
    "display(Image('Ronaldo.jpeg', width=100))\n",
    "show(plot_goals)\n"
   ]
  },
  {
   "cell_type": "markdown",
   "id": "65186745-5aa1-4351-b3e6-cda0ef925073",
   "metadata": {},
   "source": [
    "### Observations"
   ]
  },
  {
   "cell_type": "markdown",
   "id": "e170bc84-ddd2-4c3f-a33d-f0e63ae7cb68",
   "metadata": {},
   "source": [
    "### Who could probably replace Ronaldo"
   ]
  },
  {
   "cell_type": "code",
   "execution_count": 58,
   "id": "98b3cdc7-aaba-4253-910a-6f92c19e5ae3",
   "metadata": {},
   "outputs": [
    {
     "name": "stdout",
     "output_type": "stream",
     "text": [
      "The highest goal scorer is Kylian Mbappe with 27 goals\n"
     ]
    },
    {
     "data": {
      "text/html": [
       "<div>\n",
       "<style scoped>\n",
       "    .dataframe tbody tr th:only-of-type {\n",
       "        vertical-align: middle;\n",
       "    }\n",
       "\n",
       "    .dataframe tbody tr th {\n",
       "        vertical-align: top;\n",
       "    }\n",
       "\n",
       "    .dataframe thead th {\n",
       "        text-align: right;\n",
       "    }\n",
       "</style>\n",
       "<table border=\"1\" class=\"dataframe\">\n",
       "  <thead>\n",
       "    <tr style=\"text-align: right;\">\n",
       "      <th></th>\n",
       "      <th>ID</th>\n",
       "      <th>Name</th>\n",
       "      <th>FullName</th>\n",
       "      <th>Age</th>\n",
       "      <th>Height</th>\n",
       "      <th>Weight</th>\n",
       "      <th>PhotoUrl</th>\n",
       "      <th>Nationality</th>\n",
       "      <th>Overall</th>\n",
       "      <th>Potential</th>\n",
       "      <th>...</th>\n",
       "      <th>LMRating</th>\n",
       "      <th>CMRating</th>\n",
       "      <th>RMRating</th>\n",
       "      <th>LWBRating</th>\n",
       "      <th>CDMRating</th>\n",
       "      <th>RWBRating</th>\n",
       "      <th>LBRating</th>\n",
       "      <th>CBRating</th>\n",
       "      <th>RBRating</th>\n",
       "      <th>GKRating</th>\n",
       "    </tr>\n",
       "  </thead>\n",
       "  <tbody>\n",
       "    <tr>\n",
       "      <th>0</th>\n",
       "      <td>158023</td>\n",
       "      <td>L. Messi</td>\n",
       "      <td>Lionel Messi</td>\n",
       "      <td>35</td>\n",
       "      <td>169</td>\n",
       "      <td>67</td>\n",
       "      <td>https://cdn.sofifa.net/players/158/023/23_60.png</td>\n",
       "      <td>Argentina</td>\n",
       "      <td>91</td>\n",
       "      <td>91</td>\n",
       "      <td>...</td>\n",
       "      <td>91</td>\n",
       "      <td>88</td>\n",
       "      <td>91</td>\n",
       "      <td>67</td>\n",
       "      <td>66</td>\n",
       "      <td>67</td>\n",
       "      <td>62</td>\n",
       "      <td>53</td>\n",
       "      <td>62</td>\n",
       "      <td>22</td>\n",
       "    </tr>\n",
       "    <tr>\n",
       "      <th>1</th>\n",
       "      <td>165153</td>\n",
       "      <td>K. Benzema</td>\n",
       "      <td>Karim Benzema</td>\n",
       "      <td>34</td>\n",
       "      <td>185</td>\n",
       "      <td>81</td>\n",
       "      <td>https://cdn.sofifa.net/players/165/153/23_60.png</td>\n",
       "      <td>France</td>\n",
       "      <td>91</td>\n",
       "      <td>91</td>\n",
       "      <td>...</td>\n",
       "      <td>89</td>\n",
       "      <td>84</td>\n",
       "      <td>89</td>\n",
       "      <td>67</td>\n",
       "      <td>67</td>\n",
       "      <td>67</td>\n",
       "      <td>63</td>\n",
       "      <td>58</td>\n",
       "      <td>63</td>\n",
       "      <td>21</td>\n",
       "    </tr>\n",
       "    <tr>\n",
       "      <th>2</th>\n",
       "      <td>188545</td>\n",
       "      <td>R. Lewandowski</td>\n",
       "      <td>Robert Lewandowski</td>\n",
       "      <td>33</td>\n",
       "      <td>185</td>\n",
       "      <td>81</td>\n",
       "      <td>https://cdn.sofifa.net/players/188/545/23_60.png</td>\n",
       "      <td>Poland</td>\n",
       "      <td>91</td>\n",
       "      <td>91</td>\n",
       "      <td>...</td>\n",
       "      <td>86</td>\n",
       "      <td>83</td>\n",
       "      <td>86</td>\n",
       "      <td>67</td>\n",
       "      <td>69</td>\n",
       "      <td>67</td>\n",
       "      <td>64</td>\n",
       "      <td>63</td>\n",
       "      <td>64</td>\n",
       "      <td>22</td>\n",
       "    </tr>\n",
       "    <tr>\n",
       "      <th>3</th>\n",
       "      <td>192985</td>\n",
       "      <td>K. De Bruyne</td>\n",
       "      <td>Kevin De Bruyne</td>\n",
       "      <td>31</td>\n",
       "      <td>181</td>\n",
       "      <td>70</td>\n",
       "      <td>https://cdn.sofifa.net/players/192/985/23_60.png</td>\n",
       "      <td>Belgium</td>\n",
       "      <td>91</td>\n",
       "      <td>91</td>\n",
       "      <td>...</td>\n",
       "      <td>91</td>\n",
       "      <td>91</td>\n",
       "      <td>91</td>\n",
       "      <td>82</td>\n",
       "      <td>82</td>\n",
       "      <td>82</td>\n",
       "      <td>78</td>\n",
       "      <td>72</td>\n",
       "      <td>78</td>\n",
       "      <td>24</td>\n",
       "    </tr>\n",
       "    <tr>\n",
       "      <th>4</th>\n",
       "      <td>231747</td>\n",
       "      <td>K. Mbappé</td>\n",
       "      <td>Kylian Mbappé</td>\n",
       "      <td>23</td>\n",
       "      <td>182</td>\n",
       "      <td>73</td>\n",
       "      <td>https://cdn.sofifa.net/players/231/747/23_60.png</td>\n",
       "      <td>France</td>\n",
       "      <td>91</td>\n",
       "      <td>95</td>\n",
       "      <td>...</td>\n",
       "      <td>92</td>\n",
       "      <td>84</td>\n",
       "      <td>92</td>\n",
       "      <td>70</td>\n",
       "      <td>66</td>\n",
       "      <td>70</td>\n",
       "      <td>66</td>\n",
       "      <td>57</td>\n",
       "      <td>66</td>\n",
       "      <td>21</td>\n",
       "    </tr>\n",
       "    <tr>\n",
       "      <th>...</th>\n",
       "      <td>...</td>\n",
       "      <td>...</td>\n",
       "      <td>...</td>\n",
       "      <td>...</td>\n",
       "      <td>...</td>\n",
       "      <td>...</td>\n",
       "      <td>...</td>\n",
       "      <td>...</td>\n",
       "      <td>...</td>\n",
       "      <td>...</td>\n",
       "      <td>...</td>\n",
       "      <td>...</td>\n",
       "      <td>...</td>\n",
       "      <td>...</td>\n",
       "      <td>...</td>\n",
       "      <td>...</td>\n",
       "      <td>...</td>\n",
       "      <td>...</td>\n",
       "      <td>...</td>\n",
       "      <td>...</td>\n",
       "      <td>...</td>\n",
       "    </tr>\n",
       "    <tr>\n",
       "      <th>18534</th>\n",
       "      <td>243725</td>\n",
       "      <td>D. Collins</td>\n",
       "      <td>Darren Collins</td>\n",
       "      <td>21</td>\n",
       "      <td>174</td>\n",
       "      <td>68</td>\n",
       "      <td>https://cdn.sofifa.net/players/243/725/23_60.png</td>\n",
       "      <td>Republic of Ireland</td>\n",
       "      <td>47</td>\n",
       "      <td>56</td>\n",
       "      <td>...</td>\n",
       "      <td>50</td>\n",
       "      <td>44</td>\n",
       "      <td>50</td>\n",
       "      <td>41</td>\n",
       "      <td>38</td>\n",
       "      <td>41</td>\n",
       "      <td>40</td>\n",
       "      <td>36</td>\n",
       "      <td>40</td>\n",
       "      <td>15</td>\n",
       "    </tr>\n",
       "    <tr>\n",
       "      <th>18535</th>\n",
       "      <td>261933</td>\n",
       "      <td>Yang Dejiang</td>\n",
       "      <td>Dejiang Yang</td>\n",
       "      <td>17</td>\n",
       "      <td>175</td>\n",
       "      <td>60</td>\n",
       "      <td>https://cdn.sofifa.net/players/261/933/23_60.png</td>\n",
       "      <td>China PR</td>\n",
       "      <td>47</td>\n",
       "      <td>57</td>\n",
       "      <td>...</td>\n",
       "      <td>45</td>\n",
       "      <td>45</td>\n",
       "      <td>45</td>\n",
       "      <td>47</td>\n",
       "      <td>48</td>\n",
       "      <td>47</td>\n",
       "      <td>49</td>\n",
       "      <td>49</td>\n",
       "      <td>49</td>\n",
       "      <td>15</td>\n",
       "    </tr>\n",
       "    <tr>\n",
       "      <th>18536</th>\n",
       "      <td>267823</td>\n",
       "      <td>L. Mullan</td>\n",
       "      <td>Liam Mullan</td>\n",
       "      <td>18</td>\n",
       "      <td>170</td>\n",
       "      <td>65</td>\n",
       "      <td>https://cdn.sofifa.net/players/267/823/23_60.png</td>\n",
       "      <td>Northern Ireland</td>\n",
       "      <td>47</td>\n",
       "      <td>67</td>\n",
       "      <td>...</td>\n",
       "      <td>52</td>\n",
       "      <td>49</td>\n",
       "      <td>52</td>\n",
       "      <td>46</td>\n",
       "      <td>44</td>\n",
       "      <td>46</td>\n",
       "      <td>46</td>\n",
       "      <td>42</td>\n",
       "      <td>46</td>\n",
       "      <td>17</td>\n",
       "    </tr>\n",
       "    <tr>\n",
       "      <th>18537</th>\n",
       "      <td>267824</td>\n",
       "      <td>D. McCallion</td>\n",
       "      <td>Daithí McCallion</td>\n",
       "      <td>17</td>\n",
       "      <td>178</td>\n",
       "      <td>65</td>\n",
       "      <td>https://cdn.sofifa.net/players/267/824/23_60.png</td>\n",
       "      <td>Republic of Ireland</td>\n",
       "      <td>47</td>\n",
       "      <td>61</td>\n",
       "      <td>...</td>\n",
       "      <td>33</td>\n",
       "      <td>33</td>\n",
       "      <td>33</td>\n",
       "      <td>44</td>\n",
       "      <td>42</td>\n",
       "      <td>44</td>\n",
       "      <td>47</td>\n",
       "      <td>49</td>\n",
       "      <td>47</td>\n",
       "      <td>15</td>\n",
       "    </tr>\n",
       "    <tr>\n",
       "      <th>18538</th>\n",
       "      <td>261424</td>\n",
       "      <td>N. Rabha</td>\n",
       "      <td>Nabin Rabha</td>\n",
       "      <td>25</td>\n",
       "      <td>176</td>\n",
       "      <td>66</td>\n",
       "      <td>https://cdn.sofifa.net/players/261/424/23_60.png</td>\n",
       "      <td>India</td>\n",
       "      <td>47</td>\n",
       "      <td>50</td>\n",
       "      <td>...</td>\n",
       "      <td>44</td>\n",
       "      <td>40</td>\n",
       "      <td>44</td>\n",
       "      <td>46</td>\n",
       "      <td>43</td>\n",
       "      <td>46</td>\n",
       "      <td>47</td>\n",
       "      <td>47</td>\n",
       "      <td>47</td>\n",
       "      <td>19</td>\n",
       "    </tr>\n",
       "  </tbody>\n",
       "</table>\n",
       "<p>18539 rows × 90 columns</p>\n",
       "</div>"
      ],
      "text/plain": [
       "           ID            Name            FullName  Age  Height  Weight  \\\n",
       "0      158023        L. Messi        Lionel Messi   35     169      67   \n",
       "1      165153      K. Benzema       Karim Benzema   34     185      81   \n",
       "2      188545  R. Lewandowski  Robert Lewandowski   33     185      81   \n",
       "3      192985    K. De Bruyne     Kevin De Bruyne   31     181      70   \n",
       "4      231747       K. Mbappé       Kylian Mbappé   23     182      73   \n",
       "...       ...             ...                 ...  ...     ...     ...   \n",
       "18534  243725      D. Collins      Darren Collins   21     174      68   \n",
       "18535  261933    Yang Dejiang        Dejiang Yang   17     175      60   \n",
       "18536  267823       L. Mullan         Liam Mullan   18     170      65   \n",
       "18537  267824    D. McCallion    Daithí McCallion   17     178      65   \n",
       "18538  261424        N. Rabha         Nabin Rabha   25     176      66   \n",
       "\n",
       "                                               PhotoUrl          Nationality  \\\n",
       "0      https://cdn.sofifa.net/players/158/023/23_60.png            Argentina   \n",
       "1      https://cdn.sofifa.net/players/165/153/23_60.png               France   \n",
       "2      https://cdn.sofifa.net/players/188/545/23_60.png               Poland   \n",
       "3      https://cdn.sofifa.net/players/192/985/23_60.png              Belgium   \n",
       "4      https://cdn.sofifa.net/players/231/747/23_60.png               France   \n",
       "...                                                 ...                  ...   \n",
       "18534  https://cdn.sofifa.net/players/243/725/23_60.png  Republic of Ireland   \n",
       "18535  https://cdn.sofifa.net/players/261/933/23_60.png             China PR   \n",
       "18536  https://cdn.sofifa.net/players/267/823/23_60.png     Northern Ireland   \n",
       "18537  https://cdn.sofifa.net/players/267/824/23_60.png  Republic of Ireland   \n",
       "18538  https://cdn.sofifa.net/players/261/424/23_60.png                India   \n",
       "\n",
       "       Overall  Potential  ...  LMRating  CMRating  RMRating LWBRating  \\\n",
       "0           91         91  ...        91        88        91        67   \n",
       "1           91         91  ...        89        84        89        67   \n",
       "2           91         91  ...        86        83        86        67   \n",
       "3           91         91  ...        91        91        91        82   \n",
       "4           91         95  ...        92        84        92        70   \n",
       "...        ...        ...  ...       ...       ...       ...       ...   \n",
       "18534       47         56  ...        50        44        50        41   \n",
       "18535       47         57  ...        45        45        45        47   \n",
       "18536       47         67  ...        52        49        52        46   \n",
       "18537       47         61  ...        33        33        33        44   \n",
       "18538       47         50  ...        44        40        44        46   \n",
       "\n",
       "      CDMRating RWBRating  LBRating  CBRating  RBRating GKRating  \n",
       "0            66        67        62        53        62       22  \n",
       "1            67        67        63        58        63       21  \n",
       "2            69        67        64        63        64       22  \n",
       "3            82        82        78        72        78       24  \n",
       "4            66        70        66        57        66       21  \n",
       "...         ...       ...       ...       ...       ...      ...  \n",
       "18534        38        41        40        36        40       15  \n",
       "18535        48        47        49        49        49       15  \n",
       "18536        44        46        46        42        46       17  \n",
       "18537        42        44        47        49        47       15  \n",
       "18538        43        46        47        47        47       19  \n",
       "\n",
       "[18539 rows x 90 columns]"
      ]
     },
     "execution_count": 58,
     "metadata": {},
     "output_type": "execute_result"
    }
   ],
   "source": [
    "# Load dataset \n",
    "\n",
    "players_df = pd.read_csv(\"ligue1stats.csv\") \n",
    "players_bio_df = pd.read_csv(\"players_fifa23.csv\") \n",
    "\n",
    "players_df.drop(columns='Unnamed: 0', inplace=True)\n",
    "players_df['player'] = players_df['player'].str.title()\n",
    "players_df.rename(columns = {\"position\":\"rank\"},inplace=True)\n",
    "\n",
    "highest_goal_scorer = players_df['player'][0]\n",
    "goals_count = players_df['goals'].max()\n",
    "\n",
    "print(f'The highest goal scorer is { highest_goal_scorer } with { goals_count } goals')\n",
    "players_bio_df"
   ]
  },
  {
   "cell_type": "code",
   "execution_count": 45,
   "id": "15b15eeb-350d-4a89-88dd-16c0af49079d",
   "metadata": {},
   "outputs": [
    {
     "data": {
      "text/html": [
       "<div>\n",
       "<style scoped>\n",
       "    .dataframe tbody tr th:only-of-type {\n",
       "        vertical-align: middle;\n",
       "    }\n",
       "\n",
       "    .dataframe tbody tr th {\n",
       "        vertical-align: top;\n",
       "    }\n",
       "\n",
       "    .dataframe thead th {\n",
       "        text-align: right;\n",
       "    }\n",
       "</style>\n",
       "<table border=\"1\" class=\"dataframe\">\n",
       "  <thead>\n",
       "    <tr style=\"text-align: right;\">\n",
       "      <th></th>\n",
       "      <th>FullName</th>\n",
       "      <th>Age</th>\n",
       "    </tr>\n",
       "  </thead>\n",
       "  <tbody>\n",
       "    <tr>\n",
       "      <th>4</th>\n",
       "      <td>Kylian Mbappé</td>\n",
       "      <td>23</td>\n",
       "    </tr>\n",
       "  </tbody>\n",
       "</table>\n",
       "</div>"
      ],
      "text/plain": [
       "        FullName  Age\n",
       "4  Kylian Mbappé   23"
      ]
     },
     "execution_count": 45,
     "metadata": {},
     "output_type": "execute_result"
    }
   ],
   "source": [
    "str = players_df['player'][0][7:12]\n",
    "\n",
    "players_bio_df = players_bio_df[['FullName','Age']]\n",
    "players_bio_df.loc[players_bio_df['FullName'].str.contains(str, case=False)]"
   ]
  },
  {
   "cell_type": "code",
   "execution_count": null,
   "id": "d5afc275-ed0c-406b-ad55-571714b9808e",
   "metadata": {},
   "outputs": [],
   "source": []
  },
  {
   "cell_type": "code",
   "execution_count": null,
   "id": "d8449966-e76b-4ac1-b754-50d3c41a1317",
   "metadata": {},
   "outputs": [],
   "source": []
  },
  {
   "cell_type": "code",
   "execution_count": null,
   "id": "e2e4509e-a87f-4264-bba2-80e67f44be18",
   "metadata": {},
   "outputs": [],
   "source": []
  }
 ],
 "metadata": {
  "kernelspec": {
   "display_name": "Python 3 (ipykernel)",
   "language": "python",
   "name": "python3"
  },
  "language_info": {
   "codemirror_mode": {
    "name": "ipython",
    "version": 3
   },
   "file_extension": ".py",
   "mimetype": "text/x-python",
   "name": "python",
   "nbconvert_exporter": "python",
   "pygments_lexer": "ipython3",
   "version": "3.9.12"
  }
 },
 "nbformat": 4,
 "nbformat_minor": 5
}
